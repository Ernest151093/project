{
 "cells": [
  {
   "cell_type": "markdown",
   "metadata": {},
   "source": [
    "# Отток клиентов"
   ]
  },
  {
   "cell_type": "markdown",
   "metadata": {},
   "source": [
    "Из «Бета-Банка» стали уходить клиенты. Каждый месяц. Немного, но заметно. Банковские маркетологи посчитали: сохранять текущих клиентов дешевле, чем привлекать новых.\n",
    "\n",
    "Нужно спрогнозировать, уйдёт клиент из банка в ближайшее время или нет. Вам предоставлены исторические данные о поведении клиентов и расторжении договоров с банком. \n",
    "\n"
   ]
  },
  {
   "cell_type": "markdown",
   "metadata": {},
   "source": [
    "### Содержание\n",
    "### [1. Подготовка данных](#section_id1)\n",
    "### [2. Исследование задачи](#section_id2)\n",
    "### [3. Борьба с дисбалансом](#section_id3)\n",
    "### [4. Тестирование модели](#section_id4)\n",
    "### [5. Вывод](#section_id5)"
   ]
  },
  {
   "cell_type": "markdown",
   "metadata": {},
   "source": [
    "<a id='section_id1'></a>"
   ]
  },
  {
   "cell_type": "markdown",
   "metadata": {},
   "source": [
    "# 1. Подготовка данных"
   ]
  },
  {
   "cell_type": "code",
   "execution_count": 1,
   "metadata": {},
   "outputs": [],
   "source": [
    "import pandas as pd\n",
    "import matplotlib.pyplot as plt\n",
    "from sklearn.tree import DecisionTreeClassifier\n",
    "from sklearn.ensemble import RandomForestClassifier\n",
    "from sklearn.linear_model import LogisticRegression\n",
    "from sklearn.metrics import f1_score, roc_curve, roc_auc_score\n",
    "from sklearn.model_selection import train_test_split\n",
    "from sklearn.preprocessing import StandardScaler\n",
    "from sklearn.metrics import f1_score\n",
    "from sklearn.utils import shuffle"
   ]
  },
  {
   "cell_type": "code",
   "execution_count": 2,
   "metadata": {},
   "outputs": [
    {
     "data": {
      "text/html": [
       "<div>\n",
       "<style scoped>\n",
       "    .dataframe tbody tr th:only-of-type {\n",
       "        vertical-align: middle;\n",
       "    }\n",
       "\n",
       "    .dataframe tbody tr th {\n",
       "        vertical-align: top;\n",
       "    }\n",
       "\n",
       "    .dataframe thead th {\n",
       "        text-align: right;\n",
       "    }\n",
       "</style>\n",
       "<table border=\"1\" class=\"dataframe\">\n",
       "  <thead>\n",
       "    <tr style=\"text-align: right;\">\n",
       "      <th></th>\n",
       "      <th>RowNumber</th>\n",
       "      <th>CustomerId</th>\n",
       "      <th>Surname</th>\n",
       "      <th>CreditScore</th>\n",
       "      <th>Geography</th>\n",
       "      <th>Gender</th>\n",
       "      <th>Age</th>\n",
       "      <th>Tenure</th>\n",
       "      <th>Balance</th>\n",
       "      <th>NumOfProducts</th>\n",
       "      <th>HasCrCard</th>\n",
       "      <th>IsActiveMember</th>\n",
       "      <th>EstimatedSalary</th>\n",
       "      <th>Exited</th>\n",
       "    </tr>\n",
       "  </thead>\n",
       "  <tbody>\n",
       "    <tr>\n",
       "      <td>0</td>\n",
       "      <td>1</td>\n",
       "      <td>15634602</td>\n",
       "      <td>Hargrave</td>\n",
       "      <td>619</td>\n",
       "      <td>France</td>\n",
       "      <td>Female</td>\n",
       "      <td>42</td>\n",
       "      <td>2.0</td>\n",
       "      <td>0.00</td>\n",
       "      <td>1</td>\n",
       "      <td>1</td>\n",
       "      <td>1</td>\n",
       "      <td>101348.88</td>\n",
       "      <td>1</td>\n",
       "    </tr>\n",
       "    <tr>\n",
       "      <td>1</td>\n",
       "      <td>2</td>\n",
       "      <td>15647311</td>\n",
       "      <td>Hill</td>\n",
       "      <td>608</td>\n",
       "      <td>Spain</td>\n",
       "      <td>Female</td>\n",
       "      <td>41</td>\n",
       "      <td>1.0</td>\n",
       "      <td>83807.86</td>\n",
       "      <td>1</td>\n",
       "      <td>0</td>\n",
       "      <td>1</td>\n",
       "      <td>112542.58</td>\n",
       "      <td>0</td>\n",
       "    </tr>\n",
       "    <tr>\n",
       "      <td>2</td>\n",
       "      <td>3</td>\n",
       "      <td>15619304</td>\n",
       "      <td>Onio</td>\n",
       "      <td>502</td>\n",
       "      <td>France</td>\n",
       "      <td>Female</td>\n",
       "      <td>42</td>\n",
       "      <td>8.0</td>\n",
       "      <td>159660.80</td>\n",
       "      <td>3</td>\n",
       "      <td>1</td>\n",
       "      <td>0</td>\n",
       "      <td>113931.57</td>\n",
       "      <td>1</td>\n",
       "    </tr>\n",
       "    <tr>\n",
       "      <td>3</td>\n",
       "      <td>4</td>\n",
       "      <td>15701354</td>\n",
       "      <td>Boni</td>\n",
       "      <td>699</td>\n",
       "      <td>France</td>\n",
       "      <td>Female</td>\n",
       "      <td>39</td>\n",
       "      <td>1.0</td>\n",
       "      <td>0.00</td>\n",
       "      <td>2</td>\n",
       "      <td>0</td>\n",
       "      <td>0</td>\n",
       "      <td>93826.63</td>\n",
       "      <td>0</td>\n",
       "    </tr>\n",
       "    <tr>\n",
       "      <td>4</td>\n",
       "      <td>5</td>\n",
       "      <td>15737888</td>\n",
       "      <td>Mitchell</td>\n",
       "      <td>850</td>\n",
       "      <td>Spain</td>\n",
       "      <td>Female</td>\n",
       "      <td>43</td>\n",
       "      <td>2.0</td>\n",
       "      <td>125510.82</td>\n",
       "      <td>1</td>\n",
       "      <td>1</td>\n",
       "      <td>1</td>\n",
       "      <td>79084.10</td>\n",
       "      <td>0</td>\n",
       "    </tr>\n",
       "  </tbody>\n",
       "</table>\n",
       "</div>"
      ],
      "text/plain": [
       "   RowNumber  CustomerId   Surname  CreditScore Geography  Gender  Age  \\\n",
       "0          1    15634602  Hargrave          619    France  Female   42   \n",
       "1          2    15647311      Hill          608     Spain  Female   41   \n",
       "2          3    15619304      Onio          502    France  Female   42   \n",
       "3          4    15701354      Boni          699    France  Female   39   \n",
       "4          5    15737888  Mitchell          850     Spain  Female   43   \n",
       "\n",
       "   Tenure    Balance  NumOfProducts  HasCrCard  IsActiveMember  \\\n",
       "0     2.0       0.00              1          1               1   \n",
       "1     1.0   83807.86              1          0               1   \n",
       "2     8.0  159660.80              3          1               0   \n",
       "3     1.0       0.00              2          0               0   \n",
       "4     2.0  125510.82              1          1               1   \n",
       "\n",
       "   EstimatedSalary  Exited  \n",
       "0        101348.88       1  \n",
       "1        112542.58       0  \n",
       "2        113931.57       1  \n",
       "3         93826.63       0  \n",
       "4         79084.10       0  "
      ]
     },
     "execution_count": 2,
     "metadata": {},
     "output_type": "execute_result"
    }
   ],
   "source": [
    "data = pd.read_csv('/datasets/Churn.csv')\n",
    "data.head()"
   ]
  },
  {
   "cell_type": "code",
   "execution_count": 3,
   "metadata": {},
   "outputs": [
    {
     "data": {
      "text/html": [
       "<div>\n",
       "<style scoped>\n",
       "    .dataframe tbody tr th:only-of-type {\n",
       "        vertical-align: middle;\n",
       "    }\n",
       "\n",
       "    .dataframe tbody tr th {\n",
       "        vertical-align: top;\n",
       "    }\n",
       "\n",
       "    .dataframe thead th {\n",
       "        text-align: right;\n",
       "    }\n",
       "</style>\n",
       "<table border=\"1\" class=\"dataframe\">\n",
       "  <thead>\n",
       "    <tr style=\"text-align: right;\">\n",
       "      <th></th>\n",
       "      <th>RowNumber</th>\n",
       "      <th>CustomerId</th>\n",
       "      <th>CreditScore</th>\n",
       "      <th>Age</th>\n",
       "      <th>Tenure</th>\n",
       "      <th>Balance</th>\n",
       "      <th>NumOfProducts</th>\n",
       "      <th>HasCrCard</th>\n",
       "      <th>IsActiveMember</th>\n",
       "      <th>EstimatedSalary</th>\n",
       "      <th>Exited</th>\n",
       "    </tr>\n",
       "  </thead>\n",
       "  <tbody>\n",
       "    <tr>\n",
       "      <td>count</td>\n",
       "      <td>10000.00000</td>\n",
       "      <td>1.000000e+04</td>\n",
       "      <td>10000.000000</td>\n",
       "      <td>10000.000000</td>\n",
       "      <td>9091.000000</td>\n",
       "      <td>10000.000000</td>\n",
       "      <td>10000.000000</td>\n",
       "      <td>10000.00000</td>\n",
       "      <td>10000.000000</td>\n",
       "      <td>10000.000000</td>\n",
       "      <td>10000.000000</td>\n",
       "    </tr>\n",
       "    <tr>\n",
       "      <td>mean</td>\n",
       "      <td>5000.50000</td>\n",
       "      <td>1.569094e+07</td>\n",
       "      <td>650.528800</td>\n",
       "      <td>38.921800</td>\n",
       "      <td>4.997690</td>\n",
       "      <td>76485.889288</td>\n",
       "      <td>1.530200</td>\n",
       "      <td>0.70550</td>\n",
       "      <td>0.515100</td>\n",
       "      <td>100090.239881</td>\n",
       "      <td>0.203700</td>\n",
       "    </tr>\n",
       "    <tr>\n",
       "      <td>std</td>\n",
       "      <td>2886.89568</td>\n",
       "      <td>7.193619e+04</td>\n",
       "      <td>96.653299</td>\n",
       "      <td>10.487806</td>\n",
       "      <td>2.894723</td>\n",
       "      <td>62397.405202</td>\n",
       "      <td>0.581654</td>\n",
       "      <td>0.45584</td>\n",
       "      <td>0.499797</td>\n",
       "      <td>57510.492818</td>\n",
       "      <td>0.402769</td>\n",
       "    </tr>\n",
       "    <tr>\n",
       "      <td>min</td>\n",
       "      <td>1.00000</td>\n",
       "      <td>1.556570e+07</td>\n",
       "      <td>350.000000</td>\n",
       "      <td>18.000000</td>\n",
       "      <td>0.000000</td>\n",
       "      <td>0.000000</td>\n",
       "      <td>1.000000</td>\n",
       "      <td>0.00000</td>\n",
       "      <td>0.000000</td>\n",
       "      <td>11.580000</td>\n",
       "      <td>0.000000</td>\n",
       "    </tr>\n",
       "    <tr>\n",
       "      <td>25%</td>\n",
       "      <td>2500.75000</td>\n",
       "      <td>1.562853e+07</td>\n",
       "      <td>584.000000</td>\n",
       "      <td>32.000000</td>\n",
       "      <td>2.000000</td>\n",
       "      <td>0.000000</td>\n",
       "      <td>1.000000</td>\n",
       "      <td>0.00000</td>\n",
       "      <td>0.000000</td>\n",
       "      <td>51002.110000</td>\n",
       "      <td>0.000000</td>\n",
       "    </tr>\n",
       "    <tr>\n",
       "      <td>50%</td>\n",
       "      <td>5000.50000</td>\n",
       "      <td>1.569074e+07</td>\n",
       "      <td>652.000000</td>\n",
       "      <td>37.000000</td>\n",
       "      <td>5.000000</td>\n",
       "      <td>97198.540000</td>\n",
       "      <td>1.000000</td>\n",
       "      <td>1.00000</td>\n",
       "      <td>1.000000</td>\n",
       "      <td>100193.915000</td>\n",
       "      <td>0.000000</td>\n",
       "    </tr>\n",
       "    <tr>\n",
       "      <td>75%</td>\n",
       "      <td>7500.25000</td>\n",
       "      <td>1.575323e+07</td>\n",
       "      <td>718.000000</td>\n",
       "      <td>44.000000</td>\n",
       "      <td>7.000000</td>\n",
       "      <td>127644.240000</td>\n",
       "      <td>2.000000</td>\n",
       "      <td>1.00000</td>\n",
       "      <td>1.000000</td>\n",
       "      <td>149388.247500</td>\n",
       "      <td>0.000000</td>\n",
       "    </tr>\n",
       "    <tr>\n",
       "      <td>max</td>\n",
       "      <td>10000.00000</td>\n",
       "      <td>1.581569e+07</td>\n",
       "      <td>850.000000</td>\n",
       "      <td>92.000000</td>\n",
       "      <td>10.000000</td>\n",
       "      <td>250898.090000</td>\n",
       "      <td>4.000000</td>\n",
       "      <td>1.00000</td>\n",
       "      <td>1.000000</td>\n",
       "      <td>199992.480000</td>\n",
       "      <td>1.000000</td>\n",
       "    </tr>\n",
       "  </tbody>\n",
       "</table>\n",
       "</div>"
      ],
      "text/plain": [
       "         RowNumber    CustomerId   CreditScore           Age       Tenure  \\\n",
       "count  10000.00000  1.000000e+04  10000.000000  10000.000000  9091.000000   \n",
       "mean    5000.50000  1.569094e+07    650.528800     38.921800     4.997690   \n",
       "std     2886.89568  7.193619e+04     96.653299     10.487806     2.894723   \n",
       "min        1.00000  1.556570e+07    350.000000     18.000000     0.000000   \n",
       "25%     2500.75000  1.562853e+07    584.000000     32.000000     2.000000   \n",
       "50%     5000.50000  1.569074e+07    652.000000     37.000000     5.000000   \n",
       "75%     7500.25000  1.575323e+07    718.000000     44.000000     7.000000   \n",
       "max    10000.00000  1.581569e+07    850.000000     92.000000    10.000000   \n",
       "\n",
       "             Balance  NumOfProducts    HasCrCard  IsActiveMember  \\\n",
       "count   10000.000000   10000.000000  10000.00000    10000.000000   \n",
       "mean    76485.889288       1.530200      0.70550        0.515100   \n",
       "std     62397.405202       0.581654      0.45584        0.499797   \n",
       "min         0.000000       1.000000      0.00000        0.000000   \n",
       "25%         0.000000       1.000000      0.00000        0.000000   \n",
       "50%     97198.540000       1.000000      1.00000        1.000000   \n",
       "75%    127644.240000       2.000000      1.00000        1.000000   \n",
       "max    250898.090000       4.000000      1.00000        1.000000   \n",
       "\n",
       "       EstimatedSalary        Exited  \n",
       "count     10000.000000  10000.000000  \n",
       "mean     100090.239881      0.203700  \n",
       "std       57510.492818      0.402769  \n",
       "min          11.580000      0.000000  \n",
       "25%       51002.110000      0.000000  \n",
       "50%      100193.915000      0.000000  \n",
       "75%      149388.247500      0.000000  \n",
       "max      199992.480000      1.000000  "
      ]
     },
     "execution_count": 3,
     "metadata": {},
     "output_type": "execute_result"
    }
   ],
   "source": [
    "data.describe()"
   ]
  },
  {
   "cell_type": "markdown",
   "metadata": {},
   "source": [
    "1. Средний возраст и возраст примерно одинаков и составляет 37 - 39 лет (минимальный возраст 18 лет, максимальный 92 года, что вполне вписывается в рамки).Распределение примерно симметричное.\n",
    "2. Кол-во недвижимости варьируется от 0 до 10 (среднее и медиана равны).\n",
    "3. У 25% клиентов на балансе фигурирует ноль, и скорее всего они кандидаты, чтобы покинуть банк Бетта.\n",
    "4. Интересный факт, что существует клиент, у которого зарплата равняется 11,58 условным единицам при средней в 100 тыс у.е."
   ]
  },
  {
   "cell_type": "code",
   "execution_count": 4,
   "metadata": {},
   "outputs": [
    {
     "name": "stdout",
     "output_type": "stream",
     "text": [
      "<class 'pandas.core.frame.DataFrame'>\n",
      "RangeIndex: 10000 entries, 0 to 9999\n",
      "Data columns (total 14 columns):\n",
      "RowNumber          10000 non-null int64\n",
      "CustomerId         10000 non-null int64\n",
      "Surname            10000 non-null object\n",
      "CreditScore        10000 non-null int64\n",
      "Geography          10000 non-null object\n",
      "Gender             10000 non-null object\n",
      "Age                10000 non-null int64\n",
      "Tenure             9091 non-null float64\n",
      "Balance            10000 non-null float64\n",
      "NumOfProducts      10000 non-null int64\n",
      "HasCrCard          10000 non-null int64\n",
      "IsActiveMember     10000 non-null int64\n",
      "EstimatedSalary    10000 non-null float64\n",
      "Exited             10000 non-null int64\n",
      "dtypes: float64(3), int64(8), object(3)\n",
      "memory usage: 1.1+ MB\n"
     ]
    }
   ],
   "source": [
    "data.info()"
   ]
  },
  {
   "cell_type": "markdown",
   "metadata": {},
   "source": [
    "Видим, что у 1000 клиентов отсутствуют данные по недвижимости (можем удалить, но тогда мы потеряем 10% данных о клиенте, учитывая то, что в других столбцах с данными все нормально, так что лучше оставим)"
   ]
  },
  {
   "cell_type": "code",
   "execution_count": 5,
   "metadata": {},
   "outputs": [
    {
     "data": {
      "text/plain": [
       "15812607    1\n",
       "15741078    1\n",
       "15635776    1\n",
       "15740223    1\n",
       "15738174    1\n",
       "           ..\n",
       "15743714    1\n",
       "15639265    1\n",
       "15641312    1\n",
       "15684319    1\n",
       "15695872    1\n",
       "Name: CustomerId, Length: 10000, dtype: int64"
      ]
     },
     "execution_count": 5,
     "metadata": {},
     "output_type": "execute_result"
    }
   ],
   "source": [
    "data['CustomerId'].value_counts()"
   ]
  },
  {
   "cell_type": "markdown",
   "metadata": {},
   "source": [
    "Дубликатов по id нет, каждая строка уникальная"
   ]
  },
  {
   "cell_type": "code",
   "execution_count": 6,
   "metadata": {
    "scrolled": true
   },
   "outputs": [
    {
     "data": {
      "text/html": [
       "<div>\n",
       "<style scoped>\n",
       "    .dataframe tbody tr th:only-of-type {\n",
       "        vertical-align: middle;\n",
       "    }\n",
       "\n",
       "    .dataframe tbody tr th {\n",
       "        vertical-align: top;\n",
       "    }\n",
       "\n",
       "    .dataframe thead th {\n",
       "        text-align: right;\n",
       "    }\n",
       "</style>\n",
       "<table border=\"1\" class=\"dataframe\">\n",
       "  <thead>\n",
       "    <tr style=\"text-align: right;\">\n",
       "      <th></th>\n",
       "      <th>RowNumber</th>\n",
       "      <th>CustomerId</th>\n",
       "      <th>CreditScore</th>\n",
       "      <th>Age</th>\n",
       "      <th>Tenure</th>\n",
       "      <th>Balance</th>\n",
       "      <th>NumOfProducts</th>\n",
       "      <th>HasCrCard</th>\n",
       "      <th>IsActiveMember</th>\n",
       "      <th>EstimatedSalary</th>\n",
       "      <th>Exited</th>\n",
       "    </tr>\n",
       "  </thead>\n",
       "  <tbody>\n",
       "    <tr>\n",
       "      <td>RowNumber</td>\n",
       "      <td>1.000000</td>\n",
       "      <td>0.004202</td>\n",
       "      <td>0.005840</td>\n",
       "      <td>0.000783</td>\n",
       "      <td>-0.007322</td>\n",
       "      <td>-0.009067</td>\n",
       "      <td>0.007246</td>\n",
       "      <td>0.000599</td>\n",
       "      <td>0.012044</td>\n",
       "      <td>-0.005988</td>\n",
       "      <td>-0.016571</td>\n",
       "    </tr>\n",
       "    <tr>\n",
       "      <td>CustomerId</td>\n",
       "      <td>0.004202</td>\n",
       "      <td>1.000000</td>\n",
       "      <td>0.005308</td>\n",
       "      <td>0.009497</td>\n",
       "      <td>-0.021418</td>\n",
       "      <td>-0.012419</td>\n",
       "      <td>0.016972</td>\n",
       "      <td>-0.014025</td>\n",
       "      <td>0.001665</td>\n",
       "      <td>0.015271</td>\n",
       "      <td>-0.006248</td>\n",
       "    </tr>\n",
       "    <tr>\n",
       "      <td>CreditScore</td>\n",
       "      <td>0.005840</td>\n",
       "      <td>0.005308</td>\n",
       "      <td>1.000000</td>\n",
       "      <td>-0.003965</td>\n",
       "      <td>-0.000062</td>\n",
       "      <td>0.006268</td>\n",
       "      <td>0.012238</td>\n",
       "      <td>-0.005458</td>\n",
       "      <td>0.025651</td>\n",
       "      <td>-0.001384</td>\n",
       "      <td>-0.027094</td>\n",
       "    </tr>\n",
       "    <tr>\n",
       "      <td>Age</td>\n",
       "      <td>0.000783</td>\n",
       "      <td>0.009497</td>\n",
       "      <td>-0.003965</td>\n",
       "      <td>1.000000</td>\n",
       "      <td>-0.013134</td>\n",
       "      <td>0.028308</td>\n",
       "      <td>-0.030680</td>\n",
       "      <td>-0.011721</td>\n",
       "      <td>0.085472</td>\n",
       "      <td>-0.007201</td>\n",
       "      <td>0.285323</td>\n",
       "    </tr>\n",
       "    <tr>\n",
       "      <td>Tenure</td>\n",
       "      <td>-0.007322</td>\n",
       "      <td>-0.021418</td>\n",
       "      <td>-0.000062</td>\n",
       "      <td>-0.013134</td>\n",
       "      <td>1.000000</td>\n",
       "      <td>-0.007911</td>\n",
       "      <td>0.011979</td>\n",
       "      <td>0.027232</td>\n",
       "      <td>-0.032178</td>\n",
       "      <td>0.010520</td>\n",
       "      <td>-0.016761</td>\n",
       "    </tr>\n",
       "    <tr>\n",
       "      <td>Balance</td>\n",
       "      <td>-0.009067</td>\n",
       "      <td>-0.012419</td>\n",
       "      <td>0.006268</td>\n",
       "      <td>0.028308</td>\n",
       "      <td>-0.007911</td>\n",
       "      <td>1.000000</td>\n",
       "      <td>-0.304180</td>\n",
       "      <td>-0.014858</td>\n",
       "      <td>-0.010084</td>\n",
       "      <td>0.012797</td>\n",
       "      <td>0.118533</td>\n",
       "    </tr>\n",
       "    <tr>\n",
       "      <td>NumOfProducts</td>\n",
       "      <td>0.007246</td>\n",
       "      <td>0.016972</td>\n",
       "      <td>0.012238</td>\n",
       "      <td>-0.030680</td>\n",
       "      <td>0.011979</td>\n",
       "      <td>-0.304180</td>\n",
       "      <td>1.000000</td>\n",
       "      <td>0.003183</td>\n",
       "      <td>0.009612</td>\n",
       "      <td>0.014204</td>\n",
       "      <td>-0.047820</td>\n",
       "    </tr>\n",
       "    <tr>\n",
       "      <td>HasCrCard</td>\n",
       "      <td>0.000599</td>\n",
       "      <td>-0.014025</td>\n",
       "      <td>-0.005458</td>\n",
       "      <td>-0.011721</td>\n",
       "      <td>0.027232</td>\n",
       "      <td>-0.014858</td>\n",
       "      <td>0.003183</td>\n",
       "      <td>1.000000</td>\n",
       "      <td>-0.011866</td>\n",
       "      <td>-0.009933</td>\n",
       "      <td>-0.007138</td>\n",
       "    </tr>\n",
       "    <tr>\n",
       "      <td>IsActiveMember</td>\n",
       "      <td>0.012044</td>\n",
       "      <td>0.001665</td>\n",
       "      <td>0.025651</td>\n",
       "      <td>0.085472</td>\n",
       "      <td>-0.032178</td>\n",
       "      <td>-0.010084</td>\n",
       "      <td>0.009612</td>\n",
       "      <td>-0.011866</td>\n",
       "      <td>1.000000</td>\n",
       "      <td>-0.011421</td>\n",
       "      <td>-0.156128</td>\n",
       "    </tr>\n",
       "    <tr>\n",
       "      <td>EstimatedSalary</td>\n",
       "      <td>-0.005988</td>\n",
       "      <td>0.015271</td>\n",
       "      <td>-0.001384</td>\n",
       "      <td>-0.007201</td>\n",
       "      <td>0.010520</td>\n",
       "      <td>0.012797</td>\n",
       "      <td>0.014204</td>\n",
       "      <td>-0.009933</td>\n",
       "      <td>-0.011421</td>\n",
       "      <td>1.000000</td>\n",
       "      <td>0.012097</td>\n",
       "    </tr>\n",
       "    <tr>\n",
       "      <td>Exited</td>\n",
       "      <td>-0.016571</td>\n",
       "      <td>-0.006248</td>\n",
       "      <td>-0.027094</td>\n",
       "      <td>0.285323</td>\n",
       "      <td>-0.016761</td>\n",
       "      <td>0.118533</td>\n",
       "      <td>-0.047820</td>\n",
       "      <td>-0.007138</td>\n",
       "      <td>-0.156128</td>\n",
       "      <td>0.012097</td>\n",
       "      <td>1.000000</td>\n",
       "    </tr>\n",
       "  </tbody>\n",
       "</table>\n",
       "</div>"
      ],
      "text/plain": [
       "                 RowNumber  CustomerId  CreditScore       Age    Tenure  \\\n",
       "RowNumber         1.000000    0.004202     0.005840  0.000783 -0.007322   \n",
       "CustomerId        0.004202    1.000000     0.005308  0.009497 -0.021418   \n",
       "CreditScore       0.005840    0.005308     1.000000 -0.003965 -0.000062   \n",
       "Age               0.000783    0.009497    -0.003965  1.000000 -0.013134   \n",
       "Tenure           -0.007322   -0.021418    -0.000062 -0.013134  1.000000   \n",
       "Balance          -0.009067   -0.012419     0.006268  0.028308 -0.007911   \n",
       "NumOfProducts     0.007246    0.016972     0.012238 -0.030680  0.011979   \n",
       "HasCrCard         0.000599   -0.014025    -0.005458 -0.011721  0.027232   \n",
       "IsActiveMember    0.012044    0.001665     0.025651  0.085472 -0.032178   \n",
       "EstimatedSalary  -0.005988    0.015271    -0.001384 -0.007201  0.010520   \n",
       "Exited           -0.016571   -0.006248    -0.027094  0.285323 -0.016761   \n",
       "\n",
       "                  Balance  NumOfProducts  HasCrCard  IsActiveMember  \\\n",
       "RowNumber       -0.009067       0.007246   0.000599        0.012044   \n",
       "CustomerId      -0.012419       0.016972  -0.014025        0.001665   \n",
       "CreditScore      0.006268       0.012238  -0.005458        0.025651   \n",
       "Age              0.028308      -0.030680  -0.011721        0.085472   \n",
       "Tenure          -0.007911       0.011979   0.027232       -0.032178   \n",
       "Balance          1.000000      -0.304180  -0.014858       -0.010084   \n",
       "NumOfProducts   -0.304180       1.000000   0.003183        0.009612   \n",
       "HasCrCard       -0.014858       0.003183   1.000000       -0.011866   \n",
       "IsActiveMember  -0.010084       0.009612  -0.011866        1.000000   \n",
       "EstimatedSalary  0.012797       0.014204  -0.009933       -0.011421   \n",
       "Exited           0.118533      -0.047820  -0.007138       -0.156128   \n",
       "\n",
       "                 EstimatedSalary    Exited  \n",
       "RowNumber              -0.005988 -0.016571  \n",
       "CustomerId              0.015271 -0.006248  \n",
       "CreditScore            -0.001384 -0.027094  \n",
       "Age                    -0.007201  0.285323  \n",
       "Tenure                  0.010520 -0.016761  \n",
       "Balance                 0.012797  0.118533  \n",
       "NumOfProducts           0.014204 -0.047820  \n",
       "HasCrCard              -0.009933 -0.007138  \n",
       "IsActiveMember         -0.011421 -0.156128  \n",
       "EstimatedSalary         1.000000  0.012097  \n",
       "Exited                  0.012097  1.000000  "
      ]
     },
     "execution_count": 6,
     "metadata": {},
     "output_type": "execute_result"
    }
   ],
   "source": [
    "#проверим данные на мультиколлинеарность\n",
    "data.corr()"
   ]
  },
  {
   "cell_type": "markdown",
   "metadata": {},
   "source": [
    "Сильной зависимости признаков мы не видим, поэтому удалить какой-либо из столбцов мы не имеем права. Однаком мы видим, что при увеличении возраста, риск покинуть банк выше. Также наблюдаем отрицательную корреляцию активности клиента с признаком ухода из банка (чем клиент активнее, тем ниже шанс покинуть банк)."
   ]
  },
  {
   "cell_type": "code",
   "execution_count": 7,
   "metadata": {},
   "outputs": [
    {
     "data": {
      "text/plain": [
       "<matplotlib.axes._subplots.AxesSubplot at 0x7f7342524290>"
      ]
     },
     "execution_count": 7,
     "metadata": {},
     "output_type": "execute_result"
    },
    {
     "data": {
      "image/png": "[encoded data removed]",
      "text/plain": [
       "<Figure size 432x288 with 1 Axes>"
      ]
     },
     "metadata": {
      "needs_background": "light"
     },
     "output_type": "display_data"
    }
   ],
   "source": [
    "data['Balance'].hist(bins=50)"
   ]
  },
  {
   "cell_type": "markdown",
   "metadata": {},
   "source": [
    "Не считая нулевые значения, значения на гистограмме распределены равномерно. Также нельзя исключать клиентов с нулевыми балансами (как раз таки они и первые кандидаты, чтобы покинуть банк)"
   ]
  },
  {
   "cell_type": "code",
   "execution_count": 8,
   "metadata": {},
   "outputs": [
    {
     "data": {
      "text/plain": [
       "<matplotlib.axes._subplots.AxesSubplot at 0x7f73403e0150>"
      ]
     },
     "execution_count": 8,
     "metadata": {},
     "output_type": "execute_result"
    },
    {
     "data": {
      "image/png": "[encoded data removed]",
      "text/plain": [
       "<Figure size 432x288 with 1 Axes>"
      ]
     },
     "metadata": {
      "needs_background": "light"
     },
     "output_type": "display_data"
    }
   ],
   "source": [
    "data['EstimatedSalary'].hist(bins=50)"
   ]
  },
  {
   "cell_type": "code",
   "execution_count": 9,
   "metadata": {},
   "outputs": [],
   "source": [
    "#необходимо также привести наименование столбцов к строчному виду\n",
    "data.columns = data.columns.str.lower()"
   ]
  },
  {
   "cell_type": "markdown",
   "metadata": {},
   "source": [
    "Также для выполнения нашей задачи можно исключить столбцы surname, customerid и tenure (т.к. зависимость фамилии от ухода из банка маловероятна да и корреляция кол-ва недвижимости от ухода из банка практические нулевая)"
   ]
  },
  {
   "cell_type": "code",
   "execution_count": 10,
   "metadata": {},
   "outputs": [],
   "source": [
    "new_data = data.drop(['surname', 'customerid', 'tenure'], axis=1)"
   ]
  },
  {
   "cell_type": "markdown",
   "metadata": {},
   "source": [
    "<a id='section_id2'></a>"
   ]
  },
  {
   "cell_type": "markdown",
   "metadata": {},
   "source": [
    "# 2. Исследование задачи"
   ]
  },
  {
   "cell_type": "code",
   "execution_count": 11,
   "metadata": {},
   "outputs": [
    {
     "data": {
      "text/html": [
       "<div>\n",
       "<style scoped>\n",
       "    .dataframe tbody tr th:only-of-type {\n",
       "        vertical-align: middle;\n",
       "    }\n",
       "\n",
       "    .dataframe tbody tr th {\n",
       "        vertical-align: top;\n",
       "    }\n",
       "\n",
       "    .dataframe thead th {\n",
       "        text-align: right;\n",
       "    }\n",
       "</style>\n",
       "<table border=\"1\" class=\"dataframe\">\n",
       "  <thead>\n",
       "    <tr style=\"text-align: right;\">\n",
       "      <th></th>\n",
       "      <th>rownumber</th>\n",
       "      <th>creditscore</th>\n",
       "      <th>age</th>\n",
       "      <th>balance</th>\n",
       "      <th>numofproducts</th>\n",
       "      <th>hascrcard</th>\n",
       "      <th>isactivemember</th>\n",
       "      <th>estimatedsalary</th>\n",
       "      <th>exited</th>\n",
       "      <th>geography_Germany</th>\n",
       "      <th>geography_Spain</th>\n",
       "      <th>gender_Male</th>\n",
       "    </tr>\n",
       "  </thead>\n",
       "  <tbody>\n",
       "    <tr>\n",
       "      <td>0</td>\n",
       "      <td>1</td>\n",
       "      <td>619</td>\n",
       "      <td>42</td>\n",
       "      <td>0.00</td>\n",
       "      <td>1</td>\n",
       "      <td>1</td>\n",
       "      <td>1</td>\n",
       "      <td>101348.88</td>\n",
       "      <td>1</td>\n",
       "      <td>0</td>\n",
       "      <td>0</td>\n",
       "      <td>0</td>\n",
       "    </tr>\n",
       "    <tr>\n",
       "      <td>1</td>\n",
       "      <td>2</td>\n",
       "      <td>608</td>\n",
       "      <td>41</td>\n",
       "      <td>83807.86</td>\n",
       "      <td>1</td>\n",
       "      <td>0</td>\n",
       "      <td>1</td>\n",
       "      <td>112542.58</td>\n",
       "      <td>0</td>\n",
       "      <td>0</td>\n",
       "      <td>1</td>\n",
       "      <td>0</td>\n",
       "    </tr>\n",
       "    <tr>\n",
       "      <td>2</td>\n",
       "      <td>3</td>\n",
       "      <td>502</td>\n",
       "      <td>42</td>\n",
       "      <td>159660.80</td>\n",
       "      <td>3</td>\n",
       "      <td>1</td>\n",
       "      <td>0</td>\n",
       "      <td>113931.57</td>\n",
       "      <td>1</td>\n",
       "      <td>0</td>\n",
       "      <td>0</td>\n",
       "      <td>0</td>\n",
       "    </tr>\n",
       "    <tr>\n",
       "      <td>3</td>\n",
       "      <td>4</td>\n",
       "      <td>699</td>\n",
       "      <td>39</td>\n",
       "      <td>0.00</td>\n",
       "      <td>2</td>\n",
       "      <td>0</td>\n",
       "      <td>0</td>\n",
       "      <td>93826.63</td>\n",
       "      <td>0</td>\n",
       "      <td>0</td>\n",
       "      <td>0</td>\n",
       "      <td>0</td>\n",
       "    </tr>\n",
       "    <tr>\n",
       "      <td>4</td>\n",
       "      <td>5</td>\n",
       "      <td>850</td>\n",
       "      <td>43</td>\n",
       "      <td>125510.82</td>\n",
       "      <td>1</td>\n",
       "      <td>1</td>\n",
       "      <td>1</td>\n",
       "      <td>79084.10</td>\n",
       "      <td>0</td>\n",
       "      <td>0</td>\n",
       "      <td>1</td>\n",
       "      <td>0</td>\n",
       "    </tr>\n",
       "  </tbody>\n",
       "</table>\n",
       "</div>"
      ],
      "text/plain": [
       "   rownumber  creditscore  age    balance  numofproducts  hascrcard  \\\n",
       "0          1          619   42       0.00              1          1   \n",
       "1          2          608   41   83807.86              1          0   \n",
       "2          3          502   42  159660.80              3          1   \n",
       "3          4          699   39       0.00              2          0   \n",
       "4          5          850   43  125510.82              1          1   \n",
       "\n",
       "   isactivemember  estimatedsalary  exited  geography_Germany  \\\n",
       "0               1        101348.88       1                  0   \n",
       "1               1        112542.58       0                  0   \n",
       "2               0        113931.57       1                  0   \n",
       "3               0         93826.63       0                  0   \n",
       "4               1         79084.10       0                  0   \n",
       "\n",
       "   geography_Spain  gender_Male  \n",
       "0                0            0  \n",
       "1                1            0  \n",
       "2                0            0  \n",
       "3                0            0  \n",
       "4                1            0  "
      ]
     },
     "execution_count": 11,
     "metadata": {},
     "output_type": "execute_result"
    }
   ],
   "source": [
    "#проведем прямое кодирование для нахождения лучшей модели, чтобы f1 была > 0.59 \n",
    "#(во избежание дамми-ловушки, удалим исохдные столбцы)\n",
    "df_dum = pd.get_dummies(new_data, drop_first=True)\n",
    "df_dum.head()"
   ]
  },
  {
   "cell_type": "code",
   "execution_count": 12,
   "metadata": {},
   "outputs": [],
   "source": [
    "#разобьем наш таблицу на 2 части на признаки и целевые признаки\n",
    "features = df_dum.drop(['exited'], axis=1)\n",
    "target = df_dum['exited']"
   ]
  },
  {
   "cell_type": "code",
   "execution_count": 13,
   "metadata": {},
   "outputs": [],
   "source": [
    "#разделим выборку на обучающую и валидационную\n",
    "features_train, features_valid, target_train, target_valid = train_test_split(features, target, test_size=0.4, random_state = 123456)"
   ]
  },
  {
   "cell_type": "code",
   "execution_count": 14,
   "metadata": {},
   "outputs": [],
   "source": [
    "#разделим выборку на валидационную и тестовую\n",
    "features_valid, features_test, target_valid, target_test = train_test_split(features_valid, target_valid, test_size=0.5, random_state = 123456)"
   ]
  },
  {
   "cell_type": "code",
   "execution_count": 15,
   "metadata": {},
   "outputs": [
    {
     "name": "stdout",
     "output_type": "stream",
     "text": [
      "(6000, 11)\n",
      "(2000, 11)\n",
      "(2000, 11)\n",
      "(6000,)\n",
      "(2000,)\n",
      "(2000,)\n"
     ]
    }
   ],
   "source": [
    "print(features_train.shape)\n",
    "print(features_valid.shape)\n",
    "print(features_test.shape)\n",
    "print(target_train.shape)\n",
    "print(target_valid.shape)\n",
    "print(target_test.shape)"
   ]
  },
  {
   "cell_type": "code",
   "execution_count": 16,
   "metadata": {},
   "outputs": [],
   "source": [
    "#с помощью функции изучим класс балансов\n",
    "def class_balance (features_train, target_train):\n",
    "    features_zeros = features_train[target_train == 0]\n",
    "    features_ones = features_train[target_train == 1]\n",
    "    target_zeros = target_train[target_train == 0]\n",
    "    target_ones = target_train[target_train == 1]\n",
    "    return (features_zeros, features_ones, target_zeros, target_ones)"
   ]
  },
  {
   "cell_type": "code",
   "execution_count": 17,
   "metadata": {
    "scrolled": true
   },
   "outputs": [
    {
     "name": "stdout",
     "output_type": "stream",
     "text": [
      "(4786, 11)\n",
      "(1214, 11)\n",
      "(4786,)\n",
      "(1214,)\n"
     ]
    }
   ],
   "source": [
    "features_zeros, features_ones, target_zeros, target_ones = class_balance(features_train, target_train)\n",
    "print(features_zeros.shape)\n",
    "print(features_ones.shape)\n",
    "print(target_zeros.shape)\n",
    "print(target_ones.shape)"
   ]
  },
  {
   "cell_type": "markdown",
   "metadata": {},
   "source": [
    "Видим, что имеется дисбаланс (отношение единиц к нулю 1:4). В 3 главе разберем данный вопрос подробнее"
   ]
  },
  {
   "cell_type": "code",
   "execution_count": 18,
   "metadata": {},
   "outputs": [],
   "source": [
    "#перед началом обучения, проведем масштабирование признаков, чтобы все признаки были значимыми\n",
    "numeric = ['creditscore', 'age', 'numofproducts', 'estimatedsalary']"
   ]
  },
  {
   "cell_type": "code",
   "execution_count": 19,
   "metadata": {},
   "outputs": [
    {
     "name": "stderr",
     "output_type": "stream",
     "text": [
      "/opt/conda/lib/python3.7/site-packages/ipykernel_launcher.py:3: SettingWithCopyWarning: \n",
      "A value is trying to be set on a copy of a slice from a DataFrame.\n",
      "Try using .loc[row_indexer,col_indexer] = value instead\n",
      "\n",
      "See the caveats in the documentation: http://pandas.pydata.org/pandas-docs/stable/user_guide/indexing.html#returning-a-view-versus-a-copy\n",
      "  This is separate from the ipykernel package so we can avoid doing imports until\n",
      "/opt/conda/lib/python3.7/site-packages/pandas/core/indexing.py:494: SettingWithCopyWarning: \n",
      "A value is trying to be set on a copy of a slice from a DataFrame.\n",
      "Try using .loc[row_indexer,col_indexer] = value instead\n",
      "\n",
      "See the caveats in the documentation: http://pandas.pydata.org/pandas-docs/stable/user_guide/indexing.html#returning-a-view-versus-a-copy\n",
      "  self.obj[item] = s\n"
     ]
    }
   ],
   "source": [
    "scaler = StandardScaler()\n",
    "scaler.fit(features_train[numeric])#настройка модели (вычисление среднего и дисперсии)\n",
    "features_train[numeric] = scaler.transform(features_train[numeric])\n",
    "features_valid[numeric] = scaler.transform(features_valid[numeric])\n",
    "features_test[numeric] = scaler.transform(features_test[numeric])"
   ]
  },
  {
   "cell_type": "code",
   "execution_count": 20,
   "metadata": {},
   "outputs": [
    {
     "name": "stdout",
     "output_type": "stream",
     "text": [
      "      rownumber  creditscore       age    balance  numofproducts  hascrcard  \\\n",
      "1517       1518     0.976989  1.434858   93806.31       0.800273          0   \n",
      "2016       2017     0.478729 -1.049938  172646.82      -0.917665          1   \n",
      "3972       3973    -1.182137 -1.623352   89492.62      -0.917665          0   \n",
      "\n",
      "      isactivemember  estimatedsalary  geography_Germany  geography_Spain  \\\n",
      "1517               1         0.709394                  0                0   \n",
      "2016               1         0.299425                  0                0   \n",
      "3972               0        -0.978170                  0                0   \n",
      "\n",
      "      gender_Male  \n",
      "1517            1  \n",
      "2016            1  \n",
      "3972            0  \n"
     ]
    }
   ],
   "source": [
    "print(features_valid.head(3))"
   ]
  },
  {
   "cell_type": "markdown",
   "metadata": {},
   "source": [
    "Привели все данные к единому виду (мат ожидание 0 и дисперсия 1)"
   ]
  },
  {
   "cell_type": "code",
   "execution_count": 21,
   "metadata": {},
   "outputs": [
    {
     "name": "stdout",
     "output_type": "stream",
     "text": [
      "max_depth = 1: f1-мера = 0.0\n",
      "max_depth = 2: f1-мера = 0.5078864353312303\n",
      "max_depth = 3: f1-мера = 0.530232558139535\n",
      "max_depth = 4: f1-мера = 0.49501661129568103\n"
     ]
    },
    {
     "name": "stderr",
     "output_type": "stream",
     "text": [
      "/opt/conda/lib/python3.7/site-packages/sklearn/metrics/classification.py:1437: UndefinedMetricWarning: F-score is ill-defined and being set to 0.0 due to no predicted samples.\n",
      "  'precision', 'predicted', average, warn_for)\n"
     ]
    },
    {
     "name": "stdout",
     "output_type": "stream",
     "text": [
      "max_depth = 5: f1-мера = 0.5049504950495048\n",
      "max_depth = 6: f1-мера = 0.5392592592592592\n",
      "max_depth = 7: f1-мера = 0.5417867435158502\n",
      "max_depth = 8: f1-мера = 0.5544267053701016\n"
     ]
    }
   ],
   "source": [
    "#исследуем модель решающее дерево меняя глубину дерева\n",
    "for i in range(1,9):\n",
    "    model = DecisionTreeClassifier(random_state = 123456, max_depth = i)\n",
    "    model.fit(features_train, target_train)\n",
    "    predictions_valid = model.predict(features_valid)#предсказание\n",
    "    print(f'max_depth = {i}:', end=' ')\n",
    "    print('f1-мера =', f1_score(target_valid, predictions_valid))"
   ]
  },
  {
   "cell_type": "code",
   "execution_count": 22,
   "metadata": {},
   "outputs": [],
   "source": [
    "def auc_roc_chart(features_valid, target_valid, title):#данной функцией будем строить график auc_roc\n",
    "    probabilities_valid = model.predict_proba(features_valid)#предсказание через вероятности\n",
    "    probabilities_one_valid = probabilities_valid[:, 1]#вероятности предсказания только истинных значений\n",
    "    fpr, tpr, thresholds = roc_curve(target_valid, probabilities_one_valid)\n",
    "    #строим график\n",
    "    plt.figure()\n",
    "    plt.plot(fpr, tpr)\n",
    "    # ROC-кривая случайной модели\n",
    "    plt.plot([0, 1], [0, 1], linestyle='--')\n",
    "    plt.xlim([0.0, 1.0])\n",
    "    plt.ylim([0.0, 1.0])\n",
    "    plt.xlabel('False Positive Rate')\n",
    "    plt.ylabel('True Positive Rate')\n",
    "    plt.title(title)\n",
    "    plt.show()\n",
    "    auc_roc = roc_auc_score(target_valid, probabilities_one_valid)\n",
    "    print('Площадь под кривой = ', auc_roc)"
   ]
  },
  {
   "cell_type": "code",
   "execution_count": 23,
   "metadata": {},
   "outputs": [
    {
     "data": {
      "image/png": "[encoded data removed]",
      "text/plain": [
       "<Figure size 432x288 with 1 Axes>"
      ]
     },
     "metadata": {
      "needs_background": "light"
     },
     "output_type": "display_data"
    },
    {
     "name": "stdout",
     "output_type": "stream",
     "text": [
      "Площадь под кривой =  0.7935447282398584\n"
     ]
    }
   ],
   "source": [
    "auc_roc_chart(features_valid, target_valid, '\"Решающее дерево\"')"
   ]
  },
  {
   "cell_type": "markdown",
   "metadata": {},
   "source": [
    "Модель \"решающее дерево\" не обеспечивает точность f1-меры > 0.59. Максимульная точность получается при глубине дерева равной 5, далее модель просто переобучается"
   ]
  },
  {
   "cell_type": "code",
   "execution_count": 24,
   "metadata": {},
   "outputs": [
    {
     "name": "stderr",
     "output_type": "stream",
     "text": [
      "/opt/conda/lib/python3.7/site-packages/sklearn/metrics/classification.py:1437: UndefinedMetricWarning: F-score is ill-defined and being set to 0.0 due to no predicted samples.\n",
      "  'precision', 'predicted', average, warn_for)\n",
      "/opt/conda/lib/python3.7/site-packages/sklearn/metrics/classification.py:1437: UndefinedMetricWarning: F-score is ill-defined and being set to 0.0 due to no predicted samples.\n",
      "  'precision', 'predicted', average, warn_for)\n",
      "/opt/conda/lib/python3.7/site-packages/sklearn/metrics/classification.py:1437: UndefinedMetricWarning: F-score is ill-defined and being set to 0.0 due to no predicted samples.\n",
      "  'precision', 'predicted', average, warn_for)\n",
      "/opt/conda/lib/python3.7/site-packages/sklearn/metrics/classification.py:1437: UndefinedMetricWarning: F-score is ill-defined and being set to 0.0 due to no predicted samples.\n",
      "  'precision', 'predicted', average, warn_for)\n",
      "/opt/conda/lib/python3.7/site-packages/sklearn/metrics/classification.py:1437: UndefinedMetricWarning: F-score is ill-defined and being set to 0.0 due to no predicted samples.\n",
      "  'precision', 'predicted', average, warn_for)\n",
      "/opt/conda/lib/python3.7/site-packages/sklearn/metrics/classification.py:1437: UndefinedMetricWarning: F-score is ill-defined and being set to 0.0 due to no predicted samples.\n",
      "  'precision', 'predicted', average, warn_for)\n",
      "/opt/conda/lib/python3.7/site-packages/sklearn/metrics/classification.py:1437: UndefinedMetricWarning: F-score is ill-defined and being set to 0.0 due to no predicted samples.\n",
      "  'precision', 'predicted', average, warn_for)\n",
      "/opt/conda/lib/python3.7/site-packages/sklearn/metrics/classification.py:1437: UndefinedMetricWarning: F-score is ill-defined and being set to 0.0 due to no predicted samples.\n",
      "  'precision', 'predicted', average, warn_for)\n"
     ]
    },
    {
     "name": "stdout",
     "output_type": "stream",
     "text": [
      "max_depth = 9: n_estimators = 6: f1-мера =  0.5329052969502408\n",
      "max_depth = 9: n_estimators = 11: f1-мера =  0.5303514376996805\n",
      "max_depth = 9: n_estimators = 16: f1-мера =  0.5365079365079365\n",
      "max_depth = 9: n_estimators = 21: f1-мера =  0.5390749601275917\n",
      "max_depth = 9: n_estimators = 26: f1-мера =  0.5488958990536277\n",
      "max_depth = 9: n_estimators = 31: f1-мера =  0.5344\n",
      "max_depth = 9: n_estimators = 36: f1-мера =  0.5408000000000001\n"
     ]
    }
   ],
   "source": [
    "#используем модель случайный лес\n",
    "for i in range(1,10,2):\n",
    "    for j in range(1,40,5):\n",
    "        model = RandomForestClassifier(max_depth=i, n_estimators=j, random_state=123456)\n",
    "        model.fit(features_train, target_train)\n",
    "        predictions_valid = model.predict(features_valid)\n",
    "        if (f1_score(target_valid, predictions_valid) > 0.52):\n",
    "            print(f'max_depth = {i}:', end=' ')\n",
    "            print(f'n_estimators = {j}:', end=' ')\n",
    "            print('f1-мера = ', f1_score(target_valid, predictions_valid))"
   ]
  },
  {
   "cell_type": "code",
   "execution_count": 25,
   "metadata": {},
   "outputs": [
    {
     "data": {
      "image/png": "[encoded data removed]",
      "text/plain": [
       "<Figure size 432x288 with 1 Axes>"
      ]
     },
     "metadata": {
      "needs_background": "light"
     },
     "output_type": "display_data"
    },
    {
     "name": "stdout",
     "output_type": "stream",
     "text": [
      "Площадь под кривой =  0.8631075322034\n"
     ]
    }
   ],
   "source": [
    "auc_roc_chart(features_valid, target_valid, '\"Случайный лес\"')"
   ]
  },
  {
   "cell_type": "markdown",
   "metadata": {},
   "source": [
    "Модель \"решающее дерево\" показал лучшую точность f1-меры, чем \"случайный лес\" (0.55 > 0.44). Гиперпараметр как class_weight не применялся. Однако площадь под кривой у случайного леса лучше, т.е. решающее дерево по f1 мере лучше за счет полноты (т.е. очень мало ложноотрицательных ответов). Проверим модель \"логистическая регрессия\"."
   ]
  },
  {
   "cell_type": "code",
   "execution_count": 26,
   "metadata": {},
   "outputs": [
    {
     "name": "stdout",
     "output_type": "stream",
     "text": [
      "max_iter = 1: f1-мера =  0.5408000000000001\n",
      "max_iter = 3: f1-мера =  0.5408000000000001\n"
     ]
    },
    {
     "name": "stderr",
     "output_type": "stream",
     "text": [
      "/opt/conda/lib/python3.7/site-packages/sklearn/svm/base.py:929: ConvergenceWarning: Liblinear failed to converge, increase the number of iterations.\n",
      "  \"the number of iterations.\", ConvergenceWarning)\n",
      "/opt/conda/lib/python3.7/site-packages/sklearn/svm/base.py:929: ConvergenceWarning: Liblinear failed to converge, increase the number of iterations.\n",
      "  \"the number of iterations.\", ConvergenceWarning)\n",
      "/opt/conda/lib/python3.7/site-packages/sklearn/svm/base.py:929: ConvergenceWarning: Liblinear failed to converge, increase the number of iterations.\n",
      "  \"the number of iterations.\", ConvergenceWarning)\n",
      "/opt/conda/lib/python3.7/site-packages/sklearn/svm/base.py:929: ConvergenceWarning: Liblinear failed to converge, increase the number of iterations.\n",
      "  \"the number of iterations.\", ConvergenceWarning)\n"
     ]
    },
    {
     "name": "stdout",
     "output_type": "stream",
     "text": [
      "max_iter = 5: f1-мера =  0.5408000000000001\n",
      "max_iter = 7: f1-мера =  0.5408000000000001\n",
      "max_iter = 9: f1-мера =  0.5408000000000001\n"
     ]
    }
   ],
   "source": [
    "#используем модель логистическая регрессия\n",
    "for i in range(1,10,2):\n",
    "    model = LogisticRegression(random_state=12345, solver='liblinear', max_iter=i)\n",
    "    model.fit(features_train, target_train)\n",
    "    predictions = model.predict(features_valid)\n",
    "    print(f'max_iter = {i}:', end=' ')\n",
    "    print('f1-мера = ', f1_score(target_valid, predictions_valid))"
   ]
  },
  {
   "cell_type": "code",
   "execution_count": 27,
   "metadata": {},
   "outputs": [
    {
     "data": {
      "image/png": "[encoded data removed]",
      "text/plain": [
       "<Figure size 432x288 with 1 Axes>"
      ]
     },
     "metadata": {
      "needs_background": "light"
     },
     "output_type": "display_data"
    },
    {
     "name": "stdout",
     "output_type": "stream",
     "text": [
      "Площадь под кривой =  0.5097125424401927\n"
     ]
    }
   ],
   "source": [
    "auc_roc_chart(features_valid, target_valid, '\"Логистическая регрессия\"')"
   ]
  },
  {
   "cell_type": "markdown",
   "metadata": {},
   "source": [
    "На данном этапе нами были проведены решение моделей \"решающее дерево\", \"случайны лес\" и \"логистическая регресии\". Метрика f1-мера показала лучший результат при решающем дереве, однако площадь под кривой в случайном лесе больше, чем в решающем дереве (случайный лес предсказывал лучше точность, а решающее дерево полноту). Но на данном этапе классы были несбалансированными и применять решающее дерево я бы не стал, тем более, что поставленную задачу мы не выполнили. Также отношение клиентов которые покинут банк к клиентам которые остаются, соотносятся как 1:4"
   ]
  },
  {
   "cell_type": "markdown",
   "metadata": {},
   "source": [
    "<a id='section_id3'></a>"
   ]
  },
  {
   "cell_type": "markdown",
   "metadata": {},
   "source": [
    "# 3. Борьба с дисбалансом"
   ]
  },
  {
   "cell_type": "markdown",
   "metadata": {},
   "source": [
    "На данном этапе нужно улучшить метрику f1. Для этого нужно проверить все способы по борьбе с дисбалансом \n",
    "(произвести взвешивание классов, увеличение положительной выборки, уменьшение отрицательной выборки)."
   ]
  },
  {
   "cell_type": "markdown",
   "metadata": {},
   "source": [
    "## Увеличение выборки"
   ]
  },
  {
   "cell_type": "code",
   "execution_count": 28,
   "metadata": {},
   "outputs": [],
   "source": [
    "#напишем функцию, которая увеличивает положительную выборку (новые не создаются, а просто дублируются существующие\n",
    "#и перемешиваются)\n",
    "def upsample(features, target, repeat):\n",
    "    features_zeros, features_ones, target_zeros, target_ones = class_balance (features, target)\n",
    "    features_upsampled = pd.concat([features_zeros] + [features_ones] * repeat)\n",
    "    target_upsampled = pd.concat([target_zeros] + [target_ones] * repeat)\n",
    "    #print(target_upsampled.value_counts())\n",
    "    features_upsampled, target_upsampled = shuffle(features_upsampled, target_upsampled, random_state=123456)\n",
    "    return features_upsampled, target_upsampled"
   ]
  },
  {
   "cell_type": "code",
   "execution_count": 29,
   "metadata": {},
   "outputs": [
    {
     "name": "stdout",
     "output_type": "stream",
     "text": [
      "(9642, 11)\n",
      "(9642,)\n"
     ]
    }
   ],
   "source": [
    "features_upsampled, target_upsampled = upsample(features_train, target_train, 4)#так как отношение 1/4\n",
    "print(features_upsampled.shape)\n",
    "print(target_upsampled.shape)"
   ]
  },
  {
   "cell_type": "code",
   "execution_count": 30,
   "metadata": {},
   "outputs": [
    {
     "name": "stdout",
     "output_type": "stream",
     "text": [
      "max_depth = 1: f1-мера = 0.4947867298578199\n",
      "max_depth = 2: f1-мера = 0.5285451197053407\n",
      "max_depth = 3: f1-мера = 0.5285451197053407\n",
      "max_depth = 4: f1-мера = 0.555350553505535\n",
      "max_depth = 5: f1-мера = 0.5433962264150943\n",
      "max_depth = 6: f1-мера = 0.5510388437217706\n",
      "max_depth = 7: f1-мера = 0.5582655826558265\n"
     ]
    }
   ],
   "source": [
    "#для решающего дерева\n",
    "for i in range(1,8):\n",
    "    model = DecisionTreeClassifier(random_state = 123456, max_depth = i)\n",
    "    model.fit(features_upsampled, target_upsampled)\n",
    "    predictions_valid = model.predict(features_valid)#предсказание\n",
    "    print(f'max_depth = {i}:', end=' ')\n",
    "    print('f1-мера =', f1_score(target_valid, predictions_valid))"
   ]
  },
  {
   "cell_type": "code",
   "execution_count": 31,
   "metadata": {},
   "outputs": [
    {
     "data": {
      "image/png": "[encoded data removed]",
      "text/plain": [
       "<Figure size 432x288 with 1 Axes>"
      ]
     },
     "metadata": {
      "needs_background": "light"
     },
     "output_type": "display_data"
    },
    {
     "name": "stdout",
     "output_type": "stream",
     "text": [
      "Площадь под кривой =  0.8130066685821479\n"
     ]
    }
   ],
   "source": [
    "auc_roc_chart(features_valid, target_valid, '\"Решающее дерево\"')"
   ]
  },
  {
   "cell_type": "markdown",
   "metadata": {},
   "source": [
    "При глубине дерева max_depth=5, f1-мера на валидационной выборке показывает 0,5985. Также площадь под кривой стало значительно лучше. Проверим остальные модели."
   ]
  },
  {
   "cell_type": "code",
   "execution_count": 32,
   "metadata": {},
   "outputs": [
    {
     "name": "stdout",
     "output_type": "stream",
     "text": [
      "max_depth = 5: n_estimators = 16: f1-мера =  0.6103012633624879\n",
      "max_depth = 5: n_estimators = 21: f1-мера =  0.6136363636363636\n",
      "max_depth = 5: n_estimators = 51: f1-мера =  0.6156824782187802\n",
      "max_depth = 5: n_estimators = 56: f1-мера =  0.6168768186226963\n",
      "max_depth = 5: n_estimators = 61: f1-мера =  0.6120434353405726\n",
      "max_depth = 5: n_estimators = 66: f1-мера =  0.6137254901960785\n",
      "max_depth = 5: n_estimators = 71: f1-мера =  0.6128078817733991\n",
      "max_depth = 5: n_estimators = 81: f1-мера =  0.6149312377210217\n",
      "max_depth = 5: n_estimators = 86: f1-мера =  0.6125244618395304\n",
      "max_depth = 5: n_estimators = 96: f1-мера =  0.6112759643916914\n",
      "max_depth = 7: n_estimators = 21: f1-мера =  0.6160164271047227\n",
      "max_depth = 7: n_estimators = 26: f1-мера =  0.6133333333333333\n",
      "max_depth = 7: n_estimators = 31: f1-мера =  0.6177685950413223\n",
      "max_depth = 7: n_estimators = 36: f1-мера =  0.6138002059732235\n",
      "max_depth = 7: n_estimators = 41: f1-мера =  0.6174358974358973\n",
      "max_depth = 7: n_estimators = 46: f1-мера =  0.6193415637860082\n",
      "max_depth = 7: n_estimators = 51: f1-мера =  0.6199794026776518\n",
      "max_depth = 7: n_estimators = 56: f1-мера =  0.6199794026776518\n",
      "max_depth = 7: n_estimators = 61: f1-мера =  0.6183673469387754\n",
      "max_depth = 7: n_estimators = 66: f1-мера =  0.6212590299277607\n",
      "max_depth = 7: n_estimators = 71: f1-мера =  0.6174358974358973\n",
      "max_depth = 7: n_estimators = 76: f1-мера =  0.6152263374485596\n",
      "max_depth = 7: n_estimators = 81: f1-мера =  0.6166495375128469\n",
      "max_depth = 7: n_estimators = 86: f1-мера =  0.6147540983606558\n",
      "max_depth = 7: n_estimators = 91: f1-мера =  0.6183673469387754\n",
      "max_depth = 7: n_estimators = 96: f1-мера =  0.6185147507629706\n",
      "max_depth = 9: n_estimators = 11: f1-мера =  0.6168421052631577\n",
      "max_depth = 9: n_estimators = 16: f1-мера =  0.6285714285714287\n",
      "max_depth = 9: n_estimators = 21: f1-мера =  0.6247334754797441\n",
      "max_depth = 9: n_estimators = 26: f1-мера =  0.6209850107066381\n",
      "max_depth = 9: n_estimators = 31: f1-мера =  0.6248671625929862\n",
      "max_depth = 9: n_estimators = 36: f1-мера =  0.6267379679144384\n",
      "max_depth = 9: n_estimators = 41: f1-мера =  0.630901287553648\n",
      "max_depth = 9: n_estimators = 46: f1-мера =  0.6305732484076433\n",
      "max_depth = 9: n_estimators = 51: f1-мера =  0.6341463414634145\n",
      "max_depth = 9: n_estimators = 56: f1-мера =  0.6326963906581741\n",
      "max_depth = 9: n_estimators = 61: f1-мера =  0.6340425531914894\n",
      "max_depth = 9: n_estimators = 66: f1-мера =  0.6320254506892895\n",
      "max_depth = 9: n_estimators = 71: f1-мера =  0.6334745762711864\n",
      "max_depth = 9: n_estimators = 76: f1-мера =  0.6332622601279317\n",
      "max_depth = 9: n_estimators = 81: f1-мера =  0.6320254506892895\n",
      "max_depth = 9: n_estimators = 86: f1-мера =  0.628997867803838\n",
      "max_depth = 9: n_estimators = 91: f1-мера =  0.626865671641791\n",
      "max_depth = 9: n_estimators = 96: f1-мера =  0.6274089935760171\n",
      "max_depth = 11: n_estimators = 21: f1-мера =  0.6108597285067873\n",
      "max_depth = 11: n_estimators = 36: f1-мера =  0.6117381489841986\n",
      "max_depth = 11: n_estimators = 41: f1-мера =  0.6207674943566591\n",
      "max_depth = 11: n_estimators = 46: f1-мера =  0.6262626262626262\n",
      "max_depth = 11: n_estimators = 51: f1-мера =  0.6186726659167605\n",
      "max_depth = 11: n_estimators = 56: f1-мера =  0.6247191011235954\n",
      "max_depth = 11: n_estimators = 61: f1-мера =  0.6256983240223464\n",
      "max_depth = 11: n_estimators = 66: f1-мера =  0.625560538116592\n",
      "max_depth = 11: n_estimators = 71: f1-мера =  0.6240179573512907\n",
      "max_depth = 11: n_estimators = 76: f1-мера =  0.625560538116592\n",
      "max_depth = 11: n_estimators = 81: f1-мера =  0.6193693693693694\n",
      "max_depth = 11: n_estimators = 86: f1-мера =  0.6188340807174888\n",
      "max_depth = 11: n_estimators = 91: f1-мера =  0.6316964285714285\n",
      "max_depth = 11: n_estimators = 96: f1-мера =  0.6245772266065389\n",
      "max_depth = 13: n_estimators = 21: f1-мера =  0.6153846153846153\n",
      "max_depth = 13: n_estimators = 41: f1-мера =  0.6133651551312649\n",
      "max_depth = 13: n_estimators = 46: f1-мера =  0.6210153482880756\n",
      "max_depth = 13: n_estimators = 51: f1-мера =  0.6171967020023558\n",
      "max_depth = 13: n_estimators = 56: f1-мера =  0.6115702479338844\n",
      "max_depth = 13: n_estimators = 61: f1-мера =  0.6170212765957447\n",
      "max_depth = 13: n_estimators = 66: f1-мера =  0.6102502979737784\n",
      "max_depth = 13: n_estimators = 71: f1-мера =  0.6159334126040429\n",
      "max_depth = 13: n_estimators = 76: f1-мера =  0.6126340882002383\n",
      "max_depth = 13: n_estimators = 81: f1-мера =  0.6164874551971327\n",
      "max_depth = 13: n_estimators = 86: f1-мера =  0.6181384248210023\n",
      "max_depth = 13: n_estimators = 91: f1-мера =  0.6190476190476191\n",
      "max_depth = 13: n_estimators = 96: f1-мера =  0.6233453670276775\n"
     ]
    }
   ],
   "source": [
    "#используем модель случайный лес\n",
    "for i in range(1,15,2):\n",
    "    for j in range(1,100,5):\n",
    "        model = RandomForestClassifier(max_depth=i, n_estimators=j, min_samples_leaf=2, random_state=123456)\n",
    "        model.fit(features_upsampled, target_upsampled)\n",
    "        predictions_valid = model.predict(features_valid)\n",
    "        if (f1_score(target_valid, predictions_valid) > 0.61):\n",
    "            print(f'max_depth = {i}:', end=' ')\n",
    "            print(f'n_estimators = {j}:', end=' ')\n",
    "            print('f1-мера = ', f1_score(target_valid, predictions_valid))"
   ]
  },
  {
   "cell_type": "code",
   "execution_count": 33,
   "metadata": {},
   "outputs": [
    {
     "data": {
      "image/png": "[encoded data removed]",
      "text/plain": [
       "<Figure size 432x288 with 1 Axes>"
      ]
     },
     "metadata": {
      "needs_background": "light"
     },
     "output_type": "display_data"
    },
    {
     "name": "stdout",
     "output_type": "stream",
     "text": [
      "Площадь под кривой =  0.8600981709160762\n"
     ]
    }
   ],
   "source": [
    "auc_roc_chart(features_valid, target_valid, '\"Случайный лес\"')"
   ]
  },
  {
   "cell_type": "markdown",
   "metadata": {},
   "source": [
    "Случайный лес показал более лучшую точность метрики f1 при сбалансированных признаках нежели при несбалансированных и сделал это более точнее, чем решающее дерево. Проверим логистическую регрессию по баланса."
   ]
  },
  {
   "cell_type": "code",
   "execution_count": 34,
   "metadata": {},
   "outputs": [
    {
     "name": "stdout",
     "output_type": "stream",
     "text": [
      "max_iter = 1: f1-мера =  0.6233453670276775\n",
      "max_iter = 6: f1-мера =  0.6233453670276775\n"
     ]
    },
    {
     "name": "stderr",
     "output_type": "stream",
     "text": [
      "/opt/conda/lib/python3.7/site-packages/sklearn/svm/base.py:929: ConvergenceWarning: Liblinear failed to converge, increase the number of iterations.\n",
      "  \"the number of iterations.\", ConvergenceWarning)\n",
      "/opt/conda/lib/python3.7/site-packages/sklearn/svm/base.py:929: ConvergenceWarning: Liblinear failed to converge, increase the number of iterations.\n",
      "  \"the number of iterations.\", ConvergenceWarning)\n"
     ]
    },
    {
     "name": "stdout",
     "output_type": "stream",
     "text": [
      "max_iter = 11: f1-мера =  0.6233453670276775\n",
      "max_iter = 16: f1-мера =  0.6233453670276775\n",
      "max_iter = 21: f1-мера =  0.6233453670276775\n",
      "max_iter = 26: f1-мера =  0.6233453670276775\n",
      "max_iter = 31: f1-мера =  0.6233453670276775\n",
      "max_iter = 36: f1-мера =  0.6233453670276775\n",
      "max_iter = 41: f1-мера =  0.6233453670276775\n",
      "max_iter = 46: f1-мера =  0.6233453670276775\n",
      "max_iter = 51: f1-мера =  0.6233453670276775\n",
      "max_iter = 56: f1-мера =  0.6233453670276775\n",
      "max_iter = 61: f1-мера =  0.6233453670276775\n",
      "max_iter = 66: f1-мера =  0.6233453670276775\n",
      "max_iter = 71: f1-мера =  0.6233453670276775\n",
      "max_iter = 76: f1-мера =  0.6233453670276775\n",
      "max_iter = 81: f1-мера =  0.6233453670276775\n",
      "max_iter = 86: f1-мера =  0.6233453670276775\n",
      "max_iter = 91: f1-мера =  0.6233453670276775\n",
      "max_iter = 96: f1-мера =  0.6233453670276775\n"
     ]
    }
   ],
   "source": [
    "#используем модель логистическая регрессия\n",
    "for i in range(1,100,5):\n",
    "    model = LogisticRegression(random_state=12345, solver='liblinear', max_iter=i)\n",
    "    model.fit(features_upsampled, target_upsampled)\n",
    "    predictions = model.predict(features_valid)\n",
    "    print(f'max_iter = {i}:', end=' ')\n",
    "    print('f1-мера = ', f1_score(target_valid, predictions_valid))"
   ]
  },
  {
   "cell_type": "code",
   "execution_count": 35,
   "metadata": {},
   "outputs": [
    {
     "data": {
      "image/png": "[encoded data removed]",
      "text/plain": [
       "<Figure size 432x288 with 1 Axes>"
      ]
     },
     "metadata": {
      "needs_background": "light"
     },
     "output_type": "display_data"
    },
    {
     "name": "stdout",
     "output_type": "stream",
     "text": [
      "Площадь под кривой =  0.5812738150216845\n"
     ]
    }
   ],
   "source": [
    "auc_roc_chart(features_valid, target_valid, '\"Логистическая регрессия\"')"
   ]
  },
  {
   "cell_type": "markdown",
   "metadata": {},
   "source": [
    "Метрику f1 логистическая регрессия показала схожую со случайным лесом, но ввиду маленькой площади под кривой, случайный лес будет лучше. Проверим как ведут себя модели в уменьшении отрицательной выборки."
   ]
  },
  {
   "cell_type": "markdown",
   "metadata": {},
   "source": [
    "## Уменьшение выборки"
   ]
  },
  {
   "cell_type": "code",
   "execution_count": 36,
   "metadata": {},
   "outputs": [],
   "source": [
    "#напишем функцию, которая уменьшает отрицательную выборку (уменьшается на определенный коэффициент 0,25)\n",
    "def downsample(features, target, fraction):\n",
    "    features_zeros, features_ones, target_zeros, target_ones = class_balance(features, target)\n",
    "    features_downsampled = pd.concat(\n",
    "        [features_zeros.sample(frac=fraction, random_state=123456)] + [features_ones])\n",
    "    target_downsampled = pd.concat(\n",
    "        [target_zeros.sample(frac=fraction, random_state=123456)] + [target_ones])\n",
    "    features_donwsampled, target_downsampled = shuffle(features_downsampled, target_downsampled, random_state=123456)\n",
    "    return features_downsampled, target_downsampled"
   ]
  },
  {
   "cell_type": "code",
   "execution_count": 37,
   "metadata": {},
   "outputs": [
    {
     "name": "stdout",
     "output_type": "stream",
     "text": [
      "(2410, 11)\n",
      "(2410,)\n"
     ]
    }
   ],
   "source": [
    "features_downsampled, target_downsampled = downsample(features_train, target_train, 0.25)\n",
    "print(features_downsampled.shape)\n",
    "print(target_downsampled.shape)"
   ]
  },
  {
   "cell_type": "code",
   "execution_count": 38,
   "metadata": {},
   "outputs": [
    {
     "name": "stdout",
     "output_type": "stream",
     "text": [
      "max_depth = 1: f1-мера = 0.3164444444444445\n",
      "max_depth = 3: f1-мера = 0.3259005145797599\n",
      "max_depth = 5: f1-мера = 0.33208355650776644\n",
      "max_depth = 7: f1-мера = 0.32775240994419075\n"
     ]
    }
   ],
   "source": [
    "#для решающего дерева\n",
    "for i in range(1,9,2):\n",
    "    model = DecisionTreeClassifier(random_state = 123456, max_depth = i)\n",
    "    model.fit(features_downsampled, target_downsampled)\n",
    "    predictions_valid = model.predict(features_valid)#предсказание\n",
    "    print(f'max_depth = {i}:', end=' ')\n",
    "    print('f1-мера =', f1_score(target_valid, predictions_valid))"
   ]
  },
  {
   "cell_type": "code",
   "execution_count": 39,
   "metadata": {},
   "outputs": [
    {
     "name": "stdout",
     "output_type": "stream",
     "text": [
      "max_depth = 1: n_estimators = 1: f1-мера =  0.35428571428571426\n",
      "max_depth = 1: n_estimators = 6: f1-мера =  0.31103286384976525\n",
      "max_depth = 1: n_estimators = 11: f1-мера =  0.3289094056549336\n",
      "max_depth = 1: n_estimators = 16: f1-мера =  0.3256048387096774\n",
      "max_depth = 1: n_estimators = 21: f1-мера =  0.334806087383407\n",
      "max_depth = 1: n_estimators = 26: f1-мера =  0.33622007131940906\n",
      "max_depth = 1: n_estimators = 31: f1-мера =  0.3356128353498159\n",
      "max_depth = 1: n_estimators = 36: f1-мера =  0.32799145299145294\n",
      "max_depth = 1: n_estimators = 41: f1-мера =  0.33482142857142855\n",
      "max_depth = 1: n_estimators = 46: f1-мера =  0.3274139844617092\n",
      "max_depth = 1: n_estimators = 51: f1-мера =  0.33149171270718225\n",
      "max_depth = 1: n_estimators = 56: f1-мера =  0.3238312428734321\n",
      "max_depth = 1: n_estimators = 61: f1-мера =  0.32515687393040504\n",
      "max_depth = 1: n_estimators = 66: f1-мера =  0.3183352080989876\n",
      "max_depth = 1: n_estimators = 71: f1-мера =  0.32357813362782994\n",
      "max_depth = 1: n_estimators = 76: f1-мера =  0.32192933258553\n",
      "max_depth = 1: n_estimators = 81: f1-мера =  0.3211267605633803\n",
      "max_depth = 1: n_estimators = 86: f1-мера =  0.31443009545199324\n",
      "max_depth = 2: n_estimators = 1: f1-мера =  0.327250608272506\n",
      "max_depth = 2: n_estimators = 6: f1-мера =  0.32519422863485015\n",
      "max_depth = 2: n_estimators = 11: f1-мера =  0.3245149911816579\n",
      "max_depth = 2: n_estimators = 16: f1-мера =  0.32185206098249575\n",
      "max_depth = 2: n_estimators = 21: f1-мера =  0.3314977973568282\n",
      "max_depth = 2: n_estimators = 26: f1-мера =  0.3300110741971207\n",
      "max_depth = 2: n_estimators = 31: f1-мера =  0.3310423825887744\n",
      "max_depth = 2: n_estimators = 36: f1-мера =  0.3199534613147178\n",
      "max_depth = 2: n_estimators = 41: f1-мера =  0.3225426721600942\n",
      "max_depth = 2: n_estimators = 46: f1-мера =  0.3171445289643066\n",
      "max_depth = 2: n_estimators = 51: f1-мера =  0.32028469750889677\n",
      "max_depth = 2: n_estimators = 56: f1-мера =  0.32335329341317365\n",
      "max_depth = 2: n_estimators = 61: f1-мера =  0.32014388489208634\n",
      "max_depth = 2: n_estimators = 66: f1-мера =  0.3187537447573397\n",
      "max_depth = 2: n_estimators = 71: f1-мера =  0.3231492361927144\n",
      "max_depth = 2: n_estimators = 76: f1-мера =  0.3226971703792896\n",
      "max_depth = 2: n_estimators = 81: f1-мера =  0.321880650994575\n",
      "max_depth = 2: n_estimators = 86: f1-мера =  0.313180169286578\n",
      "max_depth = 3: n_estimators = 1: f1-мера =  0.32453567937438904\n",
      "max_depth = 3: n_estimators = 6: f1-мера =  0.29458307973219716\n",
      "max_depth = 3: n_estimators = 11: f1-мера =  0.3074183976261128\n",
      "max_depth = 3: n_estimators = 16: f1-мера =  0.31578947368421056\n",
      "max_depth = 3: n_estimators = 21: f1-мера =  0.319337670017741\n",
      "max_depth = 3: n_estimators = 26: f1-мера =  0.3073229291716687\n",
      "max_depth = 3: n_estimators = 31: f1-мера =  0.31084337349397595\n",
      "max_depth = 3: n_estimators = 36: f1-мера =  0.30195599022004893\n",
      "max_depth = 3: n_estimators = 41: f1-мера =  0.3019772318753745\n",
      "max_depth = 3: n_estimators = 46: f1-мера =  0.2988505747126437\n",
      "max_depth = 3: n_estimators = 51: f1-мера =  0.306480920654149\n",
      "max_depth = 3: n_estimators = 56: f1-мера =  0.2981366459627329\n",
      "max_depth = 3: n_estimators = 61: f1-мера =  0.2995649471721566\n",
      "max_depth = 3: n_estimators = 66: f1-мера =  0.29795158286778395\n",
      "max_depth = 3: n_estimators = 71: f1-мера =  0.3075980392156863\n",
      "max_depth = 3: n_estimators = 76: f1-мера =  0.3063619518221124\n",
      "max_depth = 3: n_estimators = 81: f1-мера =  0.311576354679803\n",
      "max_depth = 3: n_estimators = 86: f1-мера =  0.31122132672039676\n",
      "max_depth = 4: n_estimators = 1: f1-мера =  0.30051223676721683\n",
      "max_depth = 4: n_estimators = 6: f1-мера =  0.27965043695380776\n",
      "max_depth = 4: n_estimators = 11: f1-мера =  0.2968065122103945\n",
      "max_depth = 4: n_estimators = 16: f1-мера =  0.30604982206405695\n",
      "max_depth = 4: n_estimators = 21: f1-мера =  0.29904306220095694\n",
      "max_depth = 4: n_estimators = 26: f1-мера =  0.3010234798314268\n",
      "max_depth = 4: n_estimators = 31: f1-мера =  0.30303030303030304\n",
      "max_depth = 4: n_estimators = 36: f1-мера =  0.30490018148820325\n",
      "max_depth = 4: n_estimators = 41: f1-мера =  0.3027744270205066\n",
      "max_depth = 4: n_estimators = 46: f1-мера =  0.3024390243902439\n",
      "max_depth = 4: n_estimators = 51: f1-мера =  0.2965686274509804\n",
      "max_depth = 4: n_estimators = 56: f1-мера =  0.3041871921182266\n",
      "max_depth = 4: n_estimators = 61: f1-мера =  0.29944547134935307\n",
      "max_depth = 4: n_estimators = 66: f1-мера =  0.3027692307692308\n",
      "max_depth = 4: n_estimators = 71: f1-мера =  0.3003039513677812\n",
      "max_depth = 4: n_estimators = 76: f1-мера =  0.29698089956869994\n",
      "max_depth = 4: n_estimators = 81: f1-мера =  0.3041871921182266\n",
      "max_depth = 4: n_estimators = 86: f1-мера =  0.3041079092581238\n"
     ]
    }
   ],
   "source": [
    "#используем модель случайный лес\n",
    "for i in range(1,5,1):\n",
    "    for j in range(1,90,5):\n",
    "        model = RandomForestClassifier(max_depth=i, n_estimators=j, random_state=123456)\n",
    "        model.fit(features_downsampled, target_downsampled)\n",
    "        predictions_valid = model.predict(features_valid)\n",
    "        print(f'max_depth = {i}:', end=' ')\n",
    "        print(f'n_estimators = {j}:', end=' ')\n",
    "        print('f1-мера = ', f1_score(target_valid, predictions_valid))"
   ]
  },
  {
   "cell_type": "code",
   "execution_count": 40,
   "metadata": {},
   "outputs": [
    {
     "name": "stdout",
     "output_type": "stream",
     "text": [
      "max_iter = 1: f1-мера =  0.3041079092581238\n",
      "max_iter = 4: f1-мера =  0.3041079092581238\n",
      "max_iter = 7: f1-мера =  0.3041079092581238\n"
     ]
    },
    {
     "name": "stderr",
     "output_type": "stream",
     "text": [
      "/opt/conda/lib/python3.7/site-packages/sklearn/svm/base.py:929: ConvergenceWarning: Liblinear failed to converge, increase the number of iterations.\n",
      "  \"the number of iterations.\", ConvergenceWarning)\n",
      "/opt/conda/lib/python3.7/site-packages/sklearn/svm/base.py:929: ConvergenceWarning: Liblinear failed to converge, increase the number of iterations.\n",
      "  \"the number of iterations.\", ConvergenceWarning)\n"
     ]
    }
   ],
   "source": [
    "#используем модель логистическая регрессия\n",
    "for i in range(1,10,3):\n",
    "    model = LogisticRegression(random_state=12345, solver='liblinear', max_iter=i)\n",
    "    model.fit(features_downsampled, target_downsampled)\n",
    "    predictions = model.predict(features_valid)\n",
    "    print(f'max_iter = {i}:', end=' ')\n",
    "    print('f1-мера = ', f1_score(target_valid, predictions_valid))"
   ]
  },
  {
   "cell_type": "markdown",
   "metadata": {},
   "source": [
    "Лучше всего себя показывает модель решающее дерево, но даже она не удовлетворяет нашим требованиям. Поэтому лучше остановиться на технике увеличения выборки."
   ]
  },
  {
   "cell_type": "markdown",
   "metadata": {},
   "source": [
    "## Вывод"
   ]
  },
  {
   "cell_type": "markdown",
   "metadata": {},
   "source": [
    "Итак, на данном этапе нами были проверены разные техники для улучшения метрики f1, а именно техника увеличения и уменьшения выборки. Техника увеличения показало более лучшую точность f1 меры. А если быть точнее, то модель \"случайный лес\" показал точность при глубине дерева max_depth = 9 и кол-ве деревьев n_estimators = 61. Площадь под кривой получили равным auc_roc = 0,8538. Для тестирования примем именно эту модель."
   ]
  },
  {
   "cell_type": "markdown",
   "metadata": {},
   "source": [
    "<a id='section_id4'></a>"
   ]
  },
  {
   "cell_type": "markdown",
   "metadata": {},
   "source": [
    "# 4. Тестирование модели"
   ]
  },
  {
   "cell_type": "code",
   "execution_count": 41,
   "metadata": {},
   "outputs": [
    {
     "name": "stdout",
     "output_type": "stream",
     "text": [
      "Обучающая f1-мера =  0.6340425531914894\n",
      "Тестовая f1-мера =  0.6183035714285714\n"
     ]
    }
   ],
   "source": [
    "model = RandomForestClassifier(max_depth=9, n_estimators=61, min_samples_leaf=2, random_state=123456)\n",
    "model.fit(features_upsampled, target_upsampled)\n",
    "predictions_valid = model.predict(features_valid)\n",
    "predictions_test = model.predict(features_test)\n",
    "print('Обучающая f1-мера = ', f1_score(target_valid, predictions_valid))\n",
    "print('Тестовая f1-мера = ', f1_score(target_test, predictions_test))"
   ]
  },
  {
   "cell_type": "code",
   "execution_count": 42,
   "metadata": {},
   "outputs": [
    {
     "data": {
      "image/png": "[encoded data removed]",
      "text/plain": [
       "<Figure size 432x288 with 1 Axes>"
      ]
     },
     "metadata": {
      "needs_background": "light"
     },
     "output_type": "display_data"
    },
    {
     "name": "stdout",
     "output_type": "stream",
     "text": [
      "Площадь под кривой =  0.8582805621454679\n"
     ]
    }
   ],
   "source": [
    "auc_roc_chart(features_test, target_test, '\"Случайный лес\"')"
   ]
  },
  {
   "cell_type": "markdown",
   "metadata": {},
   "source": [
    "<a id='section_id5'></a>"
   ]
  },
  {
   "cell_type": "markdown",
   "metadata": {},
   "source": [
    "# Вывод"
   ]
  },
  {
   "cell_type": "markdown",
   "metadata": {},
   "source": [
    "В ходе выполнения работы были проведены следующие операции:\n",
    "1. На этапе загрузки файла, была проведена небольшая предобработка данных, а именно: удалены столбцы, которые никак не могли влиять на уход клиента из банка (ФИО, ид), кол-во недвижимости (tenure) тоже был удален, т.к. корреляции никакой нет с целевым признаком и там имелись пустые ячейки (удалять строки не стал, т.к. мы можем потерять полезные данные по клиентам).\n",
    "2. Мы постарались провести машинное обучение к несбалансированным данным. Предсказывали модели 50 на 50 (что нас не устраивало, т.к. в задании стоит точность больше 0,59). Также на данном этапе было обнаружено, что кол-во клиентов которые не собираются покидать банк в 4 раза больше чем тех кто собирается покинуть банк.\n",
    "3. На данном этапе мы также проводили машинное обучение, но уже с учетом дисбаланса классов. Мы провели технику увеличения выборки (upsample) путем дублирования положительных значений, уменьшения отрицательных выборок (downsample). Лучший результат был получен моделью \"Случайный лес\" при глбуние дерева max_depth=9, кол-ве деревьев n_estimators=61 f1-мера=0.63 (upsample), что нас вполне устраивает. Также можно было еще побаловаться взвешиванием классов, но сильно в точности мы бы уже не выиграли.\n",
    "4. Нами заранее была извлечена тестовая выборка (20% от всего датасета). f1-метрика показала на тестовой выборке 0,61. Это больше заданного условия. Площадь под кривой получилась auc_roc = 0,85. Это означаает что наша модель показывает точность."
   ]
  }
 ],
 "metadata": {
  "kernelspec": {
   "display_name": "Python 3",
   "language": "python",
   "name": "python3"
  },
  "language_info": {
   "codemirror_mode": {
    "name": "ipython",
    "version": 3
   },
   "file_extension": ".py",
   "mimetype": "text/x-python",
   "name": "python",
   "nbconvert_exporter": "python",
   "pygments_lexer": "ipython3",
   "version": "3.7.6"
  },
  "toc": {
   "base_numbering": 1,
   "nav_menu": {},
   "number_sections": true,
   "sideBar": true,
   "skip_h1_title": false,
   "title_cell": "Table of Contents",
   "title_sidebar": "Contents",
   "toc_cell": false,
   "toc_position": {},
   "toc_section_display": true,
   "toc_window_display": false
  }
 },
 "nbformat": 4,
 "nbformat_minor": 2
}
