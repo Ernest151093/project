{
 "cells": [
  {
   "cell_type": "markdown",
   "metadata": {},
   "source": [
    "Сервис по продаже автомобилей с пробегом «Не бит, не крашен» разрабатывает приложение для привлечения новых клиентов. В нём можно быстро узнать рыночную стоимость своего автомобиля. В вашем распоряжении исторические данные: технические характеристики, комплектации и цены автомобилей. Вам нужно построить модель для определения стоимости. \n",
    "\n",
    "Заказчику важны:\n",
    "\n",
    "- качество предсказания;\n",
    "- скорость предсказания;\n",
    "- время обучения."
   ]
  },
  {
   "cell_type": "markdown",
   "metadata": {},
   "source": [
    "### Содержание\n",
    "### [1. Подготовка данных](#section_id1)\n",
    "### [2. Обучение моделей](#section_id2)\n",
    "####    [2.1. Градиентный бустинг CatBoost](#section_id3)\n",
    "####   [2.2. Случайный лес](#section_id4)\n",
    "####    [2.3. Градиентный бустинг LightGBM](#section_id5)\n",
    "### [3. Анализ моделей](#section_id6)"
   ]
  },
  {
   "cell_type": "markdown",
   "metadata": {},
   "source": [
    "<a id = 'Подготовка данных'></a>"
   ]
  },
  {
   "cell_type": "markdown",
   "metadata": {},
   "source": [
    "<a id='section_id1'></a>"
   ]
  },
  {
   "cell_type": "markdown",
   "metadata": {},
   "source": [
    "# 1. Подготовка данных"
   ]
  },
  {
   "cell_type": "code",
   "execution_count": 1,
   "metadata": {},
   "outputs": [],
   "source": [
    "import pandas as pd\n",
    "import numpy as np\n",
    "from sklearn.model_selection import train_test_split\n",
    "from sklearn.ensemble import RandomForestRegressor\n",
    "from catboost import CatBoostRegressor\n",
    "from lightgbm import LGBMRegressor\n",
    "from sklearn.metrics import mean_squared_error\n",
    "from sklearn.preprocessing import OrdinalEncoder"
   ]
  },
  {
   "cell_type": "code",
   "execution_count": 2,
   "metadata": {},
   "outputs": [
    {
     "data": {
      "text/html": [
       "<div>\n",
       "<style scoped>\n",
       "    .dataframe tbody tr th:only-of-type {\n",
       "        vertical-align: middle;\n",
       "    }\n",
       "\n",
       "    .dataframe tbody tr th {\n",
       "        vertical-align: top;\n",
       "    }\n",
       "\n",
       "    .dataframe thead th {\n",
       "        text-align: right;\n",
       "    }\n",
       "</style>\n",
       "<table border=\"1\" class=\"dataframe\">\n",
       "  <thead>\n",
       "    <tr style=\"text-align: right;\">\n",
       "      <th></th>\n",
       "      <th>DateCrawled</th>\n",
       "      <th>Price</th>\n",
       "      <th>VehicleType</th>\n",
       "      <th>RegistrationYear</th>\n",
       "      <th>Gearbox</th>\n",
       "      <th>Power</th>\n",
       "      <th>Model</th>\n",
       "      <th>Kilometer</th>\n",
       "      <th>RegistrationMonth</th>\n",
       "      <th>FuelType</th>\n",
       "      <th>Brand</th>\n",
       "      <th>NotRepaired</th>\n",
       "      <th>DateCreated</th>\n",
       "      <th>NumberOfPictures</th>\n",
       "      <th>PostalCode</th>\n",
       "      <th>LastSeen</th>\n",
       "    </tr>\n",
       "  </thead>\n",
       "  <tbody>\n",
       "    <tr>\n",
       "      <td>0</td>\n",
       "      <td>2016-03-24 11:52:17</td>\n",
       "      <td>480</td>\n",
       "      <td>NaN</td>\n",
       "      <td>1993</td>\n",
       "      <td>manual</td>\n",
       "      <td>0</td>\n",
       "      <td>golf</td>\n",
       "      <td>150000</td>\n",
       "      <td>0</td>\n",
       "      <td>petrol</td>\n",
       "      <td>volkswagen</td>\n",
       "      <td>NaN</td>\n",
       "      <td>2016-03-24 00:00:00</td>\n",
       "      <td>0</td>\n",
       "      <td>70435</td>\n",
       "      <td>2016-04-07 03:16:57</td>\n",
       "    </tr>\n",
       "    <tr>\n",
       "      <td>1</td>\n",
       "      <td>2016-03-24 10:58:45</td>\n",
       "      <td>18300</td>\n",
       "      <td>coupe</td>\n",
       "      <td>2011</td>\n",
       "      <td>manual</td>\n",
       "      <td>190</td>\n",
       "      <td>NaN</td>\n",
       "      <td>125000</td>\n",
       "      <td>5</td>\n",
       "      <td>gasoline</td>\n",
       "      <td>audi</td>\n",
       "      <td>yes</td>\n",
       "      <td>2016-03-24 00:00:00</td>\n",
       "      <td>0</td>\n",
       "      <td>66954</td>\n",
       "      <td>2016-04-07 01:46:50</td>\n",
       "    </tr>\n",
       "    <tr>\n",
       "      <td>2</td>\n",
       "      <td>2016-03-14 12:52:21</td>\n",
       "      <td>9800</td>\n",
       "      <td>suv</td>\n",
       "      <td>2004</td>\n",
       "      <td>auto</td>\n",
       "      <td>163</td>\n",
       "      <td>grand</td>\n",
       "      <td>125000</td>\n",
       "      <td>8</td>\n",
       "      <td>gasoline</td>\n",
       "      <td>jeep</td>\n",
       "      <td>NaN</td>\n",
       "      <td>2016-03-14 00:00:00</td>\n",
       "      <td>0</td>\n",
       "      <td>90480</td>\n",
       "      <td>2016-04-05 12:47:46</td>\n",
       "    </tr>\n",
       "    <tr>\n",
       "      <td>3</td>\n",
       "      <td>2016-03-17 16:54:04</td>\n",
       "      <td>1500</td>\n",
       "      <td>small</td>\n",
       "      <td>2001</td>\n",
       "      <td>manual</td>\n",
       "      <td>75</td>\n",
       "      <td>golf</td>\n",
       "      <td>150000</td>\n",
       "      <td>6</td>\n",
       "      <td>petrol</td>\n",
       "      <td>volkswagen</td>\n",
       "      <td>no</td>\n",
       "      <td>2016-03-17 00:00:00</td>\n",
       "      <td>0</td>\n",
       "      <td>91074</td>\n",
       "      <td>2016-03-17 17:40:17</td>\n",
       "    </tr>\n",
       "    <tr>\n",
       "      <td>4</td>\n",
       "      <td>2016-03-31 17:25:20</td>\n",
       "      <td>3600</td>\n",
       "      <td>small</td>\n",
       "      <td>2008</td>\n",
       "      <td>manual</td>\n",
       "      <td>69</td>\n",
       "      <td>fabia</td>\n",
       "      <td>90000</td>\n",
       "      <td>7</td>\n",
       "      <td>gasoline</td>\n",
       "      <td>skoda</td>\n",
       "      <td>no</td>\n",
       "      <td>2016-03-31 00:00:00</td>\n",
       "      <td>0</td>\n",
       "      <td>60437</td>\n",
       "      <td>2016-04-06 10:17:21</td>\n",
       "    </tr>\n",
       "  </tbody>\n",
       "</table>\n",
       "</div>"
      ],
      "text/plain": [
       "           DateCrawled  Price VehicleType  RegistrationYear Gearbox  Power  \\\n",
       "0  2016-03-24 11:52:17    480         NaN              1993  manual      0   \n",
       "1  2016-03-24 10:58:45  18300       coupe              2011  manual    190   \n",
       "2  2016-03-14 12:52:21   9800         suv              2004    auto    163   \n",
       "3  2016-03-17 16:54:04   1500       small              2001  manual     75   \n",
       "4  2016-03-31 17:25:20   3600       small              2008  manual     69   \n",
       "\n",
       "   Model  Kilometer  RegistrationMonth  FuelType       Brand NotRepaired  \\\n",
       "0   golf     150000                  0    petrol  volkswagen         NaN   \n",
       "1    NaN     125000                  5  gasoline        audi         yes   \n",
       "2  grand     125000                  8  gasoline        jeep         NaN   \n",
       "3   golf     150000                  6    petrol  volkswagen          no   \n",
       "4  fabia      90000                  7  gasoline       skoda          no   \n",
       "\n",
       "           DateCreated  NumberOfPictures  PostalCode             LastSeen  \n",
       "0  2016-03-24 00:00:00                 0       70435  2016-04-07 03:16:57  \n",
       "1  2016-03-24 00:00:00                 0       66954  2016-04-07 01:46:50  \n",
       "2  2016-03-14 00:00:00                 0       90480  2016-04-05 12:47:46  \n",
       "3  2016-03-17 00:00:00                 0       91074  2016-03-17 17:40:17  \n",
       "4  2016-03-31 00:00:00                 0       60437  2016-04-06 10:17:21  "
      ]
     },
     "execution_count": 2,
     "metadata": {},
     "output_type": "execute_result"
    }
   ],
   "source": [
    "df = pd.read_csv('/datasets/autos.csv')\n",
    "df.head()"
   ]
  },
  {
   "cell_type": "code",
   "execution_count": 3,
   "metadata": {},
   "outputs": [
    {
     "name": "stdout",
     "output_type": "stream",
     "text": [
      "<class 'pandas.core.frame.DataFrame'>\n",
      "RangeIndex: 354369 entries, 0 to 354368\n",
      "Data columns (total 16 columns):\n",
      "DateCrawled          354369 non-null object\n",
      "Price                354369 non-null int64\n",
      "VehicleType          316879 non-null object\n",
      "RegistrationYear     354369 non-null int64\n",
      "Gearbox              334536 non-null object\n",
      "Power                354369 non-null int64\n",
      "Model                334664 non-null object\n",
      "Kilometer            354369 non-null int64\n",
      "RegistrationMonth    354369 non-null int64\n",
      "FuelType             321474 non-null object\n",
      "Brand                354369 non-null object\n",
      "NotRepaired          283215 non-null object\n",
      "DateCreated          354369 non-null object\n",
      "NumberOfPictures     354369 non-null int64\n",
      "PostalCode           354369 non-null int64\n",
      "LastSeen             354369 non-null object\n",
      "dtypes: int64(7), object(9)\n",
      "memory usage: 43.3+ MB\n"
     ]
    }
   ],
   "source": [
    "df.info()"
   ]
  },
  {
   "cell_type": "markdown",
   "metadata": {},
   "source": [
    "Имеем около 50 тыс пропусков в типе кузовов авто (можно попробовать заполнить их, сравнивая с маркой авто и моделью (например, Фольцсваген Гольф сразу относится в типу кузова хэтчбек))<br>\n",
    "GearBox - около 20 тыс пропусков (тут также необходимо сравнивать с маркой авто и его мощностью)<br>\n",
    "Model - 20 тыс пропусков (тут обратная задача к типу автомобильного кузова=) по марке и типу кузова попробуем что нибудь да заполнить)<br>\n",
    "NotRepaired была в ремонте или нет (любая машина ломается, можно поставить условие, если машина до 2008 года то не была в ремонте, иначе была, и нужно еще учесть пробег авто (если меньше 120 то не была иначе была))"
   ]
  },
  {
   "cell_type": "code",
   "execution_count": 4,
   "metadata": {},
   "outputs": [
    {
     "data": {
      "text/html": [
       "<div>\n",
       "<style scoped>\n",
       "    .dataframe tbody tr th:only-of-type {\n",
       "        vertical-align: middle;\n",
       "    }\n",
       "\n",
       "    .dataframe tbody tr th {\n",
       "        vertical-align: top;\n",
       "    }\n",
       "\n",
       "    .dataframe thead th {\n",
       "        text-align: right;\n",
       "    }\n",
       "</style>\n",
       "<table border=\"1\" class=\"dataframe\">\n",
       "  <thead>\n",
       "    <tr style=\"text-align: right;\">\n",
       "      <th></th>\n",
       "      <th>Price</th>\n",
       "      <th>RegistrationYear</th>\n",
       "      <th>Power</th>\n",
       "      <th>Kilometer</th>\n",
       "      <th>RegistrationMonth</th>\n",
       "      <th>NumberOfPictures</th>\n",
       "      <th>PostalCode</th>\n",
       "    </tr>\n",
       "  </thead>\n",
       "  <tbody>\n",
       "    <tr>\n",
       "      <td>count</td>\n",
       "      <td>354369.000000</td>\n",
       "      <td>354369.000000</td>\n",
       "      <td>354369.000000</td>\n",
       "      <td>354369.000000</td>\n",
       "      <td>354369.000000</td>\n",
       "      <td>354369.0</td>\n",
       "      <td>354369.000000</td>\n",
       "    </tr>\n",
       "    <tr>\n",
       "      <td>mean</td>\n",
       "      <td>4416.656776</td>\n",
       "      <td>2004.234448</td>\n",
       "      <td>110.094337</td>\n",
       "      <td>128211.172535</td>\n",
       "      <td>5.714645</td>\n",
       "      <td>0.0</td>\n",
       "      <td>50508.689087</td>\n",
       "    </tr>\n",
       "    <tr>\n",
       "      <td>std</td>\n",
       "      <td>4514.158514</td>\n",
       "      <td>90.227958</td>\n",
       "      <td>189.850405</td>\n",
       "      <td>37905.341530</td>\n",
       "      <td>3.726421</td>\n",
       "      <td>0.0</td>\n",
       "      <td>25783.096248</td>\n",
       "    </tr>\n",
       "    <tr>\n",
       "      <td>min</td>\n",
       "      <td>0.000000</td>\n",
       "      <td>1000.000000</td>\n",
       "      <td>0.000000</td>\n",
       "      <td>5000.000000</td>\n",
       "      <td>0.000000</td>\n",
       "      <td>0.0</td>\n",
       "      <td>1067.000000</td>\n",
       "    </tr>\n",
       "    <tr>\n",
       "      <td>25%</td>\n",
       "      <td>1050.000000</td>\n",
       "      <td>1999.000000</td>\n",
       "      <td>69.000000</td>\n",
       "      <td>125000.000000</td>\n",
       "      <td>3.000000</td>\n",
       "      <td>0.0</td>\n",
       "      <td>30165.000000</td>\n",
       "    </tr>\n",
       "    <tr>\n",
       "      <td>50%</td>\n",
       "      <td>2700.000000</td>\n",
       "      <td>2003.000000</td>\n",
       "      <td>105.000000</td>\n",
       "      <td>150000.000000</td>\n",
       "      <td>6.000000</td>\n",
       "      <td>0.0</td>\n",
       "      <td>49413.000000</td>\n",
       "    </tr>\n",
       "    <tr>\n",
       "      <td>75%</td>\n",
       "      <td>6400.000000</td>\n",
       "      <td>2008.000000</td>\n",
       "      <td>143.000000</td>\n",
       "      <td>150000.000000</td>\n",
       "      <td>9.000000</td>\n",
       "      <td>0.0</td>\n",
       "      <td>71083.000000</td>\n",
       "    </tr>\n",
       "    <tr>\n",
       "      <td>max</td>\n",
       "      <td>20000.000000</td>\n",
       "      <td>9999.000000</td>\n",
       "      <td>20000.000000</td>\n",
       "      <td>150000.000000</td>\n",
       "      <td>12.000000</td>\n",
       "      <td>0.0</td>\n",
       "      <td>99998.000000</td>\n",
       "    </tr>\n",
       "  </tbody>\n",
       "</table>\n",
       "</div>"
      ],
      "text/plain": [
       "               Price  RegistrationYear          Power      Kilometer  \\\n",
       "count  354369.000000     354369.000000  354369.000000  354369.000000   \n",
       "mean     4416.656776       2004.234448     110.094337  128211.172535   \n",
       "std      4514.158514         90.227958     189.850405   37905.341530   \n",
       "min         0.000000       1000.000000       0.000000    5000.000000   \n",
       "25%      1050.000000       1999.000000      69.000000  125000.000000   \n",
       "50%      2700.000000       2003.000000     105.000000  150000.000000   \n",
       "75%      6400.000000       2008.000000     143.000000  150000.000000   \n",
       "max     20000.000000       9999.000000   20000.000000  150000.000000   \n",
       "\n",
       "       RegistrationMonth  NumberOfPictures     PostalCode  \n",
       "count      354369.000000          354369.0  354369.000000  \n",
       "mean            5.714645               0.0   50508.689087  \n",
       "std             3.726421               0.0   25783.096248  \n",
       "min             0.000000               0.0    1067.000000  \n",
       "25%             3.000000               0.0   30165.000000  \n",
       "50%             6.000000               0.0   49413.000000  \n",
       "75%             9.000000               0.0   71083.000000  \n",
       "max            12.000000               0.0   99998.000000  "
      ]
     },
     "execution_count": 4,
     "metadata": {},
     "output_type": "execute_result"
    }
   ],
   "source": [
    "df.describe()"
   ]
  },
  {
   "cell_type": "markdown",
   "metadata": {},
   "source": [
    "Цена авто варьируется от 0 до 20000 евро (Bugatti или Rolls-Royce тут видимо отсутсвует). Смущает, что имеются авто с нулевой ценой, можн заполнить их медианой.<br>\n",
    "Год регистрации авто от 1000 до 9999, что явно ошибки, с мощностью тоже какие то ошибки (о и 20000 л.с, кто то продает ракеты=)).<br>\n",
    "Никто не выкладывает фото, т.е. можем убрать данный признак из нашего датафрейма, почтовый индекс нам тоже не поможет в обучении."
   ]
  },
  {
   "cell_type": "code",
   "execution_count": 5,
   "metadata": {},
   "outputs": [
    {
     "data": {
      "text/html": [
       "<div>\n",
       "<style scoped>\n",
       "    .dataframe tbody tr th:only-of-type {\n",
       "        vertical-align: middle;\n",
       "    }\n",
       "\n",
       "    .dataframe tbody tr th {\n",
       "        vertical-align: top;\n",
       "    }\n",
       "\n",
       "    .dataframe thead th {\n",
       "        text-align: right;\n",
       "    }\n",
       "</style>\n",
       "<table border=\"1\" class=\"dataframe\">\n",
       "  <thead>\n",
       "    <tr style=\"text-align: right;\">\n",
       "      <th></th>\n",
       "      <th>Price</th>\n",
       "      <th>RegistrationYear</th>\n",
       "      <th>Power</th>\n",
       "      <th>Kilometer</th>\n",
       "      <th>RegistrationMonth</th>\n",
       "      <th>NumberOfPictures</th>\n",
       "      <th>PostalCode</th>\n",
       "    </tr>\n",
       "  </thead>\n",
       "  <tbody>\n",
       "    <tr>\n",
       "      <td>Price</td>\n",
       "      <td>1.000000</td>\n",
       "      <td>0.026916</td>\n",
       "      <td>0.158872</td>\n",
       "      <td>-0.333199</td>\n",
       "      <td>0.110581</td>\n",
       "      <td>NaN</td>\n",
       "      <td>0.076055</td>\n",
       "    </tr>\n",
       "    <tr>\n",
       "      <td>RegistrationYear</td>\n",
       "      <td>0.026916</td>\n",
       "      <td>1.000000</td>\n",
       "      <td>-0.000828</td>\n",
       "      <td>-0.053447</td>\n",
       "      <td>-0.011619</td>\n",
       "      <td>NaN</td>\n",
       "      <td>-0.003459</td>\n",
       "    </tr>\n",
       "    <tr>\n",
       "      <td>Power</td>\n",
       "      <td>0.158872</td>\n",
       "      <td>-0.000828</td>\n",
       "      <td>1.000000</td>\n",
       "      <td>0.024002</td>\n",
       "      <td>0.043380</td>\n",
       "      <td>NaN</td>\n",
       "      <td>0.021665</td>\n",
       "    </tr>\n",
       "    <tr>\n",
       "      <td>Kilometer</td>\n",
       "      <td>-0.333199</td>\n",
       "      <td>-0.053447</td>\n",
       "      <td>0.024002</td>\n",
       "      <td>1.000000</td>\n",
       "      <td>0.009571</td>\n",
       "      <td>NaN</td>\n",
       "      <td>-0.007698</td>\n",
       "    </tr>\n",
       "    <tr>\n",
       "      <td>RegistrationMonth</td>\n",
       "      <td>0.110581</td>\n",
       "      <td>-0.011619</td>\n",
       "      <td>0.043380</td>\n",
       "      <td>0.009571</td>\n",
       "      <td>1.000000</td>\n",
       "      <td>NaN</td>\n",
       "      <td>0.013995</td>\n",
       "    </tr>\n",
       "    <tr>\n",
       "      <td>NumberOfPictures</td>\n",
       "      <td>NaN</td>\n",
       "      <td>NaN</td>\n",
       "      <td>NaN</td>\n",
       "      <td>NaN</td>\n",
       "      <td>NaN</td>\n",
       "      <td>NaN</td>\n",
       "      <td>NaN</td>\n",
       "    </tr>\n",
       "    <tr>\n",
       "      <td>PostalCode</td>\n",
       "      <td>0.076055</td>\n",
       "      <td>-0.003459</td>\n",
       "      <td>0.021665</td>\n",
       "      <td>-0.007698</td>\n",
       "      <td>0.013995</td>\n",
       "      <td>NaN</td>\n",
       "      <td>1.000000</td>\n",
       "    </tr>\n",
       "  </tbody>\n",
       "</table>\n",
       "</div>"
      ],
      "text/plain": [
       "                      Price  RegistrationYear     Power  Kilometer  \\\n",
       "Price              1.000000          0.026916  0.158872  -0.333199   \n",
       "RegistrationYear   0.026916          1.000000 -0.000828  -0.053447   \n",
       "Power              0.158872         -0.000828  1.000000   0.024002   \n",
       "Kilometer         -0.333199         -0.053447  0.024002   1.000000   \n",
       "RegistrationMonth  0.110581         -0.011619  0.043380   0.009571   \n",
       "NumberOfPictures        NaN               NaN       NaN        NaN   \n",
       "PostalCode         0.076055         -0.003459  0.021665  -0.007698   \n",
       "\n",
       "                   RegistrationMonth  NumberOfPictures  PostalCode  \n",
       "Price                       0.110581               NaN    0.076055  \n",
       "RegistrationYear           -0.011619               NaN   -0.003459  \n",
       "Power                       0.043380               NaN    0.021665  \n",
       "Kilometer                   0.009571               NaN   -0.007698  \n",
       "RegistrationMonth           1.000000               NaN    0.013995  \n",
       "NumberOfPictures                 NaN               NaN         NaN  \n",
       "PostalCode                  0.013995               NaN    1.000000  "
      ]
     },
     "execution_count": 5,
     "metadata": {},
     "output_type": "execute_result"
    }
   ],
   "source": [
    "#проверим корреляцию\n",
    "df.corr()"
   ]
  },
  {
   "cell_type": "markdown",
   "metadata": {},
   "source": [
    "Самые сильные корреляции это зависимость цены авто от мощности и пробега. В остальном не очень сильно зависят."
   ]
  },
  {
   "cell_type": "code",
   "execution_count": 6,
   "metadata": {},
   "outputs": [
    {
     "data": {
      "text/plain": [
       "(354198, 16)"
      ]
     },
     "execution_count": 6,
     "metadata": {},
     "output_type": "execute_result"
    }
   ],
   "source": [
    "#удалим все авто ниже 1900 и выше 2020, их будет немного\n",
    "year = df.loc[((df['RegistrationYear']>2020)|(df['RegistrationYear']<1900))]\n",
    "df = df.drop(year.index)\n",
    "df.shape"
   ]
  },
  {
   "cell_type": "code",
   "execution_count": 7,
   "metadata": {},
   "outputs": [],
   "source": [
    "#удалим столбец признак с фото и почтовый индекс, дата объявления, последний просмотр (для машинного обучения нам они не понадобятся)\n",
    "df = df.drop(['NumberOfPictures', 'PostalCode', 'RegistrationMonth', 'DateCreated', 'LastSeen', 'DateCrawled'], axis = 1)"
   ]
  },
  {
   "cell_type": "code",
   "execution_count": 8,
   "metadata": {},
   "outputs": [
    {
     "data": {
      "text/plain": [
       "45031"
      ]
     },
     "execution_count": 8,
     "metadata": {},
     "output_type": "execute_result"
    }
   ],
   "source": [
    "#определим сумму дубликатов\n",
    "df.duplicated().sum()"
   ]
  },
  {
   "cell_type": "markdown",
   "metadata": {},
   "source": [
    "Имеем 45031 дубликат, их нужно удалять, ибо модель будет обучаться на одинаковых данных"
   ]
  },
  {
   "cell_type": "code",
   "execution_count": 9,
   "metadata": {},
   "outputs": [],
   "source": [
    "df = df.drop_duplicates().reset_index(drop=True)#удалим дубликаты\n"
   ]
  },
  {
   "cell_type": "code",
   "execution_count": 10,
   "metadata": {},
   "outputs": [
    {
     "name": "stdout",
     "output_type": "stream",
     "text": [
      "<class 'pandas.core.frame.DataFrame'>\n",
      "RangeIndex: 309167 entries, 0 to 309166\n",
      "Data columns (total 10 columns):\n",
      "Price               309167 non-null int64\n",
      "VehicleType         274770 non-null object\n",
      "RegistrationYear    309167 non-null int64\n",
      "Gearbox             292092 non-null object\n",
      "Power               309167 non-null int64\n",
      "Model               290874 non-null object\n",
      "Kilometer           309167 non-null int64\n",
      "FuelType            278524 non-null object\n",
      "Brand               309167 non-null object\n",
      "NotRepaired         244750 non-null object\n",
      "dtypes: int64(4), object(6)\n",
      "memory usage: 23.6+ MB\n"
     ]
    }
   ],
   "source": [
    "df.info()"
   ]
  },
  {
   "cell_type": "code",
   "execution_count": 11,
   "metadata": {},
   "outputs": [],
   "source": [
    "brand_unique = df['Brand'].unique()\n",
    "model_unique = df.loc[~df['Model'].isnull(), 'Model'].unique()\n",
    "vehicletype_unique = df['VehicleType'].unique()"
   ]
  },
  {
   "cell_type": "code",
   "execution_count": 12,
   "metadata": {},
   "outputs": [
    {
     "data": {
      "text/plain": [
       "array(['volkswagen', 'audi', 'jeep', 'skoda', 'bmw', 'peugeot', 'ford',\n",
       "       'mazda', 'nissan', 'renault', 'mercedes_benz', 'opel', 'seat',\n",
       "       'citroen', 'honda', 'fiat', 'mini', 'smart', 'hyundai',\n",
       "       'sonstige_autos', 'alfa_romeo', 'subaru', 'volvo', 'mitsubishi',\n",
       "       'kia', 'suzuki', 'lancia', 'toyota', 'chevrolet', 'dacia',\n",
       "       'daihatsu', 'trabant', 'saab', 'chrysler', 'jaguar', 'daewoo',\n",
       "       'porsche', 'rover', 'land_rover', 'lada'], dtype=object)"
      ]
     },
     "execution_count": 12,
     "metadata": {},
     "output_type": "execute_result"
    }
   ],
   "source": [
    "brand_unique"
   ]
  },
  {
   "cell_type": "code",
   "execution_count": 13,
   "metadata": {},
   "outputs": [
    {
     "data": {
      "text/plain": [
       "array(['golf', 'grand', 'fabia', '3er', '2_reihe', 'other', 'c_max',\n",
       "       '3_reihe', 'passat', 'navara', 'ka', 'polo', 'twingo', 'a_klasse',\n",
       "       'scirocco', '5er', 'meriva', 'arosa', 'c4', 'civic', 'transporter',\n",
       "       'punto', 'e_klasse', 'clio', 'kadett', 'kangoo', 'corsa', 'one',\n",
       "       'fortwo', '1er', 'b_klasse', 'signum', 'astra', 'a8', 'jetta',\n",
       "       'fiesta', 'c_klasse', 'micra', 'vito', 'sprinter', '156', 'escort',\n",
       "       'forester', 'xc_reihe', 'scenic', 'a4', 'a1', 'insignia', 'combo',\n",
       "       'focus', 'tt', 'a6', 'jazz', 'omega', 'slk', '7er', '80', '147',\n",
       "       '100', 'z_reihe', 'sportage', 'sorento', 'v40', 'ibiza', 'mustang',\n",
       "       'eos', 'touran', 'getz', 'a3', 'almera', 'megane', 'lupo', 'r19',\n",
       "       'zafira', 'caddy', 'mondeo', 'cordoba', 'colt', 'impreza',\n",
       "       'vectra', 'berlingo', 'tiguan', 'i_reihe', 'espace', 'sharan',\n",
       "       '6_reihe', 'panda', 'up', 'seicento', 'ceed', '5_reihe', 'yeti',\n",
       "       'octavia', 'mii', 'rx_reihe', '6er', 'modus', 'fox', 'matiz',\n",
       "       'beetle', 'c1', 'rio', 'touareg', 'logan', 'spider', 'cuore',\n",
       "       's_max', 'a2', 'galaxy', 'c3', 'viano', 's_klasse', '1_reihe',\n",
       "       'avensis', 'roomster', 'sl', 'kaefer', 'santa', 'cooper', 'leon',\n",
       "       '4_reihe', 'a5', '500', 'laguna', 'ptcruiser', 'clk', 'primera',\n",
       "       'x_reihe', 'exeo', '159', 'transit', 'juke', 'qashqai', 'carisma',\n",
       "       'accord', 'corolla', 'lanos', 'phaeton', 'verso', 'swift', 'rav',\n",
       "       'picanto', 'boxster', 'kalos', 'superb', 'stilo', 'alhambra',\n",
       "       'mx_reihe', 'roadster', 'ypsilon', 'cayenne', 'galant', 'justy',\n",
       "       '90', 'sirion', 'crossfire', 'agila', 'duster', 'cr_reihe', 'v50',\n",
       "       'c_reihe', 'v_klasse', 'm_klasse', 'yaris', 'c5', 'aygo', 'cc',\n",
       "       'carnival', 'fusion', '911', 'bora', 'forfour', 'm_reihe', 'cl',\n",
       "       'tigra', '300c', 'spark', 'v70', 'kuga', 'x_type', 'ducato',\n",
       "       's_type', 'x_trail', 'toledo', 'altea', 'voyager', 'calibra',\n",
       "       'bravo', 'antara', 'tucson', 'citigo', 'jimny', 'wrangler',\n",
       "       'lybra', 'q7', 'lancer', 'captiva', 'c2', 'discovery',\n",
       "       'freelander', 'sandero', 'note', '900', 'cherokee', 'clubman',\n",
       "       'samara', 'defender', '601', 'cx_reihe', 'legacy', 'pajero',\n",
       "       'auris', 'niva', 's60', 'nubira', 'vivaro', 'g_klasse', 'lodgy',\n",
       "       '850', 'range_rover', 'q3', 'serie_2', 'glk', 'charade', 'croma',\n",
       "       'outlander', 'doblo', 'musa', 'move', '9000', 'v60', '145', 'aveo',\n",
       "       '200', 'b_max', 'range_rover_sport', 'terios', 'rangerover', 'q5',\n",
       "       'range_rover_evoque', 'materia', 'delta', 'gl', 'kalina', 'amarok',\n",
       "       'elefantino', 'i3', 'kappa', 'serie_3', 'serie_1'], dtype=object)"
      ]
     },
     "execution_count": 13,
     "metadata": {},
     "output_type": "execute_result"
    }
   ],
   "source": [
    "model_unique"
   ]
  },
  {
   "cell_type": "code",
   "execution_count": 14,
   "metadata": {},
   "outputs": [],
   "source": [
    "#создадим копию датафрейма для классических моделей\n",
    "df_model = df.copy()"
   ]
  },
  {
   "cell_type": "code",
   "execution_count": 15,
   "metadata": {},
   "outputs": [
    {
     "data": {
      "text/plain": [
       "<matplotlib.axes._subplots.AxesSubplot at 0x7fc414015650>"
      ]
     },
     "execution_count": 15,
     "metadata": {},
     "output_type": "execute_result"
    },
    {
     "data": {
      "image/png": "[encoded data removed]",
      "text/plain": [
       "<Figure size 1080x648 with 1 Axes>"
      ]
     },
     "metadata": {
      "needs_background": "light"
     },
     "output_type": "display_data"
    }
   ],
   "source": [
    "#проверим по boxplot'у выбросы в признаке Мощность\n",
    "df_model.boxplot('Power', figsize=(15,9))"
   ]
  },
  {
   "cell_type": "markdown",
   "metadata": {},
   "source": [
    "По условию сказано, что мощность указывается в л.с., в нашем случае выбросов очень много. Согласно последним новостям самый мощный серийный автомобиль был создан японцами мощностью 2000 л.с., а у нас в датасете даже 20 тыс л.с. Не вижу ничего другого как удалить эти строки"
   ]
  },
  {
   "cell_type": "code",
   "execution_count": 16,
   "metadata": {},
   "outputs": [
    {
     "data": {
      "text/plain": [
       "313"
      ]
     },
     "execution_count": 16,
     "metadata": {},
     "output_type": "execute_result"
    }
   ],
   "source": [
    "#проверим вообще сколько у нас машин, мощность которых больше 900 л.с.\n",
    "df_model.loc[df_model['Power']>900, 'Power'].count()"
   ]
  },
  {
   "cell_type": "markdown",
   "metadata": {},
   "source": [
    "Всего 313, если потеряем 313 строк из 300 тыс, то ничего не поменяется=)"
   ]
  },
  {
   "cell_type": "code",
   "execution_count": 17,
   "metadata": {},
   "outputs": [],
   "source": [
    "df_model = df_model.drop(df_model.loc[df_model['Power']>900].index).reset_index(drop=True)"
   ]
  },
  {
   "cell_type": "code",
   "execution_count": 18,
   "metadata": {},
   "outputs": [
    {
     "data": {
      "text/html": [
       "<div>\n",
       "<style scoped>\n",
       "    .dataframe tbody tr th:only-of-type {\n",
       "        vertical-align: middle;\n",
       "    }\n",
       "\n",
       "    .dataframe tbody tr th {\n",
       "        vertical-align: top;\n",
       "    }\n",
       "\n",
       "    .dataframe thead th {\n",
       "        text-align: right;\n",
       "    }\n",
       "</style>\n",
       "<table border=\"1\" class=\"dataframe\">\n",
       "  <thead>\n",
       "    <tr style=\"text-align: right;\">\n",
       "      <th></th>\n",
       "      <th>Price</th>\n",
       "      <th>VehicleType</th>\n",
       "      <th>RegistrationYear</th>\n",
       "      <th>Gearbox</th>\n",
       "      <th>Power</th>\n",
       "      <th>Model</th>\n",
       "      <th>Kilometer</th>\n",
       "      <th>FuelType</th>\n",
       "      <th>Brand</th>\n",
       "      <th>NotRepaired</th>\n",
       "    </tr>\n",
       "  </thead>\n",
       "  <tbody>\n",
       "    <tr>\n",
       "      <td>0</td>\n",
       "      <td>480</td>\n",
       "      <td>NaN</td>\n",
       "      <td>1993</td>\n",
       "      <td>manual</td>\n",
       "      <td>0</td>\n",
       "      <td>golf</td>\n",
       "      <td>150000</td>\n",
       "      <td>petrol</td>\n",
       "      <td>volkswagen</td>\n",
       "      <td>NaN</td>\n",
       "    </tr>\n",
       "    <tr>\n",
       "      <td>1</td>\n",
       "      <td>18300</td>\n",
       "      <td>coupe</td>\n",
       "      <td>2011</td>\n",
       "      <td>manual</td>\n",
       "      <td>190</td>\n",
       "      <td>NaN</td>\n",
       "      <td>125000</td>\n",
       "      <td>gasoline</td>\n",
       "      <td>audi</td>\n",
       "      <td>yes</td>\n",
       "    </tr>\n",
       "    <tr>\n",
       "      <td>2</td>\n",
       "      <td>9800</td>\n",
       "      <td>suv</td>\n",
       "      <td>2004</td>\n",
       "      <td>auto</td>\n",
       "      <td>163</td>\n",
       "      <td>grand</td>\n",
       "      <td>125000</td>\n",
       "      <td>gasoline</td>\n",
       "      <td>jeep</td>\n",
       "      <td>NaN</td>\n",
       "    </tr>\n",
       "    <tr>\n",
       "      <td>3</td>\n",
       "      <td>1500</td>\n",
       "      <td>small</td>\n",
       "      <td>2001</td>\n",
       "      <td>manual</td>\n",
       "      <td>75</td>\n",
       "      <td>golf</td>\n",
       "      <td>150000</td>\n",
       "      <td>petrol</td>\n",
       "      <td>volkswagen</td>\n",
       "      <td>no</td>\n",
       "    </tr>\n",
       "    <tr>\n",
       "      <td>4</td>\n",
       "      <td>3600</td>\n",
       "      <td>small</td>\n",
       "      <td>2008</td>\n",
       "      <td>manual</td>\n",
       "      <td>69</td>\n",
       "      <td>fabia</td>\n",
       "      <td>90000</td>\n",
       "      <td>gasoline</td>\n",
       "      <td>skoda</td>\n",
       "      <td>no</td>\n",
       "    </tr>\n",
       "  </tbody>\n",
       "</table>\n",
       "</div>"
      ],
      "text/plain": [
       "   Price VehicleType  RegistrationYear Gearbox  Power  Model  Kilometer  \\\n",
       "0    480         NaN              1993  manual      0   golf     150000   \n",
       "1  18300       coupe              2011  manual    190    NaN     125000   \n",
       "2   9800         suv              2004    auto    163  grand     125000   \n",
       "3   1500       small              2001  manual     75   golf     150000   \n",
       "4   3600       small              2008  manual     69  fabia      90000   \n",
       "\n",
       "   FuelType       Brand NotRepaired  \n",
       "0    petrol  volkswagen         NaN  \n",
       "1  gasoline        audi         yes  \n",
       "2  gasoline        jeep         NaN  \n",
       "3    petrol  volkswagen          no  \n",
       "4  gasoline       skoda          no  "
      ]
     },
     "execution_count": 18,
     "metadata": {},
     "output_type": "execute_result"
    }
   ],
   "source": [
    "df_model.head()"
   ]
  },
  {
   "cell_type": "code",
   "execution_count": 19,
   "metadata": {},
   "outputs": [],
   "source": [
    "#функция для замены NaN модой\n",
    "def replace_nan(df, columns1, columns2, columns3, unique1, unique2):\n",
    "    for i in unique1:\n",
    "        for j in unique2:\n",
    "            if df.loc[((df[columns1] == i) & (df[columns2] == j)), columns3].count() == 0:\n",
    "                continue\n",
    "            else:\n",
    "                df.loc[((df[columns1] == i) & (df[columns2] == j) & (df[columns3].isnull())), columns3] = df.loc[((df[columns1] == i) & (df[columns2] == j)), columns3].mode()[0]\n",
    "    return df"
   ]
  },
  {
   "cell_type": "code",
   "execution_count": 20,
   "metadata": {},
   "outputs": [],
   "source": [
    "df_model = replace_nan(df_model, 'Brand', 'Model', 'VehicleType', brand_unique, model_unique)"
   ]
  },
  {
   "cell_type": "code",
   "execution_count": 21,
   "metadata": {},
   "outputs": [
    {
     "data": {
      "text/html": [
       "<div>\n",
       "<style scoped>\n",
       "    .dataframe tbody tr th:only-of-type {\n",
       "        vertical-align: middle;\n",
       "    }\n",
       "\n",
       "    .dataframe tbody tr th {\n",
       "        vertical-align: top;\n",
       "    }\n",
       "\n",
       "    .dataframe thead th {\n",
       "        text-align: right;\n",
       "    }\n",
       "</style>\n",
       "<table border=\"1\" class=\"dataframe\">\n",
       "  <thead>\n",
       "    <tr style=\"text-align: right;\">\n",
       "      <th></th>\n",
       "      <th>Price</th>\n",
       "      <th>VehicleType</th>\n",
       "      <th>RegistrationYear</th>\n",
       "      <th>Gearbox</th>\n",
       "      <th>Power</th>\n",
       "      <th>Model</th>\n",
       "      <th>Kilometer</th>\n",
       "      <th>FuelType</th>\n",
       "      <th>Brand</th>\n",
       "      <th>NotRepaired</th>\n",
       "    </tr>\n",
       "  </thead>\n",
       "  <tbody>\n",
       "    <tr>\n",
       "      <td>0</td>\n",
       "      <td>480</td>\n",
       "      <td>sedan</td>\n",
       "      <td>1993</td>\n",
       "      <td>manual</td>\n",
       "      <td>0</td>\n",
       "      <td>golf</td>\n",
       "      <td>150000</td>\n",
       "      <td>petrol</td>\n",
       "      <td>volkswagen</td>\n",
       "      <td>NaN</td>\n",
       "    </tr>\n",
       "    <tr>\n",
       "      <td>1</td>\n",
       "      <td>18300</td>\n",
       "      <td>coupe</td>\n",
       "      <td>2011</td>\n",
       "      <td>manual</td>\n",
       "      <td>190</td>\n",
       "      <td>NaN</td>\n",
       "      <td>125000</td>\n",
       "      <td>gasoline</td>\n",
       "      <td>audi</td>\n",
       "      <td>yes</td>\n",
       "    </tr>\n",
       "    <tr>\n",
       "      <td>2</td>\n",
       "      <td>9800</td>\n",
       "      <td>suv</td>\n",
       "      <td>2004</td>\n",
       "      <td>auto</td>\n",
       "      <td>163</td>\n",
       "      <td>grand</td>\n",
       "      <td>125000</td>\n",
       "      <td>gasoline</td>\n",
       "      <td>jeep</td>\n",
       "      <td>NaN</td>\n",
       "    </tr>\n",
       "    <tr>\n",
       "      <td>3</td>\n",
       "      <td>1500</td>\n",
       "      <td>small</td>\n",
       "      <td>2001</td>\n",
       "      <td>manual</td>\n",
       "      <td>75</td>\n",
       "      <td>golf</td>\n",
       "      <td>150000</td>\n",
       "      <td>petrol</td>\n",
       "      <td>volkswagen</td>\n",
       "      <td>no</td>\n",
       "    </tr>\n",
       "    <tr>\n",
       "      <td>4</td>\n",
       "      <td>3600</td>\n",
       "      <td>small</td>\n",
       "      <td>2008</td>\n",
       "      <td>manual</td>\n",
       "      <td>69</td>\n",
       "      <td>fabia</td>\n",
       "      <td>90000</td>\n",
       "      <td>gasoline</td>\n",
       "      <td>skoda</td>\n",
       "      <td>no</td>\n",
       "    </tr>\n",
       "  </tbody>\n",
       "</table>\n",
       "</div>"
      ],
      "text/plain": [
       "   Price VehicleType  RegistrationYear Gearbox  Power  Model  Kilometer  \\\n",
       "0    480       sedan              1993  manual      0   golf     150000   \n",
       "1  18300       coupe              2011  manual    190    NaN     125000   \n",
       "2   9800         suv              2004    auto    163  grand     125000   \n",
       "3   1500       small              2001  manual     75   golf     150000   \n",
       "4   3600       small              2008  manual     69  fabia      90000   \n",
       "\n",
       "   FuelType       Brand NotRepaired  \n",
       "0    petrol  volkswagen         NaN  \n",
       "1  gasoline        audi         yes  \n",
       "2  gasoline        jeep         NaN  \n",
       "3    petrol  volkswagen          no  \n",
       "4  gasoline       skoda          no  "
      ]
     },
     "execution_count": 21,
     "metadata": {},
     "output_type": "execute_result"
    }
   ],
   "source": [
    "df_model.head()"
   ]
  },
  {
   "cell_type": "code",
   "execution_count": 22,
   "metadata": {},
   "outputs": [],
   "source": [
    "#можно посмотреть какого года авто были в ремонте и с каким пробегом и на основе этого мы мы сможем заполнить пропуски\n",
    "year_unique = df_model['RegistrationYear'].unique()\n",
    "kilometer_unique = df_model['Kilometer'].unique()"
   ]
  },
  {
   "cell_type": "code",
   "execution_count": 23,
   "metadata": {},
   "outputs": [
    {
     "data": {
      "text/plain": [
       "array([1993, 2011, 2004, 2001, 2008, 1995, 1980, 2014, 1998, 2005, 1910,\n",
       "       2016, 2007, 2009, 2002, 2018, 1997, 1990, 2017, 1981, 2003, 1994,\n",
       "       1991, 1984, 2006, 1999, 2012, 2010, 2000, 1992, 2013, 1996, 1985,\n",
       "       1989, 2015, 1982, 1976, 1983, 1973, 1969, 1971, 1987, 1986, 1988,\n",
       "       1970, 1965, 1945, 1925, 1974, 1979, 1955, 1978, 1972, 1968, 1977,\n",
       "       1961, 1960, 1966, 1975, 1963, 1964, 1954, 1958, 1967, 1959, 1956,\n",
       "       1941, 1962, 1929, 1957, 1940, 1949, 2019, 1937, 1951, 1953, 1933,\n",
       "       1950, 1948, 1952, 1932, 1942, 1935, 1936, 1923, 1930, 1944, 1943,\n",
       "       1934, 1938, 1928, 1919, 1931, 1915, 1920, 1947, 1927, 1946])"
      ]
     },
     "execution_count": 23,
     "metadata": {},
     "output_type": "execute_result"
    }
   ],
   "source": [
    "year_unique"
   ]
  },
  {
   "cell_type": "code",
   "execution_count": 24,
   "metadata": {},
   "outputs": [
    {
     "data": {
      "text/plain": [
       "array([150000, 125000,  90000,  40000,  30000,  70000,   5000, 100000,\n",
       "        60000,  20000,  80000,  50000,  10000])"
      ]
     },
     "execution_count": 24,
     "metadata": {},
     "output_type": "execute_result"
    }
   ],
   "source": [
    "kilometer_unique"
   ]
  },
  {
   "cell_type": "code",
   "execution_count": 25,
   "metadata": {},
   "outputs": [
    {
     "data": {
      "text/plain": [
       "33392"
      ]
     },
     "execution_count": 25,
     "metadata": {},
     "output_type": "execute_result"
    }
   ],
   "source": [
    "kilometer_yes = df_model.loc[(df['NotRepaired']=='yes'), 'Kilometer']\n",
    "registration_yes = df_model.loc[(df['NotRepaired']=='yes'), 'RegistrationYear']\n",
    "kilometer_no = df_model.loc[df_model['NotRepaired']=='no', 'Kilometer']\n",
    "registration_no = df_model.loc[(df_model['NotRepaired']=='no'), 'RegistrationYear']\n",
    "kilometer_yes.count()"
   ]
  },
  {
   "cell_type": "code",
   "execution_count": 26,
   "metadata": {},
   "outputs": [
    {
     "data": {
      "text/plain": [
       "211154"
      ]
     },
     "execution_count": 26,
     "metadata": {},
     "output_type": "execute_result"
    }
   ],
   "source": [
    "kilometer_no.count()"
   ]
  },
  {
   "cell_type": "code",
   "execution_count": 27,
   "metadata": {},
   "outputs": [
    {
     "data": {
      "text/plain": [
       "<matplotlib.axes._subplots.AxesSubplot at 0x7fc4130b8690>"
      ]
     },
     "execution_count": 27,
     "metadata": {},
     "output_type": "execute_result"
    },
    {
     "data": {
      "image/png": "[encoded data removed]",
      "text/plain": [
       "<Figure size 1080x576 with 1 Axes>"
      ]
     },
     "metadata": {
      "needs_background": "light"
     },
     "output_type": "display_data"
    }
   ],
   "source": [
    "kilometer_yes.hist(bins=10, figsize=(15,8))"
   ]
  },
  {
   "cell_type": "code",
   "execution_count": 28,
   "metadata": {},
   "outputs": [
    {
     "data": {
      "text/plain": [
       "<matplotlib.axes._subplots.AxesSubplot at 0x7fc413045550>"
      ]
     },
     "execution_count": 28,
     "metadata": {},
     "output_type": "execute_result"
    },
    {
     "data": {
      "image/png": "[encoded data removed]",
      "text/plain": [
       "<Figure size 1080x576 with 1 Axes>"
      ]
     },
     "metadata": {
      "needs_background": "light"
     },
     "output_type": "display_data"
    }
   ],
   "source": [
    "kilometer_no.hist(bins=10, figsize=(15,8))"
   ]
  },
  {
   "cell_type": "code",
   "execution_count": 29,
   "metadata": {},
   "outputs": [
    {
     "data": {
      "text/plain": [
       "<matplotlib.axes._subplots.AxesSubplot at 0x7fc412f96350>"
      ]
     },
     "execution_count": 29,
     "metadata": {},
     "output_type": "execute_result"
    },
    {
     "data": {
      "image/png": "[encoded data removed]",
      "text/plain": [
       "<Figure size 1080x648 with 1 Axes>"
      ]
     },
     "metadata": {
      "needs_background": "light"
     },
     "output_type": "display_data"
    }
   ],
   "source": [
    "registration_yes.hist(bins=100, figsize=(15,9))"
   ]
  },
  {
   "cell_type": "code",
   "execution_count": 30,
   "metadata": {},
   "outputs": [
    {
     "data": {
      "text/plain": [
       "<matplotlib.axes._subplots.AxesSubplot at 0x7fc412996fd0>"
      ]
     },
     "execution_count": 30,
     "metadata": {},
     "output_type": "execute_result"
    },
    {
     "data": {
      "image/png": "[encoded data removed]",
      "text/plain": [
       "<Figure size 1080x648 with 1 Axes>"
      ]
     },
     "metadata": {
      "needs_background": "light"
     },
     "output_type": "display_data"
    }
   ],
   "source": [
    "registration_no.hist(bins=100, figsize=(15,9))"
   ]
  },
  {
   "cell_type": "markdown",
   "metadata": {},
   "source": [
    "Будем считать, если машина старше 2000 года - то ремонт был, если младше 2000 года то - ремонта не было"
   ]
  },
  {
   "cell_type": "code",
   "execution_count": 31,
   "metadata": {},
   "outputs": [],
   "source": [
    "bools = ['yes', 'no']"
   ]
  },
  {
   "cell_type": "code",
   "execution_count": 32,
   "metadata": {},
   "outputs": [
    {
     "name": "stdout",
     "output_type": "stream",
     "text": [
      "<class 'pandas.core.frame.DataFrame'>\n",
      "RangeIndex: 309167 entries, 0 to 309166\n",
      "Data columns (total 10 columns):\n",
      "Price               309167 non-null int64\n",
      "VehicleType         274770 non-null object\n",
      "RegistrationYear    309167 non-null int64\n",
      "Gearbox             292092 non-null object\n",
      "Power               309167 non-null int64\n",
      "Model               290874 non-null object\n",
      "Kilometer           309167 non-null int64\n",
      "FuelType            278524 non-null object\n",
      "Brand               309167 non-null object\n",
      "NotRepaired         244750 non-null object\n",
      "dtypes: int64(4), object(6)\n",
      "memory usage: 23.6+ MB\n"
     ]
    }
   ],
   "source": [
    "df.info()"
   ]
  },
  {
   "cell_type": "code",
   "execution_count": 33,
   "metadata": {},
   "outputs": [
    {
     "name": "stdout",
     "output_type": "stream",
     "text": [
      "<class 'pandas.core.frame.DataFrame'>\n",
      "RangeIndex: 308854 entries, 0 to 308853\n",
      "Data columns (total 10 columns):\n",
      "Price               308854 non-null int64\n",
      "VehicleType         302882 non-null object\n",
      "RegistrationYear    308854 non-null int64\n",
      "Gearbox             291792 non-null object\n",
      "Power               308854 non-null int64\n",
      "Model               290596 non-null object\n",
      "Kilometer           308854 non-null int64\n",
      "FuelType            278273 non-null object\n",
      "Brand               308854 non-null object\n",
      "NotRepaired         244543 non-null object\n",
      "dtypes: int64(4), object(6)\n",
      "memory usage: 23.6+ MB\n"
     ]
    }
   ],
   "source": [
    "df_model.info()"
   ]
  },
  {
   "cell_type": "code",
   "execution_count": 34,
   "metadata": {},
   "outputs": [],
   "source": [
    "df_model.loc[(df_model['NotRepaired'].isnull()) & (df_model['RegistrationYear']<2000), 'NotRepaired'] = bools[0]\n",
    "df_model.loc[(df_model['NotRepaired'].isnull()) & (df_model['RegistrationYear']>=2000), 'NotRepaired'] = bools[1]"
   ]
  },
  {
   "cell_type": "code",
   "execution_count": 35,
   "metadata": {},
   "outputs": [
    {
     "name": "stdout",
     "output_type": "stream",
     "text": [
      "<class 'pandas.core.frame.DataFrame'>\n",
      "RangeIndex: 308854 entries, 0 to 308853\n",
      "Data columns (total 10 columns):\n",
      "Price               308854 non-null int64\n",
      "VehicleType         302882 non-null object\n",
      "RegistrationYear    308854 non-null int64\n",
      "Gearbox             291792 non-null object\n",
      "Power               308854 non-null int64\n",
      "Model               290596 non-null object\n",
      "Kilometer           308854 non-null int64\n",
      "FuelType            278273 non-null object\n",
      "Brand               308854 non-null object\n",
      "NotRepaired         308854 non-null object\n",
      "dtypes: int64(4), object(6)\n",
      "memory usage: 23.6+ MB\n"
     ]
    }
   ],
   "source": [
    "df_model.info()"
   ]
  },
  {
   "cell_type": "markdown",
   "metadata": {},
   "source": [
    "Тип топлива возьмем по моде по каждому авто и марке авто (аналогия с типом кузова)"
   ]
  },
  {
   "cell_type": "code",
   "execution_count": 36,
   "metadata": {},
   "outputs": [],
   "source": [
    "df_model = replace_nan(df_model, 'Brand', 'Model', 'FuelType', brand_unique, model_unique)"
   ]
  },
  {
   "cell_type": "code",
   "execution_count": 37,
   "metadata": {},
   "outputs": [
    {
     "name": "stdout",
     "output_type": "stream",
     "text": [
      "<class 'pandas.core.frame.DataFrame'>\n",
      "RangeIndex: 308854 entries, 0 to 308853\n",
      "Data columns (total 10 columns):\n",
      "Price               308854 non-null int64\n",
      "VehicleType         302882 non-null object\n",
      "RegistrationYear    308854 non-null int64\n",
      "Gearbox             291792 non-null object\n",
      "Power               308854 non-null int64\n",
      "Model               290596 non-null object\n",
      "Kilometer           308854 non-null int64\n",
      "FuelType            302515 non-null object\n",
      "Brand               308854 non-null object\n",
      "NotRepaired         308854 non-null object\n",
      "dtypes: int64(4), object(6)\n",
      "memory usage: 23.6+ MB\n"
     ]
    }
   ],
   "source": [
    "df_model.info()"
   ]
  },
  {
   "cell_type": "code",
   "execution_count": 38,
   "metadata": {},
   "outputs": [],
   "source": [
    "df_model = df_model.dropna().reset_index(drop=True)"
   ]
  },
  {
   "cell_type": "code",
   "execution_count": 39,
   "metadata": {},
   "outputs": [
    {
     "name": "stdout",
     "output_type": "stream",
     "text": [
      "<class 'pandas.core.frame.DataFrame'>\n",
      "RangeIndex: 276924 entries, 0 to 276923\n",
      "Data columns (total 10 columns):\n",
      "Price               276924 non-null int64\n",
      "VehicleType         276924 non-null object\n",
      "RegistrationYear    276924 non-null int64\n",
      "Gearbox             276924 non-null object\n",
      "Power               276924 non-null int64\n",
      "Model               276924 non-null object\n",
      "Kilometer           276924 non-null int64\n",
      "FuelType            276924 non-null object\n",
      "Brand               276924 non-null object\n",
      "NotRepaired         276924 non-null object\n",
      "dtypes: int64(4), object(6)\n",
      "memory usage: 21.1+ MB\n"
     ]
    }
   ],
   "source": [
    "df_model.info()"
   ]
  },
  {
   "cell_type": "code",
   "execution_count": 40,
   "metadata": {},
   "outputs": [
    {
     "data": {
      "text/html": [
       "<div>\n",
       "<style scoped>\n",
       "    .dataframe tbody tr th:only-of-type {\n",
       "        vertical-align: middle;\n",
       "    }\n",
       "\n",
       "    .dataframe tbody tr th {\n",
       "        vertical-align: top;\n",
       "    }\n",
       "\n",
       "    .dataframe thead th {\n",
       "        text-align: right;\n",
       "    }\n",
       "</style>\n",
       "<table border=\"1\" class=\"dataframe\">\n",
       "  <thead>\n",
       "    <tr style=\"text-align: right;\">\n",
       "      <th></th>\n",
       "      <th>Price</th>\n",
       "      <th>VehicleType</th>\n",
       "      <th>RegistrationYear</th>\n",
       "      <th>Gearbox</th>\n",
       "      <th>Power</th>\n",
       "      <th>Model</th>\n",
       "      <th>Kilometer</th>\n",
       "      <th>FuelType</th>\n",
       "      <th>Brand</th>\n",
       "      <th>NotRepaired</th>\n",
       "    </tr>\n",
       "  </thead>\n",
       "  <tbody>\n",
       "    <tr>\n",
       "      <td>0</td>\n",
       "      <td>480</td>\n",
       "      <td>sedan</td>\n",
       "      <td>1993</td>\n",
       "      <td>manual</td>\n",
       "      <td>0</td>\n",
       "      <td>golf</td>\n",
       "      <td>150000</td>\n",
       "      <td>petrol</td>\n",
       "      <td>volkswagen</td>\n",
       "      <td>yes</td>\n",
       "    </tr>\n",
       "    <tr>\n",
       "      <td>1</td>\n",
       "      <td>9800</td>\n",
       "      <td>suv</td>\n",
       "      <td>2004</td>\n",
       "      <td>auto</td>\n",
       "      <td>163</td>\n",
       "      <td>grand</td>\n",
       "      <td>125000</td>\n",
       "      <td>gasoline</td>\n",
       "      <td>jeep</td>\n",
       "      <td>no</td>\n",
       "    </tr>\n",
       "    <tr>\n",
       "      <td>2</td>\n",
       "      <td>1500</td>\n",
       "      <td>small</td>\n",
       "      <td>2001</td>\n",
       "      <td>manual</td>\n",
       "      <td>75</td>\n",
       "      <td>golf</td>\n",
       "      <td>150000</td>\n",
       "      <td>petrol</td>\n",
       "      <td>volkswagen</td>\n",
       "      <td>no</td>\n",
       "    </tr>\n",
       "    <tr>\n",
       "      <td>3</td>\n",
       "      <td>3600</td>\n",
       "      <td>small</td>\n",
       "      <td>2008</td>\n",
       "      <td>manual</td>\n",
       "      <td>69</td>\n",
       "      <td>fabia</td>\n",
       "      <td>90000</td>\n",
       "      <td>gasoline</td>\n",
       "      <td>skoda</td>\n",
       "      <td>no</td>\n",
       "    </tr>\n",
       "    <tr>\n",
       "      <td>4</td>\n",
       "      <td>650</td>\n",
       "      <td>sedan</td>\n",
       "      <td>1995</td>\n",
       "      <td>manual</td>\n",
       "      <td>102</td>\n",
       "      <td>3er</td>\n",
       "      <td>150000</td>\n",
       "      <td>petrol</td>\n",
       "      <td>bmw</td>\n",
       "      <td>yes</td>\n",
       "    </tr>\n",
       "  </tbody>\n",
       "</table>\n",
       "</div>"
      ],
      "text/plain": [
       "   Price VehicleType  RegistrationYear Gearbox  Power  Model  Kilometer  \\\n",
       "0    480       sedan              1993  manual      0   golf     150000   \n",
       "1   9800         suv              2004    auto    163  grand     125000   \n",
       "2   1500       small              2001  manual     75   golf     150000   \n",
       "3   3600       small              2008  manual     69  fabia      90000   \n",
       "4    650       sedan              1995  manual    102    3er     150000   \n",
       "\n",
       "   FuelType       Brand NotRepaired  \n",
       "0    petrol  volkswagen         yes  \n",
       "1  gasoline        jeep          no  \n",
       "2    petrol  volkswagen          no  \n",
       "3  gasoline       skoda          no  \n",
       "4    petrol         bmw         yes  "
      ]
     },
     "execution_count": 40,
     "metadata": {},
     "output_type": "execute_result"
    }
   ],
   "source": [
    "df_model.head()"
   ]
  },
  {
   "cell_type": "markdown",
   "metadata": {},
   "source": [
    "Итак, имеем 2 датафрейма, 1-ый исходный с Nan'ами (CatBoost согласно документации умеет с ними работать) и 2-й df_model предобработан и не имеет пропусков."
   ]
  },
  {
   "cell_type": "code",
   "execution_count": 41,
   "metadata": {},
   "outputs": [],
   "source": [
    "df_learning = df_model.copy()"
   ]
  },
  {
   "cell_type": "markdown",
   "metadata": {},
   "source": [
    "На данном этапе мы провеле предобработку данных, а именно заполнили пустые ячейки модой (тип кузова, топлива). По гистограммам определили, что в основном ломаются автомобили старше 2003 года, а после они ломались реже. Там где невозможно логично заполнить пустые ячейки, нам пришлось их просто удалить (такова судьба, никуда не деться). Процент потерянных данных около 10%."
   ]
  },
  {
   "cell_type": "markdown",
   "metadata": {},
   "source": [
    "<a id='section_id2'></a>"
   ]
  },
  {
   "cell_type": "markdown",
   "metadata": {},
   "source": [
    "# 2. Обучение моделей"
   ]
  },
  {
   "cell_type": "code",
   "execution_count": 42,
   "metadata": {},
   "outputs": [],
   "source": [
    "features = df_learning.drop(['Price'], axis=1)\n",
    "target = df_learning['Price']"
   ]
  },
  {
   "cell_type": "code",
   "execution_count": 43,
   "metadata": {},
   "outputs": [],
   "source": [
    "#разобьем нашу выборку на обучающую, валидационную и тестовую\n",
    "features_train, features_valid, target_train, target_valid = train_test_split(features, target, test_size = 0.4, random_state=12345)\n",
    "features_valid, features_test, target_valid, target_test = train_test_split(features_valid, target_valid, test_size = 0.5, random_state=12345)"
   ]
  },
  {
   "cell_type": "code",
   "execution_count": 44,
   "metadata": {},
   "outputs": [
    {
     "name": "stdout",
     "output_type": "stream",
     "text": [
      "Обучающая выборка признаков = (166154, 9)\n",
      "Валидационная выборка признаков = (55385, 9)\n",
      "Тестовая выборка признаков = (55385, 9)\n",
      "Обучающая выборка целевых признаков = (166154,)\n",
      "Валидационная выборка целевых признаков = (55385,)\n",
      "Тестовая выборка целевых признаков = (55385,)\n"
     ]
    }
   ],
   "source": [
    "print('Обучающая выборка признаков =', features_train.shape)\n",
    "print('Валидационная выборка признаков =',features_valid.shape)\n",
    "print('Тестовая выборка признаков =',features_test.shape)\n",
    "print('Обучающая выборка целевых признаков =',target_train.shape)\n",
    "print('Валидационная выборка целевых признаков =',target_valid.shape)\n",
    "print('Тестовая выборка целевых признаков =',target_test.shape)"
   ]
  },
  {
   "cell_type": "code",
   "execution_count": 45,
   "metadata": {},
   "outputs": [],
   "source": [
    "cat_features = ['VehicleType', 'Gearbox', 'Model', 'FuelType', 'Brand', 'NotRepaired']\n",
    "max_depth = 10\n",
    "best_model = None\n",
    "best_result = 100000000\n",
    "best_depth = 0\n",
    "best_estimators = 0"
   ]
  },
  {
   "cell_type": "markdown",
   "metadata": {},
   "source": [
    "<a id='section_id3'></a>"
   ]
  },
  {
   "cell_type": "markdown",
   "metadata": {},
   "source": [
    "## 2.1 Градиентный бустинг CatBoost"
   ]
  },
  {
   "cell_type": "code",
   "execution_count": 46,
   "metadata": {},
   "outputs": [
    {
     "name": "stdout",
     "output_type": "stream",
     "text": [
      "depth = 1\n",
      "0:\tlearn: 4566.6628502\ttotal: 158ms\tremaining: 31.5s\n",
      "10:\tlearn: 4239.3908626\ttotal: 1.06s\tremaining: 18.2s\n",
      "20:\tlearn: 4011.5443950\ttotal: 1.95s\tremaining: 16.6s\n",
      "30:\tlearn: 3834.5617526\ttotal: 2.85s\tremaining: 15.5s\n",
      "40:\tlearn: 3692.8777178\ttotal: 3.75s\tremaining: 14.5s\n",
      "50:\tlearn: 3578.1856572\ttotal: 4.64s\tremaining: 13.6s\n",
      "60:\tlearn: 3481.5102432\ttotal: 5.54s\tremaining: 12.6s\n",
      "70:\tlearn: 3399.5440351\ttotal: 6.43s\tremaining: 11.7s\n",
      "80:\tlearn: 3328.6055448\ttotal: 7.32s\tremaining: 10.8s\n",
      "90:\tlearn: 3264.9039299\ttotal: 8.21s\tremaining: 9.83s\n",
      "100:\tlearn: 3206.3621506\ttotal: 9.11s\tremaining: 8.93s\n",
      "110:\tlearn: 3152.9839298\ttotal: 10s\tremaining: 8.02s\n",
      "120:\tlearn: 3103.7043618\ttotal: 11s\tremaining: 7.18s\n",
      "130:\tlearn: 3031.2002406\ttotal: 11.8s\tremaining: 6.21s\n",
      "140:\tlearn: 2982.4884113\ttotal: 12.7s\tremaining: 5.31s\n",
      "150:\tlearn: 2942.9405728\ttotal: 13.7s\tremaining: 4.44s\n",
      "160:\tlearn: 2905.7384987\ttotal: 14.5s\tremaining: 3.51s\n",
      "170:\tlearn: 2871.9593903\ttotal: 15.4s\tremaining: 2.61s\n",
      "180:\tlearn: 2840.6348275\ttotal: 16.3s\tremaining: 1.71s\n",
      "190:\tlearn: 2811.2908311\ttotal: 17.1s\tremaining: 804ms\n",
      "199:\tlearn: 2786.5223292\ttotal: 17.9s\tremaining: 0us\n",
      "depth = 2\n",
      "0:\tlearn: 4545.9923253\ttotal: 205ms\tremaining: 40.8s\n",
      "10:\tlearn: 4044.7509396\ttotal: 1.71s\tremaining: 29.3s\n",
      "20:\tlearn: 3697.0431786\ttotal: 3.19s\tremaining: 27.2s\n",
      "30:\tlearn: 3447.7619690\ttotal: 4.59s\tremaining: 25s\n",
      "40:\tlearn: 3243.6080124\ttotal: 6.09s\tremaining: 23.6s\n",
      "50:\tlearn: 3089.9228220\ttotal: 7.58s\tremaining: 22.2s\n",
      "60:\tlearn: 2964.3745720\ttotal: 9.17s\tremaining: 20.9s\n",
      "70:\tlearn: 2868.3208502\ttotal: 10.7s\tremaining: 19.4s\n",
      "80:\tlearn: 2775.4201731\ttotal: 12.1s\tremaining: 17.7s\n",
      "90:\tlearn: 2704.8606918\ttotal: 13.3s\tremaining: 15.9s\n",
      "100:\tlearn: 2650.0215779\ttotal: 14.6s\tremaining: 14.3s\n",
      "110:\tlearn: 2587.3393286\ttotal: 16s\tremaining: 12.9s\n",
      "120:\tlearn: 2538.8990085\ttotal: 17.4s\tremaining: 11.4s\n",
      "130:\tlearn: 2493.3469789\ttotal: 18.8s\tremaining: 9.92s\n",
      "140:\tlearn: 2457.1951972\ttotal: 20.1s\tremaining: 8.42s\n",
      "150:\tlearn: 2424.8312190\ttotal: 21.4s\tremaining: 6.95s\n",
      "160:\tlearn: 2397.0504520\ttotal: 22.8s\tremaining: 5.53s\n",
      "170:\tlearn: 2369.5676045\ttotal: 24.3s\tremaining: 4.12s\n",
      "180:\tlearn: 2346.6647236\ttotal: 25.8s\tremaining: 2.71s\n",
      "190:\tlearn: 2326.4066401\ttotal: 27.1s\tremaining: 1.28s\n",
      "199:\tlearn: 2308.5682476\ttotal: 28.3s\tremaining: 0us\n",
      "depth = 3\n",
      "0:\tlearn: 4537.3758945\ttotal: 172ms\tremaining: 34.2s\n",
      "10:\tlearn: 3952.6456691\ttotal: 2.56s\tremaining: 44.1s\n",
      "20:\tlearn: 3541.9798127\ttotal: 4.86s\tremaining: 41.4s\n",
      "30:\tlearn: 3252.9724987\ttotal: 6.96s\tremaining: 37.9s\n",
      "40:\tlearn: 3030.0756279\ttotal: 9.15s\tremaining: 35.5s\n",
      "50:\tlearn: 2857.4810064\ttotal: 11.4s\tremaining: 33.4s\n",
      "60:\tlearn: 2725.7754428\ttotal: 13.7s\tremaining: 31.3s\n",
      "70:\tlearn: 2613.3457658\ttotal: 15.6s\tremaining: 28.4s\n",
      "80:\tlearn: 2531.0354087\ttotal: 17.5s\tremaining: 25.7s\n",
      "90:\tlearn: 2467.7395057\ttotal: 19.2s\tremaining: 23s\n",
      "100:\tlearn: 2417.9267015\ttotal: 21.1s\tremaining: 20.7s\n",
      "110:\tlearn: 2375.4462918\ttotal: 23.1s\tremaining: 18.5s\n",
      "120:\tlearn: 2336.1875413\ttotal: 25.2s\tremaining: 16.5s\n",
      "130:\tlearn: 2301.5271092\ttotal: 27.3s\tremaining: 14.4s\n",
      "140:\tlearn: 2269.7995282\ttotal: 29.4s\tremaining: 12.3s\n",
      "150:\tlearn: 2243.0103853\ttotal: 31.6s\tremaining: 10.3s\n",
      "160:\tlearn: 2220.4187858\ttotal: 33.8s\tremaining: 8.19s\n",
      "170:\tlearn: 2201.6434019\ttotal: 35.9s\tremaining: 6.08s\n",
      "180:\tlearn: 2184.2458107\ttotal: 38s\tremaining: 3.99s\n",
      "190:\tlearn: 2169.4441484\ttotal: 39.9s\tremaining: 1.88s\n",
      "199:\tlearn: 2156.3786277\ttotal: 42s\tremaining: 0us\n",
      "depth = 4\n",
      "0:\tlearn: 4531.6625219\ttotal: 295ms\tremaining: 58.8s\n",
      "10:\tlearn: 3885.6300029\ttotal: 3.39s\tremaining: 58.2s\n",
      "20:\tlearn: 3430.4511661\ttotal: 6.58s\tremaining: 56.1s\n",
      "30:\tlearn: 3110.2077718\ttotal: 9.74s\tremaining: 53.1s\n",
      "40:\tlearn: 2881.3449140\ttotal: 12.6s\tremaining: 48.9s\n",
      "50:\tlearn: 2704.1984169\ttotal: 15.6s\tremaining: 45.6s\n",
      "60:\tlearn: 2566.8173117\ttotal: 18.6s\tremaining: 42.4s\n",
      "70:\tlearn: 2460.4350944\ttotal: 21.4s\tremaining: 38.9s\n",
      "80:\tlearn: 2381.4455717\ttotal: 23.8s\tremaining: 34.9s\n",
      "90:\tlearn: 2320.1181943\ttotal: 26.4s\tremaining: 31.6s\n",
      "100:\tlearn: 2272.0370578\ttotal: 28.9s\tremaining: 28.3s\n",
      "110:\tlearn: 2232.9274597\ttotal: 31.6s\tremaining: 25.3s\n",
      "120:\tlearn: 2203.0130687\ttotal: 34.3s\tremaining: 22.4s\n",
      "130:\tlearn: 2175.8515314\ttotal: 37.2s\tremaining: 19.6s\n",
      "140:\tlearn: 2155.6562851\ttotal: 40.2s\tremaining: 16.8s\n",
      "150:\tlearn: 2134.0579698\ttotal: 43.3s\tremaining: 14.1s\n",
      "160:\tlearn: 2117.1204476\ttotal: 46.5s\tremaining: 11.3s\n",
      "170:\tlearn: 2101.2336997\ttotal: 49.7s\tremaining: 8.43s\n",
      "180:\tlearn: 2087.5030049\ttotal: 52.8s\tremaining: 5.54s\n",
      "190:\tlearn: 2075.9779201\ttotal: 55.7s\tremaining: 2.63s\n",
      "199:\tlearn: 2065.7747398\ttotal: 58.5s\tremaining: 0us\n",
      "depth = 5\n",
      "0:\tlearn: 4527.7276832\ttotal: 413ms\tremaining: 1m 22s\n",
      "10:\tlearn: 3843.9044347\ttotal: 4.7s\tremaining: 1m 20s\n",
      "20:\tlearn: 3357.4006263\ttotal: 8.6s\tremaining: 1m 13s\n",
      "30:\tlearn: 3013.2122691\ttotal: 12.5s\tremaining: 1m 8s\n",
      "40:\tlearn: 2770.8320642\ttotal: 16.5s\tremaining: 1m 3s\n",
      "50:\tlearn: 2590.7477946\ttotal: 20.2s\tremaining: 58.9s\n",
      "60:\tlearn: 2457.9735933\ttotal: 24s\tremaining: 54.6s\n",
      "70:\tlearn: 2358.1828385\ttotal: 27.8s\tremaining: 50.4s\n",
      "80:\tlearn: 2276.6041706\ttotal: 31.3s\tremaining: 45.9s\n",
      "90:\tlearn: 2221.0494592\ttotal: 34.5s\tremaining: 41.4s\n",
      "100:\tlearn: 2177.3893287\ttotal: 37.7s\tremaining: 37s\n",
      "110:\tlearn: 2145.0007579\ttotal: 41.2s\tremaining: 33.1s\n",
      "120:\tlearn: 2117.4523398\ttotal: 44.7s\tremaining: 29.2s\n",
      "130:\tlearn: 2092.8550918\ttotal: 48.4s\tremaining: 25.5s\n",
      "140:\tlearn: 2072.4665484\ttotal: 52.2s\tremaining: 21.8s\n",
      "150:\tlearn: 2056.7192951\ttotal: 55.8s\tremaining: 18.1s\n",
      "160:\tlearn: 2042.4411249\ttotal: 59.5s\tremaining: 14.4s\n",
      "170:\tlearn: 2030.6757375\ttotal: 1m 3s\tremaining: 10.7s\n",
      "180:\tlearn: 2020.0177015\ttotal: 1m 6s\tremaining: 7.01s\n",
      "190:\tlearn: 2010.0406479\ttotal: 1m 10s\tremaining: 3.32s\n",
      "199:\tlearn: 2002.1602116\ttotal: 1m 13s\tremaining: 0us\n",
      "depth = 6\n",
      "0:\tlearn: 4523.4235326\ttotal: 497ms\tremaining: 1m 38s\n",
      "10:\tlearn: 3804.8876477\ttotal: 5.58s\tremaining: 1m 35s\n",
      "20:\tlearn: 3295.9574827\ttotal: 10.3s\tremaining: 1m 27s\n",
      "30:\tlearn: 2943.2475756\ttotal: 15.4s\tremaining: 1m 23s\n",
      "40:\tlearn: 2689.0412294\ttotal: 19.9s\tremaining: 1m 17s\n",
      "50:\tlearn: 2510.1479369\ttotal: 24.6s\tremaining: 1m 11s\n",
      "60:\tlearn: 2372.5001291\ttotal: 29s\tremaining: 1m 5s\n",
      "70:\tlearn: 2272.3416581\ttotal: 33.2s\tremaining: 1m\n",
      "80:\tlearn: 2203.8328184\ttotal: 37.5s\tremaining: 55.1s\n",
      "90:\tlearn: 2152.0405698\ttotal: 41.6s\tremaining: 49.8s\n",
      "100:\tlearn: 2115.6811730\ttotal: 45.8s\tremaining: 44.9s\n",
      "110:\tlearn: 2085.2314541\ttotal: 49.9s\tremaining: 40s\n",
      "120:\tlearn: 2060.5385111\ttotal: 54.2s\tremaining: 35.4s\n",
      "130:\tlearn: 2041.0090525\ttotal: 58.5s\tremaining: 30.8s\n",
      "140:\tlearn: 2022.9729928\ttotal: 1m 3s\tremaining: 26.4s\n",
      "150:\tlearn: 2007.7697962\ttotal: 1m 7s\tremaining: 21.9s\n",
      "160:\tlearn: 1994.7835675\ttotal: 1m 12s\tremaining: 17.5s\n",
      "170:\tlearn: 1982.7859172\ttotal: 1m 16s\tremaining: 13s\n",
      "180:\tlearn: 1972.6258536\ttotal: 1m 21s\tremaining: 8.53s\n",
      "190:\tlearn: 1962.6088360\ttotal: 1m 25s\tremaining: 4.04s\n",
      "199:\tlearn: 1955.3218126\ttotal: 1m 30s\tremaining: 0us\n",
      "depth = 7\n",
      "0:\tlearn: 4518.7540471\ttotal: 583ms\tremaining: 1m 55s\n",
      "10:\tlearn: 3774.6161442\ttotal: 6.38s\tremaining: 1m 49s\n",
      "20:\tlearn: 3248.2881263\ttotal: 12.1s\tremaining: 1m 42s\n",
      "30:\tlearn: 2875.7311414\ttotal: 17.8s\tremaining: 1m 36s\n",
      "40:\tlearn: 2623.8403993\ttotal: 23.3s\tremaining: 1m 30s\n",
      "50:\tlearn: 2441.6380147\ttotal: 28.6s\tremaining: 1m 23s\n",
      "60:\tlearn: 2309.6183360\ttotal: 34.2s\tremaining: 1m 18s\n",
      "70:\tlearn: 2217.5201519\ttotal: 39.6s\tremaining: 1m 12s\n",
      "80:\tlearn: 2146.0311177\ttotal: 44.8s\tremaining: 1m 5s\n",
      "90:\tlearn: 2096.3565699\ttotal: 49.8s\tremaining: 59.6s\n",
      "100:\tlearn: 2060.3819018\ttotal: 55s\tremaining: 53.9s\n",
      "110:\tlearn: 2032.9467060\ttotal: 60s\tremaining: 48.1s\n",
      "120:\tlearn: 2009.1583384\ttotal: 1m 4s\tremaining: 42.2s\n",
      "130:\tlearn: 1990.2461176\ttotal: 1m 9s\tremaining: 36.5s\n",
      "140:\tlearn: 1974.7206667\ttotal: 1m 14s\tremaining: 31.2s\n",
      "150:\tlearn: 1961.0995844\ttotal: 1m 19s\tremaining: 25.8s\n",
      "160:\tlearn: 1947.9901486\ttotal: 1m 24s\tremaining: 20.5s\n",
      "170:\tlearn: 1937.6899891\ttotal: 1m 29s\tremaining: 15.2s\n",
      "180:\tlearn: 1929.0086477\ttotal: 1m 34s\tremaining: 9.97s\n",
      "190:\tlearn: 1920.9341100\ttotal: 1m 39s\tremaining: 4.71s\n",
      "199:\tlearn: 1913.3835628\ttotal: 1m 44s\tremaining: 0us\n",
      "depth = 8\n",
      "0:\tlearn: 4516.1604272\ttotal: 643ms\tremaining: 2m 8s\n",
      "10:\tlearn: 3747.6412443\ttotal: 7.84s\tremaining: 2m 14s\n",
      "20:\tlearn: 3202.5969127\ttotal: 14.6s\tremaining: 2m 4s\n",
      "30:\tlearn: 2828.8308261\ttotal: 21.4s\tremaining: 1m 56s\n",
      "40:\tlearn: 2570.3843757\ttotal: 28s\tremaining: 1m 48s\n",
      "50:\tlearn: 2385.9636627\ttotal: 34.6s\tremaining: 1m 41s\n",
      "60:\tlearn: 2254.4218677\ttotal: 41.2s\tremaining: 1m 33s\n",
      "70:\tlearn: 2161.6930897\ttotal: 47.5s\tremaining: 1m 26s\n",
      "80:\tlearn: 2096.1688592\ttotal: 53.4s\tremaining: 1m 18s\n",
      "90:\tlearn: 2049.8152708\ttotal: 59.5s\tremaining: 1m 11s\n",
      "100:\tlearn: 2015.5138980\ttotal: 1m 5s\tremaining: 1m 4s\n",
      "110:\tlearn: 1989.1990900\ttotal: 1m 11s\tremaining: 57.2s\n",
      "120:\tlearn: 1968.0704340\ttotal: 1m 17s\tremaining: 50.6s\n",
      "130:\tlearn: 1950.1527467\ttotal: 1m 23s\tremaining: 43.9s\n",
      "140:\tlearn: 1933.7546260\ttotal: 1m 28s\tremaining: 37.2s\n",
      "150:\tlearn: 1920.7261213\ttotal: 1m 34s\tremaining: 30.8s\n",
      "160:\tlearn: 1908.8136125\ttotal: 1m 40s\tremaining: 24.3s\n",
      "170:\tlearn: 1898.2440111\ttotal: 1m 46s\tremaining: 18.1s\n",
      "180:\tlearn: 1889.0324447\ttotal: 1m 52s\tremaining: 11.8s\n",
      "190:\tlearn: 1880.6083214\ttotal: 1m 58s\tremaining: 5.6s\n",
      "199:\tlearn: 1873.3968422\ttotal: 2m 4s\tremaining: 0us\n",
      "depth = 9\n",
      "0:\tlearn: 4514.0538765\ttotal: 813ms\tremaining: 2m 41s\n",
      "10:\tlearn: 3724.4245376\ttotal: 8.6s\tremaining: 2m 27s\n",
      "20:\tlearn: 3169.9546968\ttotal: 16.4s\tremaining: 2m 19s\n",
      "30:\tlearn: 2790.2106143\ttotal: 23.9s\tremaining: 2m 10s\n",
      "40:\tlearn: 2523.4078252\ttotal: 31.7s\tremaining: 2m 2s\n",
      "50:\tlearn: 2341.9170800\ttotal: 39.3s\tremaining: 1m 54s\n",
      "60:\tlearn: 2210.9543581\ttotal: 46.7s\tremaining: 1m 46s\n",
      "70:\tlearn: 2119.0917945\ttotal: 54.1s\tremaining: 1m 38s\n",
      "80:\tlearn: 2057.0324085\ttotal: 1m 1s\tremaining: 1m 29s\n",
      "90:\tlearn: 2011.2624478\ttotal: 1m 7s\tremaining: 1m 21s\n",
      "100:\tlearn: 1978.2427730\ttotal: 1m 14s\tremaining: 1m 13s\n",
      "110:\tlearn: 1952.1261517\ttotal: 1m 21s\tremaining: 1m 5s\n",
      "120:\tlearn: 1930.3950513\ttotal: 1m 28s\tremaining: 57.7s\n",
      "130:\tlearn: 1911.9514973\ttotal: 1m 34s\tremaining: 49.8s\n",
      "140:\tlearn: 1896.3513934\ttotal: 1m 41s\tremaining: 42.5s\n",
      "150:\tlearn: 1885.1176683\ttotal: 1m 48s\tremaining: 35.2s\n",
      "160:\tlearn: 1873.9683906\ttotal: 1m 55s\tremaining: 27.9s\n",
      "170:\tlearn: 1862.9179511\ttotal: 2m 2s\tremaining: 20.7s\n",
      "180:\tlearn: 1854.8988599\ttotal: 2m 9s\tremaining: 13.5s\n",
      "190:\tlearn: 1846.1084941\ttotal: 2m 15s\tremaining: 6.4s\n",
      "199:\tlearn: 1838.2912381\ttotal: 2m 22s\tremaining: 0us\n",
      "depth = 10\n",
      "0:\tlearn: 4512.2695614\ttotal: 935ms\tremaining: 3m 6s\n",
      "10:\tlearn: 3700.5256929\ttotal: 9.64s\tremaining: 2m 45s\n",
      "20:\tlearn: 3137.3121636\ttotal: 18.1s\tremaining: 2m 34s\n",
      "30:\tlearn: 2745.4384013\ttotal: 26.9s\tremaining: 2m 26s\n",
      "40:\tlearn: 2478.5699357\ttotal: 35.6s\tremaining: 2m 18s\n",
      "50:\tlearn: 2298.3746408\ttotal: 44.4s\tremaining: 2m 9s\n",
      "60:\tlearn: 2167.7924735\ttotal: 52.7s\tremaining: 2m\n",
      "70:\tlearn: 2078.4383358\ttotal: 1m 1s\tremaining: 1m 51s\n",
      "80:\tlearn: 2014.8483628\ttotal: 1m 9s\tremaining: 1m 42s\n",
      "90:\tlearn: 1970.2558414\ttotal: 1m 18s\tremaining: 1m 34s\n",
      "100:\tlearn: 1935.3680638\ttotal: 1m 27s\tremaining: 1m 25s\n",
      "110:\tlearn: 1909.1332401\ttotal: 1m 36s\tremaining: 1m 17s\n",
      "120:\tlearn: 1889.4410577\ttotal: 1m 44s\tremaining: 1m 8s\n",
      "130:\tlearn: 1872.7131031\ttotal: 1m 53s\tremaining: 59.8s\n",
      "140:\tlearn: 1859.6223937\ttotal: 2m 1s\tremaining: 51s\n",
      "150:\tlearn: 1847.2555874\ttotal: 2m 10s\tremaining: 42.4s\n",
      "160:\tlearn: 1837.1025613\ttotal: 2m 19s\tremaining: 33.7s\n",
      "170:\tlearn: 1826.0862860\ttotal: 2m 27s\tremaining: 25s\n",
      "180:\tlearn: 1815.5793826\ttotal: 2m 35s\tremaining: 16.4s\n",
      "190:\tlearn: 1806.5690727\ttotal: 2m 44s\tremaining: 7.73s\n",
      "199:\tlearn: 1799.7887787\ttotal: 2m 51s\tremaining: 0us\n",
      "CPU times: user 13min 5s, sys: 1min 16s, total: 14min 22s\n",
      "Wall time: 14min 37s\n"
     ]
    }
   ],
   "source": [
    "%%time\n",
    "for i in range(1, max_depth + 1):\n",
    "    print('depth =', i)\n",
    "    model = CatBoostRegressor(loss_function = 'RMSE', depth = i, n_estimators = 200,  random_state = 12345)\n",
    "    model.fit(features_train, target_train, cat_features = cat_features, verbose = 10)\n",
    "    predictions = model.predict(features_valid)\n",
    "    rmse = mean_squared_error(target_valid, predictions) ** 0.5\n",
    "    \n",
    "    if rmse < best_result:\n",
    "        best_model = model\n",
    "        best_depth = i\n",
    "        best_result = rmse\n",
    "        "
   ]
  },
  {
   "cell_type": "code",
   "execution_count": 47,
   "metadata": {},
   "outputs": [],
   "source": [
    "def show(string, best_result, best_depth):\n",
    "    print('Модель ' + string + ':')\n",
    "    print()\n",
    "    print('RMSE =', best_result)\n",
    "    print('Глубина depth =', best_depth)    "
   ]
  },
  {
   "cell_type": "code",
   "execution_count": 48,
   "metadata": {},
   "outputs": [
    {
     "name": "stdout",
     "output_type": "stream",
     "text": [
      "Модель CatBoost:\n",
      "\n",
      "RMSE = 1836.4065892007131\n",
      "Глубина depth = 10\n"
     ]
    }
   ],
   "source": [
    "show('CatBoost', best_result, best_depth)"
   ]
  },
  {
   "cell_type": "markdown",
   "metadata": {},
   "source": [
    "Итак, чтобы сделать 10 итераций по глубине дерева - время обучения составляет 13 мин 40 сек. Измерим время обучения и предсказания с подобранными гиперпараметрами."
   ]
  },
  {
   "cell_type": "code",
   "execution_count": 49,
   "metadata": {},
   "outputs": [
    {
     "name": "stdout",
     "output_type": "stream",
     "text": [
      "0:\tlearn: 4512.2695614\ttotal: 912ms\tremaining: 3m 1s\n",
      "10:\tlearn: 3700.5256929\ttotal: 9.71s\tremaining: 2m 46s\n",
      "20:\tlearn: 3137.3121636\ttotal: 18.3s\tremaining: 2m 35s\n",
      "30:\tlearn: 2745.4384013\ttotal: 27.1s\tremaining: 2m 27s\n",
      "40:\tlearn: 2478.5699357\ttotal: 35.8s\tremaining: 2m 18s\n",
      "50:\tlearn: 2298.3746408\ttotal: 44.8s\tremaining: 2m 10s\n",
      "60:\tlearn: 2167.7924735\ttotal: 53.2s\tremaining: 2m 1s\n",
      "70:\tlearn: 2078.4383358\ttotal: 1m 2s\tremaining: 1m 52s\n",
      "80:\tlearn: 2014.8483628\ttotal: 1m 10s\tremaining: 1m 44s\n",
      "90:\tlearn: 1970.2558414\ttotal: 1m 19s\tremaining: 1m 35s\n",
      "100:\tlearn: 1935.3680638\ttotal: 1m 28s\tremaining: 1m 26s\n",
      "110:\tlearn: 1909.1332401\ttotal: 1m 37s\tremaining: 1m 17s\n",
      "120:\tlearn: 1889.4410577\ttotal: 1m 46s\tremaining: 1m 9s\n",
      "130:\tlearn: 1872.7131031\ttotal: 1m 54s\tremaining: 1m\n",
      "140:\tlearn: 1859.6223937\ttotal: 2m 3s\tremaining: 51.6s\n",
      "150:\tlearn: 1847.2555874\ttotal: 2m 11s\tremaining: 42.8s\n",
      "160:\tlearn: 1837.1025613\ttotal: 2m 20s\tremaining: 34.1s\n",
      "170:\tlearn: 1826.0862860\ttotal: 2m 29s\tremaining: 25.3s\n",
      "180:\tlearn: 1815.5793826\ttotal: 2m 37s\tremaining: 16.6s\n",
      "190:\tlearn: 1806.5690727\ttotal: 2m 46s\tremaining: 7.83s\n",
      "199:\tlearn: 1799.7887787\ttotal: 2m 53s\tremaining: 0us\n",
      "CPU times: user 2min 40s, sys: 13.3 s, total: 2min 53s\n",
      "Wall time: 2min 55s\n"
     ]
    },
    {
     "data": {
      "text/plain": [
       "<catboost.core.CatBoostRegressor at 0x7fc4128711d0>"
      ]
     },
     "execution_count": 49,
     "metadata": {},
     "output_type": "execute_result"
    }
   ],
   "source": [
    "%%time\n",
    "best_model.fit(features_train, target_train, cat_features = cat_features, verbose = 10)"
   ]
  },
  {
   "cell_type": "code",
   "execution_count": 50,
   "metadata": {},
   "outputs": [
    {
     "name": "stdout",
     "output_type": "stream",
     "text": [
      "CPU times: user 337 ms, sys: 3.82 ms, total: 341 ms\n",
      "Wall time: 327 ms\n"
     ]
    },
    {
     "data": {
      "text/plain": [
       "array([ 9549.3134991 ,  5603.41031925, 17150.12620747, ...,\n",
       "        2490.26664486, 14523.65246182,  5885.95331536])"
      ]
     },
     "execution_count": 50,
     "metadata": {},
     "output_type": "execute_result"
    }
   ],
   "source": [
    "%%time\n",
    "best_model.predict(features_valid)"
   ]
  },
  {
   "cell_type": "markdown",
   "metadata": {},
   "source": [
    "Обучение модели CatBoost составило 2 мин 44 сек, а предсказания всего 255 мс. Проверим как покажется себя классическая модель и LightGBM"
   ]
  },
  {
   "cell_type": "code",
   "execution_count": 51,
   "metadata": {},
   "outputs": [],
   "source": [
    "#проверим качество на тестовой выборке\n",
    "predict_test = best_model.predict(features_test)"
   ]
  },
  {
   "cell_type": "code",
   "execution_count": 52,
   "metadata": {},
   "outputs": [
    {
     "data": {
      "text/plain": [
       "1822.4493210474805"
      ]
     },
     "execution_count": 52,
     "metadata": {},
     "output_type": "execute_result"
    }
   ],
   "source": [
    "rmse = mean_squared_error(target_test, predict_test) ** 0.5\n",
    "rmse"
   ]
  },
  {
   "cell_type": "markdown",
   "metadata": {},
   "source": [
    "На тестовой выборке rmse даже лучше чем на валидационной"
   ]
  },
  {
   "cell_type": "markdown",
   "metadata": {},
   "source": [
    "<a id='section_id4'></a>"
   ]
  },
  {
   "cell_type": "markdown",
   "metadata": {},
   "source": [
    "## 2.2 Случайный лес"
   ]
  },
  {
   "cell_type": "code",
   "execution_count": 53,
   "metadata": {},
   "outputs": [],
   "source": [
    "#чтобы работать с категориальномы переменными, проведем порядковое кодирование\n",
    "encoder = OrdinalEncoder()"
   ]
  },
  {
   "cell_type": "code",
   "execution_count": 58,
   "metadata": {},
   "outputs": [],
   "source": [
    "#проведем кодирование категориальных переменных\n",
    "df_oe = pd.DataFrame(encoder.fit_transform(df_learning[['VehicleType', 'Gearbox', 'Model', 'FuelType', 'Brand', 'NotRepaired']]),\n",
    "                            columns=df_learning[['VehicleType', 'Gearbox', 'Model', 'FuelType', 'Brand', 'NotRepaired']].columns)"
   ]
  },
  {
   "cell_type": "code",
   "execution_count": 60,
   "metadata": {},
   "outputs": [],
   "source": [
    "#перезапишем категориальные столбцы\n",
    "df_learning[['VehicleType', 'Gearbox', 'Model', 'FuelType', 'Brand', 'NotRepaired']] = df_oe"
   ]
  },
  {
   "cell_type": "code",
   "execution_count": 61,
   "metadata": {},
   "outputs": [
    {
     "data": {
      "text/html": [
       "<div>\n",
       "<style scoped>\n",
       "    .dataframe tbody tr th:only-of-type {\n",
       "        vertical-align: middle;\n",
       "    }\n",
       "\n",
       "    .dataframe tbody tr th {\n",
       "        vertical-align: top;\n",
       "    }\n",
       "\n",
       "    .dataframe thead th {\n",
       "        text-align: right;\n",
       "    }\n",
       "</style>\n",
       "<table border=\"1\" class=\"dataframe\">\n",
       "  <thead>\n",
       "    <tr style=\"text-align: right;\">\n",
       "      <th></th>\n",
       "      <th>Price</th>\n",
       "      <th>VehicleType</th>\n",
       "      <th>RegistrationYear</th>\n",
       "      <th>Gearbox</th>\n",
       "      <th>Power</th>\n",
       "      <th>Model</th>\n",
       "      <th>Kilometer</th>\n",
       "      <th>FuelType</th>\n",
       "      <th>Brand</th>\n",
       "      <th>NotRepaired</th>\n",
       "    </tr>\n",
       "  </thead>\n",
       "  <tbody>\n",
       "    <tr>\n",
       "      <td>0</td>\n",
       "      <td>480</td>\n",
       "      <td>4.0</td>\n",
       "      <td>1993</td>\n",
       "      <td>1.0</td>\n",
       "      <td>0</td>\n",
       "      <td>116.0</td>\n",
       "      <td>150000</td>\n",
       "      <td>6.0</td>\n",
       "      <td>37.0</td>\n",
       "      <td>1.0</td>\n",
       "    </tr>\n",
       "    <tr>\n",
       "      <td>1</td>\n",
       "      <td>9800</td>\n",
       "      <td>6.0</td>\n",
       "      <td>2004</td>\n",
       "      <td>0.0</td>\n",
       "      <td>163</td>\n",
       "      <td>117.0</td>\n",
       "      <td>125000</td>\n",
       "      <td>2.0</td>\n",
       "      <td>14.0</td>\n",
       "      <td>0.0</td>\n",
       "    </tr>\n",
       "    <tr>\n",
       "      <td>2</td>\n",
       "      <td>1500</td>\n",
       "      <td>5.0</td>\n",
       "      <td>2001</td>\n",
       "      <td>1.0</td>\n",
       "      <td>75</td>\n",
       "      <td>116.0</td>\n",
       "      <td>150000</td>\n",
       "      <td>6.0</td>\n",
       "      <td>37.0</td>\n",
       "      <td>0.0</td>\n",
       "    </tr>\n",
       "    <tr>\n",
       "      <td>3</td>\n",
       "      <td>3600</td>\n",
       "      <td>5.0</td>\n",
       "      <td>2008</td>\n",
       "      <td>1.0</td>\n",
       "      <td>69</td>\n",
       "      <td>101.0</td>\n",
       "      <td>90000</td>\n",
       "      <td>2.0</td>\n",
       "      <td>31.0</td>\n",
       "      <td>0.0</td>\n",
       "    </tr>\n",
       "    <tr>\n",
       "      <td>4</td>\n",
       "      <td>650</td>\n",
       "      <td>4.0</td>\n",
       "      <td>1995</td>\n",
       "      <td>1.0</td>\n",
       "      <td>102</td>\n",
       "      <td>11.0</td>\n",
       "      <td>150000</td>\n",
       "      <td>6.0</td>\n",
       "      <td>2.0</td>\n",
       "      <td>1.0</td>\n",
       "    </tr>\n",
       "    <tr>\n",
       "      <td>...</td>\n",
       "      <td>...</td>\n",
       "      <td>...</td>\n",
       "      <td>...</td>\n",
       "      <td>...</td>\n",
       "      <td>...</td>\n",
       "      <td>...</td>\n",
       "      <td>...</td>\n",
       "      <td>...</td>\n",
       "      <td>...</td>\n",
       "      <td>...</td>\n",
       "    </tr>\n",
       "    <tr>\n",
       "      <td>276919</td>\n",
       "      <td>3200</td>\n",
       "      <td>4.0</td>\n",
       "      <td>2004</td>\n",
       "      <td>1.0</td>\n",
       "      <td>225</td>\n",
       "      <td>140.0</td>\n",
       "      <td>150000</td>\n",
       "      <td>6.0</td>\n",
       "      <td>30.0</td>\n",
       "      <td>1.0</td>\n",
       "    </tr>\n",
       "    <tr>\n",
       "      <td>276920</td>\n",
       "      <td>0</td>\n",
       "      <td>4.0</td>\n",
       "      <td>2005</td>\n",
       "      <td>1.0</td>\n",
       "      <td>0</td>\n",
       "      <td>78.0</td>\n",
       "      <td>150000</td>\n",
       "      <td>6.0</td>\n",
       "      <td>22.0</td>\n",
       "      <td>1.0</td>\n",
       "    </tr>\n",
       "    <tr>\n",
       "      <td>276921</td>\n",
       "      <td>1199</td>\n",
       "      <td>1.0</td>\n",
       "      <td>2000</td>\n",
       "      <td>0.0</td>\n",
       "      <td>101</td>\n",
       "      <td>106.0</td>\n",
       "      <td>125000</td>\n",
       "      <td>6.0</td>\n",
       "      <td>32.0</td>\n",
       "      <td>0.0</td>\n",
       "    </tr>\n",
       "    <tr>\n",
       "      <td>276922</td>\n",
       "      <td>9200</td>\n",
       "      <td>0.0</td>\n",
       "      <td>1996</td>\n",
       "      <td>1.0</td>\n",
       "      <td>102</td>\n",
       "      <td>224.0</td>\n",
       "      <td>150000</td>\n",
       "      <td>2.0</td>\n",
       "      <td>37.0</td>\n",
       "      <td>0.0</td>\n",
       "    </tr>\n",
       "    <tr>\n",
       "      <td>276923</td>\n",
       "      <td>3400</td>\n",
       "      <td>7.0</td>\n",
       "      <td>2002</td>\n",
       "      <td>1.0</td>\n",
       "      <td>100</td>\n",
       "      <td>116.0</td>\n",
       "      <td>150000</td>\n",
       "      <td>2.0</td>\n",
       "      <td>37.0</td>\n",
       "      <td>0.0</td>\n",
       "    </tr>\n",
       "  </tbody>\n",
       "</table>\n",
       "<p>276924 rows × 10 columns</p>\n",
       "</div>"
      ],
      "text/plain": [
       "        Price  VehicleType  RegistrationYear  Gearbox  Power  Model  \\\n",
       "0         480          4.0              1993      1.0      0  116.0   \n",
       "1        9800          6.0              2004      0.0    163  117.0   \n",
       "2        1500          5.0              2001      1.0     75  116.0   \n",
       "3        3600          5.0              2008      1.0     69  101.0   \n",
       "4         650          4.0              1995      1.0    102   11.0   \n",
       "...       ...          ...               ...      ...    ...    ...   \n",
       "276919   3200          4.0              2004      1.0    225  140.0   \n",
       "276920      0          4.0              2005      1.0      0   78.0   \n",
       "276921   1199          1.0              2000      0.0    101  106.0   \n",
       "276922   9200          0.0              1996      1.0    102  224.0   \n",
       "276923   3400          7.0              2002      1.0    100  116.0   \n",
       "\n",
       "        Kilometer  FuelType  Brand  NotRepaired  \n",
       "0          150000       6.0   37.0          1.0  \n",
       "1          125000       2.0   14.0          0.0  \n",
       "2          150000       6.0   37.0          0.0  \n",
       "3           90000       2.0   31.0          0.0  \n",
       "4          150000       6.0    2.0          1.0  \n",
       "...           ...       ...    ...          ...  \n",
       "276919     150000       6.0   30.0          1.0  \n",
       "276920     150000       6.0   22.0          1.0  \n",
       "276921     125000       6.0   32.0          0.0  \n",
       "276922     150000       2.0   37.0          0.0  \n",
       "276923     150000       2.0   37.0          0.0  \n",
       "\n",
       "[276924 rows x 10 columns]"
      ]
     },
     "execution_count": 61,
     "metadata": {},
     "output_type": "execute_result"
    }
   ],
   "source": [
    "df_learning"
   ]
  },
  {
   "cell_type": "code",
   "execution_count": 63,
   "metadata": {},
   "outputs": [],
   "source": [
    "#чтобы не переписывать переменные далее по коду, перезапишем df_oe\n",
    "df_oe = df_learning"
   ]
  },
  {
   "cell_type": "code",
   "execution_count": 64,
   "metadata": {},
   "outputs": [
    {
     "data": {
      "text/html": [
       "<div>\n",
       "<style scoped>\n",
       "    .dataframe tbody tr th:only-of-type {\n",
       "        vertical-align: middle;\n",
       "    }\n",
       "\n",
       "    .dataframe tbody tr th {\n",
       "        vertical-align: top;\n",
       "    }\n",
       "\n",
       "    .dataframe thead th {\n",
       "        text-align: right;\n",
       "    }\n",
       "</style>\n",
       "<table border=\"1\" class=\"dataframe\">\n",
       "  <thead>\n",
       "    <tr style=\"text-align: right;\">\n",
       "      <th></th>\n",
       "      <th>Price</th>\n",
       "      <th>VehicleType</th>\n",
       "      <th>RegistrationYear</th>\n",
       "      <th>Gearbox</th>\n",
       "      <th>Power</th>\n",
       "      <th>Model</th>\n",
       "      <th>Kilometer</th>\n",
       "      <th>FuelType</th>\n",
       "      <th>Brand</th>\n",
       "      <th>NotRepaired</th>\n",
       "    </tr>\n",
       "  </thead>\n",
       "  <tbody>\n",
       "    <tr>\n",
       "      <td>0</td>\n",
       "      <td>480</td>\n",
       "      <td>4.0</td>\n",
       "      <td>1993</td>\n",
       "      <td>1.0</td>\n",
       "      <td>0</td>\n",
       "      <td>116.0</td>\n",
       "      <td>150000</td>\n",
       "      <td>6.0</td>\n",
       "      <td>37.0</td>\n",
       "      <td>1.0</td>\n",
       "    </tr>\n",
       "    <tr>\n",
       "      <td>1</td>\n",
       "      <td>9800</td>\n",
       "      <td>6.0</td>\n",
       "      <td>2004</td>\n",
       "      <td>0.0</td>\n",
       "      <td>163</td>\n",
       "      <td>117.0</td>\n",
       "      <td>125000</td>\n",
       "      <td>2.0</td>\n",
       "      <td>14.0</td>\n",
       "      <td>0.0</td>\n",
       "    </tr>\n",
       "    <tr>\n",
       "      <td>2</td>\n",
       "      <td>1500</td>\n",
       "      <td>5.0</td>\n",
       "      <td>2001</td>\n",
       "      <td>1.0</td>\n",
       "      <td>75</td>\n",
       "      <td>116.0</td>\n",
       "      <td>150000</td>\n",
       "      <td>6.0</td>\n",
       "      <td>37.0</td>\n",
       "      <td>0.0</td>\n",
       "    </tr>\n",
       "    <tr>\n",
       "      <td>3</td>\n",
       "      <td>3600</td>\n",
       "      <td>5.0</td>\n",
       "      <td>2008</td>\n",
       "      <td>1.0</td>\n",
       "      <td>69</td>\n",
       "      <td>101.0</td>\n",
       "      <td>90000</td>\n",
       "      <td>2.0</td>\n",
       "      <td>31.0</td>\n",
       "      <td>0.0</td>\n",
       "    </tr>\n",
       "    <tr>\n",
       "      <td>4</td>\n",
       "      <td>650</td>\n",
       "      <td>4.0</td>\n",
       "      <td>1995</td>\n",
       "      <td>1.0</td>\n",
       "      <td>102</td>\n",
       "      <td>11.0</td>\n",
       "      <td>150000</td>\n",
       "      <td>6.0</td>\n",
       "      <td>2.0</td>\n",
       "      <td>1.0</td>\n",
       "    </tr>\n",
       "  </tbody>\n",
       "</table>\n",
       "</div>"
      ],
      "text/plain": [
       "   Price  VehicleType  RegistrationYear  Gearbox  Power  Model  Kilometer  \\\n",
       "0    480          4.0              1993      1.0      0  116.0     150000   \n",
       "1   9800          6.0              2004      0.0    163  117.0     125000   \n",
       "2   1500          5.0              2001      1.0     75  116.0     150000   \n",
       "3   3600          5.0              2008      1.0     69  101.0      90000   \n",
       "4    650          4.0              1995      1.0    102   11.0     150000   \n",
       "\n",
       "   FuelType  Brand  NotRepaired  \n",
       "0       6.0   37.0          1.0  \n",
       "1       2.0   14.0          0.0  \n",
       "2       6.0   37.0          0.0  \n",
       "3       2.0   31.0          0.0  \n",
       "4       6.0    2.0          1.0  "
      ]
     },
     "execution_count": 64,
     "metadata": {},
     "output_type": "execute_result"
    }
   ],
   "source": [
    "df_oe.head()"
   ]
  },
  {
   "cell_type": "markdown",
   "metadata": {},
   "source": [
    "Видим, что категориальные перменные закодировались"
   ]
  },
  {
   "cell_type": "code",
   "execution_count": 65,
   "metadata": {},
   "outputs": [],
   "source": [
    "best_result = 10000000"
   ]
  },
  {
   "cell_type": "code",
   "execution_count": 66,
   "metadata": {},
   "outputs": [],
   "source": [
    "features_oe = df_oe.drop(['Price'], axis=1)\n",
    "target_oe = df_oe['Price']"
   ]
  },
  {
   "cell_type": "code",
   "execution_count": 67,
   "metadata": {},
   "outputs": [],
   "source": [
    "#разобьем нашу выборку на обучающую, валидационную и тестовую\n",
    "features_train_oe, features_valid_oe, target_train_oe, target_valid_oe = train_test_split(features_oe, target_oe, test_size = 0.4, random_state=12345)\n",
    "features_valid_oe, features_test_oe, target_valid_oe, target_test_oe = train_test_split(features_valid_oe, target_valid_oe, test_size = 0.5, random_state=12345)"
   ]
  },
  {
   "cell_type": "code",
   "execution_count": 68,
   "metadata": {},
   "outputs": [
    {
     "name": "stdout",
     "output_type": "stream",
     "text": [
      "depth = 1\n",
      "depth = 2\n",
      "depth = 3\n",
      "depth = 4\n",
      "depth = 5\n",
      "depth = 6\n",
      "depth = 7\n",
      "depth = 8\n",
      "depth = 9\n",
      "depth = 10\n",
      "CPU times: user 5min 6s, sys: 0 ns, total: 5min 6s\n",
      "Wall time: 5min 8s\n"
     ]
    }
   ],
   "source": [
    "%%time\n",
    "for i in range(1,max_depth + 1):\n",
    "    print('depth =', i)\n",
    "    model = RandomForestRegressor(n_estimators = 200, max_depth = i, random_state = 12345)\n",
    "    model.fit(features_train_oe, target_train_oe)\n",
    "    predictions = model.predict(features_valid_oe)\n",
    "    rmse = mean_squared_error(target_valid_oe, predictions) ** 0.5\n",
    "    \n",
    "    if rmse < best_result:\n",
    "        best_model = model\n",
    "        best_depth = i\n",
    "        best_result = rmse        "
   ]
  },
  {
   "cell_type": "code",
   "execution_count": 69,
   "metadata": {},
   "outputs": [
    {
     "name": "stdout",
     "output_type": "stream",
     "text": [
      "Модель случайный лес:\n",
      "\n",
      "RMSE = 2017.9625552525565\n",
      "Глубина depth = 10\n"
     ]
    }
   ],
   "source": [
    "show('случайный лес', best_result, best_depth)"
   ]
  },
  {
   "cell_type": "code",
   "execution_count": 70,
   "metadata": {},
   "outputs": [
    {
     "name": "stdout",
     "output_type": "stream",
     "text": [
      "CPU times: user 52.7 s, sys: 0 ns, total: 52.7 s\n",
      "Wall time: 53.2 s\n"
     ]
    },
    {
     "data": {
      "text/plain": [
       "RandomForestRegressor(bootstrap=True, criterion='mse', max_depth=10,\n",
       "                      max_features='auto', max_leaf_nodes=None,\n",
       "                      min_impurity_decrease=0.0, min_impurity_split=None,\n",
       "                      min_samples_leaf=1, min_samples_split=2,\n",
       "                      min_weight_fraction_leaf=0.0, n_estimators=200,\n",
       "                      n_jobs=None, oob_score=False, random_state=12345,\n",
       "                      verbose=0, warm_start=False)"
      ]
     },
     "execution_count": 70,
     "metadata": {},
     "output_type": "execute_result"
    }
   ],
   "source": [
    "%%time\n",
    "best_model.fit(features_train_oe, target_train_oe)"
   ]
  },
  {
   "cell_type": "code",
   "execution_count": 71,
   "metadata": {},
   "outputs": [
    {
     "name": "stdout",
     "output_type": "stream",
     "text": [
      "CPU times: user 1.24 s, sys: 0 ns, total: 1.24 s\n",
      "Wall time: 1.24 s\n"
     ]
    },
    {
     "data": {
      "text/plain": [
       "array([ 9165.1603555 ,  5594.91908621, 16075.6036758 , ...,\n",
       "        2544.29063088, 14630.33453469,  6279.55307835])"
      ]
     },
     "execution_count": 71,
     "metadata": {},
     "output_type": "execute_result"
    }
   ],
   "source": [
    "%%time\n",
    "best_model.predict(features_valid_oe)"
   ]
  },
  {
   "cell_type": "markdown",
   "metadata": {},
   "source": [
    "Обучение модели при подборе гиперпараметров всего 5 мин (катбуст 15 мин). rmse всего 2018, у catboostа 1800. Время обучения по подобраным параметрам 53,2с (катбуст 3 минуты)."
   ]
  },
  {
   "cell_type": "code",
   "execution_count": 72,
   "metadata": {},
   "outputs": [],
   "source": [
    "#проверим качество на тестовой выборке\n",
    "predict_test_oe = best_model.predict(features_test_oe)"
   ]
  },
  {
   "cell_type": "code",
   "execution_count": 73,
   "metadata": {},
   "outputs": [
    {
     "data": {
      "text/plain": [
       "2004.8006971949535"
      ]
     },
     "execution_count": 73,
     "metadata": {},
     "output_type": "execute_result"
    }
   ],
   "source": [
    "rmse = mean_squared_error(target_test_oe, predict_test_oe) ** 0.5\n",
    "rmse"
   ]
  },
  {
   "cell_type": "markdown",
   "metadata": {},
   "source": [
    "Опять же на тестовой выборке результат лучше, чем на валидационной. Проверим LGBMRegressor"
   ]
  },
  {
   "cell_type": "markdown",
   "metadata": {},
   "source": [
    "<a id='section_id5'></a>"
   ]
  },
  {
   "cell_type": "markdown",
   "metadata": {},
   "source": [
    "## 2.3 Градиентный бустинг LightGBM"
   ]
  },
  {
   "cell_type": "code",
   "execution_count": 74,
   "metadata": {},
   "outputs": [
    {
     "name": "stdout",
     "output_type": "stream",
     "text": [
      "depth = 1\n",
      "depth = 2\n",
      "depth = 3\n",
      "depth = 4\n",
      "depth = 5\n",
      "depth = 6\n",
      "depth = 7\n",
      "depth = 8\n",
      "depth = 9\n",
      "depth = 10\n",
      "CPU times: user 7min 50s, sys: 1.6 s, total: 7min 52s\n",
      "Wall time: 7min 56s\n"
     ]
    }
   ],
   "source": [
    "%%time\n",
    "for i in range(1,max_depth + 1):\n",
    "    print('depth =', i)\n",
    "    model = LGBMRegressor(max_depth = i, n_estimators = 200, random_state = 12345)\n",
    "    model.fit(features_train_oe, target_train_oe)\n",
    "    predictions = model.predict(features_valid_oe)\n",
    "    rmse = mean_squared_error(target_valid_oe, predictions) ** 0.5\n",
    "    \n",
    "    if rmse < best_result:\n",
    "        best_model = model\n",
    "        best_depth = i\n",
    "        best_result = rmse"
   ]
  },
  {
   "cell_type": "code",
   "execution_count": 75,
   "metadata": {},
   "outputs": [
    {
     "name": "stdout",
     "output_type": "stream",
     "text": [
      "Модель LightGBM:\n",
      "\n",
      "RMSE = 1784.1116123508962\n",
      "Глубина depth = 10\n"
     ]
    }
   ],
   "source": [
    "show('LightGBM', best_result, best_depth)"
   ]
  },
  {
   "cell_type": "code",
   "execution_count": 76,
   "metadata": {},
   "outputs": [
    {
     "name": "stdout",
     "output_type": "stream",
     "text": [
      "CPU times: user 12.2 s, sys: 95.9 ms, total: 12.3 s\n",
      "Wall time: 12.4 s\n"
     ]
    },
    {
     "data": {
      "text/plain": [
       "LGBMRegressor(boosting_type='gbdt', class_weight=None, colsample_bytree=1.0,\n",
       "              importance_type='split', learning_rate=0.1, max_depth=10,\n",
       "              min_child_samples=20, min_child_weight=0.001, min_split_gain=0.0,\n",
       "              n_estimators=200, n_jobs=-1, num_leaves=31, objective=None,\n",
       "              random_state=12345, reg_alpha=0.0, reg_lambda=0.0, silent=True,\n",
       "              subsample=1.0, subsample_for_bin=200000, subsample_freq=0)"
      ]
     },
     "execution_count": 76,
     "metadata": {},
     "output_type": "execute_result"
    }
   ],
   "source": [
    "%%time\n",
    "best_model.fit(features_train_oe, target_train_oe)"
   ]
  },
  {
   "cell_type": "code",
   "execution_count": 77,
   "metadata": {},
   "outputs": [
    {
     "name": "stdout",
     "output_type": "stream",
     "text": [
      "CPU times: user 1.29 s, sys: 0 ns, total: 1.29 s\n",
      "Wall time: 1.29 s\n"
     ]
    },
    {
     "data": {
      "text/plain": [
       "array([ 9519.26449663,  5376.00569942, 17040.10256715, ...,\n",
       "        2504.08660474, 16029.26348785,  5649.34968866])"
      ]
     },
     "execution_count": 77,
     "metadata": {},
     "output_type": "execute_result"
    }
   ],
   "source": [
    "%%time\n",
    "model.predict(features_valid_oe)"
   ]
  },
  {
   "cell_type": "markdown",
   "metadata": {},
   "source": [
    "Общее время время поиска гиперпараметра depth составило всего 8 минут. Обучение при выбранных параметрах всего 12,5 секунд. RMSE = 1784."
   ]
  },
  {
   "cell_type": "code",
   "execution_count": 78,
   "metadata": {},
   "outputs": [],
   "source": [
    "predict_test_oe_light_gbm = best_model.predict(features_test_oe)"
   ]
  },
  {
   "cell_type": "code",
   "execution_count": 79,
   "metadata": {},
   "outputs": [
    {
     "data": {
      "text/plain": [
       "1761.5913330098608"
      ]
     },
     "execution_count": 79,
     "metadata": {},
     "output_type": "execute_result"
    }
   ],
   "source": [
    "rmse = mean_squared_error(target_test_oe, predict_test_oe_light_gbm) ** 0.5\n",
    "rmse"
   ]
  },
  {
   "cell_type": "markdown",
   "metadata": {},
   "source": [
    "И опять же на тестовой выборке все гораздо лучше чем на валидационной выборке"
   ]
  },
  {
   "cell_type": "markdown",
   "metadata": {},
   "source": [
    "# 3. Анализ моделей"
   ]
  },
  {
   "cell_type": "markdown",
   "metadata": {},
   "source": [
    "Итак, были протестированы 3 модели машинного обучения:<br>\n",
    "1. Градиентный бустинг библиотеки CatBoost. Скорость обучения и подбора параметров около 15 мин, стандартное отклонение на валидационной выборке 1836 евро, на тесте 1822 евро. Время обучения по найденным параметрам 3 мин, время предсказания 322 мс, очень быстро. <br>\n",
    "2. Градиентный бустинг LightGBM. Данная модель работает с категориальными переменными с ое кодировкой. Результат получился наилучшим среди трех представленных моделей. Время обучения и поиска параметров 8 минут (быстрее catboost'а, но дольше модели случайного леса), Стандартное отклонение на валидации 1784 евро (лучший результат), на тесте 1766 евро. Время обучения по параметрам 12 секунд, время предсказания 1,29 сек. \n",
    "3. Модель Случаный лес. Модель показала наихудшую метрику качества из трех представленных (стандартное отклонение на валидации 2018 евро, на тесте 2004 евро). По скорости обучения и подбора параметров около 5 минут (лучшее время). Обучение по параметрам 53 секунды, быстрее чем у градиентных бустингов. Время предсказания 1,24 секунды. \n",
    "\n",
    "Итак, если мы хотим быстро построить модель, то тут модель случайный лес выигрывает у своих конкурентов. Если же мы хотим получить хорошую метрику качества, то тут LightGBM и CatBoost (метрики они показали примерно одинаковые), но LightGBM быстрее ищет параметры и быстрее обучается."
   ]
  }
 ],
 "metadata": {
  "kernelspec": {
   "display_name": "Python 3",
   "language": "python",
   "name": "python3"
  },
  "language_info": {
   "codemirror_mode": {
    "name": "ipython",
    "version": 3
   },
   "file_extension": ".py",
   "mimetype": "text/x-python",
   "name": "python",
   "nbconvert_exporter": "python",
   "pygments_lexer": "ipython3",
   "version": "3.7.6"
  },
  "toc": {
   "base_numbering": 1,
   "nav_menu": {},
   "number_sections": true,
   "sideBar": true,
   "skip_h1_title": false,
   "title_cell": "Table of Contents",
   "title_sidebar": "Contents",
   "toc_cell": false,
   "toc_position": {},
   "toc_section_display": true,
   "toc_window_display": false
  }
 },
 "nbformat": 4,
 "nbformat_minor": 2
}
